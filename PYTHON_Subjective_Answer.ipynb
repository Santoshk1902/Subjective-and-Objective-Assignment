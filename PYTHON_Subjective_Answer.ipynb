{
 "cells": [
  {
   "cell_type": "code",
   "execution_count": null,
   "metadata": {},
   "outputs": [],
   "source": [
    "Q1."
   ]
  },
  {
   "cell_type": "code",
   "execution_count": 2,
   "metadata": {},
   "outputs": [
    {
     "name": "stdout",
     "output_type": "stream",
     "text": [
      "pros$ect\n"
     ]
    }
   ],
   "source": [
    "def replace_char(str1):   \n",
    "    char = str1[0]   \n",
    "    str1 = str1.replace(char, '$')   \n",
    "    str1 = char + str1[1:] \n",
    "    return str1 \n",
    " \n",
    "print(replace_char('prospect')) "
   ]
  },
  {
   "cell_type": "code",
   "execution_count": null,
   "metadata": {},
   "outputs": [],
   "source": [
    "Q2."
   ]
  },
  {
   "cell_type": "code",
   "execution_count": 3,
   "metadata": {},
   "outputs": [
    {
     "name": "stdout",
     "output_type": "stream",
     "text": [
      "xyc abz\n"
     ]
    }
   ],
   "source": [
    "def chars_mix_up(a, b): \n",
    "    new_a = b[:2] + a[2:] \n",
    "    new_b = a[:2] + b[2:] \n",
    "    return new_a + ' ' + new_b \n",
    "print(chars_mix_up('abc', 'xyz')) "
   ]
  },
  {
   "cell_type": "code",
   "execution_count": null,
   "metadata": {},
   "outputs": [],
   "source": [
    "Q3."
   ]
  },
  {
   "cell_type": "code",
   "execution_count": null,
   "metadata": {},
   "outputs": [],
   "source": [
    "def get_String(str1):\n",
    "    outstr = str1\n",
    "    lenght = len(str1) \n",
    "    if lenght > 2:\n",
    "        str2 = str1[-3:]\n",
    "        print(str2)\n",
    "        if str2 == \"ing\":\n",
    "            print(outstr +\"ly\")\n",
    "        else :\n",
    "            print(outstr +\"ing\")\n",
    "\n",
    "get_String(\"string\")\n",
    "get_String(\"acdef\")\n"
   ]
  },
  {
   "cell_type": "code",
   "execution_count": null,
   "metadata": {},
   "outputs": [],
   "source": [
    "Q4."
   ]
  },
  {
   "cell_type": "code",
   "execution_count": 1,
   "metadata": {},
   "outputs": [
    {
     "name": "stdout",
     "output_type": "stream",
     "text": [
      "The lyrics is good!\n",
      "The lyrics is poor!\n"
     ]
    }
   ],
   "source": [
    "def not_poor(str1):\n",
    "    snot = str1.find('not')   \n",
    "    spoor = str1.find('poor')    \n",
    "    if spoor > snot and snot>0 and spoor>0:     \n",
    "        str1 = str1.replace(str1[snot:(spoor+4)], 'good')     \n",
    "        return str1   \n",
    "    else:     \n",
    "        return str1 \n",
    "    \n",
    "print(not_poor('The lyrics is not that poor!')) \n",
    "print(not_poor('The lyrics is poor!')) "
   ]
  },
  {
   "cell_type": "code",
   "execution_count": null,
   "metadata": {},
   "outputs": [],
   "source": [
    "Q5."
   ]
  },
  {
   "cell_type": "code",
   "execution_count": 2,
   "metadata": {},
   "outputs": [
    {
     "name": "stdout",
     "output_type": "stream",
     "text": [
      "Lann\n",
      "Mcie\n"
     ]
    }
   ],
   "source": [
    "def odd_chars_in_string(str):   \n",
    "    result = \"\"    \n",
    "    for i in range(len(str)):     \n",
    "        if i % 2 == 0:       \n",
    "            result = result + str[i]   \n",
    "    return result \n",
    " \n",
    "print(odd_chars_in_string('Learning')) \n",
    "print(odd_chars_in_string('Machine'))"
   ]
  },
  {
   "cell_type": "code",
   "execution_count": null,
   "metadata": {},
   "outputs": [],
   "source": [
    "Q6."
   ]
  },
  {
   "cell_type": "code",
   "execution_count": 3,
   "metadata": {},
   "outputs": [
    {
     "name": "stdout",
     "output_type": "stream",
     "text": [
      "babababa\n",
      "tgtgtgtg\n"
     ]
    }
   ],
   "source": [
    "def insert_end(str): \n",
    "    sub_str = str[-2:] \n",
    "    return sub_str * 4 \n",
    " \n",
    "print(insert_end('abababba')) \n",
    "print(insert_end('tltkhretg')) "
   ]
  },
  {
   "cell_type": "code",
   "execution_count": null,
   "metadata": {},
   "outputs": [],
   "source": [
    "Q7."
   ]
  },
  {
   "cell_type": "code",
   "execution_count": 4,
   "metadata": {},
   "outputs": [
    {
     "name": "stdout",
     "output_type": "stream",
     "text": [
      "Hi\n",
      "Hel\n",
      "AML\n"
     ]
    }
   ],
   "source": [
    "def get_first_3Char(str): \n",
    "    if len(str) > 3: \n",
    "        return str[:3] \n",
    "    else:\n",
    "        return str \n",
    " \n",
    "print(get_first_3Char('Hi')) \n",
    "print(get_first_3Char('Hello')) \n",
    "print(get_first_3Char('AML')) "
   ]
  },
  {
   "cell_type": "code",
   "execution_count": null,
   "metadata": {},
   "outputs": [],
   "source": [
    "Q8."
   ]
  },
  {
   "cell_type": "code",
   "execution_count": 5,
   "metadata": {},
   "outputs": [
    {
     "name": "stdout",
     "output_type": "stream",
     "text": [
      "\n",
      "Original Number:  2.23606797749979\n",
      "Formatted Number: 2.24\n",
      "Original Number:  2.6457513110645907\n",
      "Formatted Number: 2.65\n",
      "\n"
     ]
    }
   ],
   "source": [
    "import math\n",
    "x = math.sqrt(5)\n",
    "y = math.sqrt(7) \n",
    "print(\"\\nOriginal Number: \", x) \n",
    "print(\"Formatted Number: \"+\"{:.2f}\".format(x)); \n",
    "print(\"Original Number: \", y) \n",
    "print(\"Formatted Number: \"+\"{:.2f}\".format(y)); \n",
    "print()"
   ]
  },
  {
   "cell_type": "code",
   "execution_count": null,
   "metadata": {},
   "outputs": [],
   "source": [
    "Q9."
   ]
  },
  {
   "cell_type": "code",
   "execution_count": 6,
   "metadata": {},
   "outputs": [
    {
     "name": "stdout",
     "output_type": "stream",
     "text": [
      "\n",
      "Original Number:  0.25\n",
      "Formatted Number with percentage: 25.00%\n"
     ]
    }
   ],
   "source": [
    "x = 0.25 \n",
    "print(\"\\nOriginal Number: \", x) \n",
    "print(\"Formatted Number with percentage: \"+\"{:.2%}\".format(x))"
   ]
  },
  {
   "cell_type": "code",
   "execution_count": null,
   "metadata": {},
   "outputs": [],
   "source": [
    "Q10."
   ]
  },
  {
   "cell_type": "code",
   "execution_count": 7,
   "metadata": {},
   "outputs": [
    {
     "name": "stdout",
     "output_type": "stream",
     "text": [
      "2\n",
      "\n"
     ]
    }
   ],
   "source": [
    "str1 = 'Learning DL and Learning ML .' \n",
    "print(str1.count(\"Learning\")) \n",
    "print() "
   ]
  },
  {
   "cell_type": "code",
   "execution_count": null,
   "metadata": {},
   "outputs": [],
   "source": [
    "Q11."
   ]
  },
  {
   "cell_type": "code",
   "execution_count": 9,
   "metadata": {},
   "outputs": [
    {
     "name": "stdout",
     "output_type": "stream",
     "text": [
      "o 4\n",
      "e 3\n",
      "t 2\n",
      "h 2\n",
      "u 2\n",
      "r 2\n"
     ]
    }
   ],
   "source": [
    "import collections \n",
    "str1 = 'thequickbrownfoxjumpsoverthelazydog' \n",
    "d = collections.defaultdict(int) \n",
    "for c in str1:     \n",
    "    d[c] += 1 \n",
    " \n",
    "for c in sorted(d, key=d.get, reverse=True):   \n",
    "    if d[c] > 1:       \n",
    "        print('%s %d' % (c, d[c])) "
   ]
  },
  {
   "cell_type": "code",
   "execution_count": null,
   "metadata": {},
   "outputs": [],
   "source": [
    "Q12."
   ]
  },
  {
   "cell_type": "code",
   "execution_count": 10,
   "metadata": {},
   "outputs": [
    {
     "name": "stdout",
     "output_type": "stream",
     "text": [
      "The area of the rectangle is 1256.66cm²\n",
      "The volume of the cylinder is 1254.725cm³\n"
     ]
    }
   ],
   "source": [
    "area = 1256.66 \n",
    "volume = 1254.725 \n",
    "decimals = 2 \n",
    "print(\"The area of the rectangle is {0:.{1}f}cm\\u00b2\".format(area, decimals)) \n",
    "decimals = 3 \n",
    "print(\"The volume of the cylinder is {0:.{1}f}cm\\u00b3\".format(volume, decimals)) "
   ]
  },
  {
   "cell_type": "code",
   "execution_count": null,
   "metadata": {},
   "outputs": [],
   "source": [
    "Q13."
   ]
  },
  {
   "cell_type": "code",
   "execution_count": 11,
   "metadata": {},
   "outputs": [
    {
     "name": "stdout",
     "output_type": "stream",
     "text": [
      "True\n",
      "False\n"
     ]
    }
   ],
   "source": [
    "import string \n",
    "alphabet = set(string.ascii_lowercase) \n",
    "input_string = 'The quick brown fox jumps over the lazy dog' \n",
    "print(set(input_string.lower()) >= alphabet) \n",
    "input_string = 'The quick brown fox jumps over the lazy cat' \n",
    "print(set(input_string.lower()) >= alphabet) "
   ]
  },
  {
   "cell_type": "code",
   "execution_count": null,
   "metadata": {},
   "outputs": [],
   "source": [
    "Q14."
   ]
  },
  {
   "cell_type": "code",
   "execution_count": 12,
   "metadata": {},
   "outputs": [
    {
     "name": "stdout",
     "output_type": "stream",
     "text": [
      "('of', 4)\n"
     ]
    }
   ],
   "source": [
    "def word_count(str):     \n",
    "    counts = dict()     \n",
    "    words = str.split() \n",
    " \n",
    "    for word in words:         \n",
    "        if word in counts:             \n",
    "            counts[word] += 1         \n",
    "        else:             \n",
    "            counts[word] = 1 \n",
    " \n",
    "    counts_x = sorted(counts.items(), key=lambda kv: kv[1])    \n",
    "    #print(counts_x)     \n",
    "    return counts_x[-2]   \n",
    "print(word_count(\"Both of these issues are fixed by postponing the evaluation of annotations. Instead of compiling code which executes expressions in annotations at their definition time, the compiler stores the annotation in a string form equivalent to the AST of the expression in question. If needed, annotations can be resolved at runtime using typing.get_type_hints(). In the common case where this is not required, the annotations are cheaper to store (since short strings are interned by the interpreter) and make startup time faster.\")) "
   ]
  },
  {
   "cell_type": "code",
   "execution_count": null,
   "metadata": {},
   "outputs": [],
   "source": [
    "Q15."
   ]
  },
  {
   "cell_type": "code",
   "execution_count": 16,
   "metadata": {},
   "outputs": [
    {
     "name": "stdout",
     "output_type": "stream",
     "text": [
      "Original Strings:\n",
      " PRWSOERIUSFK \n",
      " OSU\n",
      "Minimum window:\n",
      "OERIUS\n"
     ]
    }
   ],
   "source": [
    "import collections \n",
    "def min_window(str1, str2):     \n",
    "    result_char, missing_char = collections.Counter(str2), len(str2)     \n",
    "    i = p = q = 0     \n",
    "    for j, c in enumerate(str1, 1):         \n",
    "        missing_char -= result_char[c] > 0         \n",
    "        result_char[c] -= 1         \n",
    "        if not missing_char:            \n",
    "            while i < q and result_char[str1[i]] < 0:                \n",
    "                result_char[str1[i]] += 1                 \n",
    "                i += 1             \n",
    "            if not q or j - i <= q - p:                \n",
    "                p, q = i, j     \n",
    "    return str1[p:q]             \n",
    "str1 = \"PRWSOERIUSFK\" \n",
    "str2 = \"OSU\" \n",
    "print(\"Original Strings:\\n\",str1,\"\\n\",str2) \n",
    "print(\"Minimum window:\") \n",
    "print(min_window(str1,str2)) "
   ]
  },
  {
   "cell_type": "code",
   "execution_count": null,
   "metadata": {},
   "outputs": [],
   "source": [
    "Q16."
   ]
  },
  {
   "cell_type": "code",
   "execution_count": 17,
   "metadata": {},
   "outputs": [
    {
     "name": "stdout",
     "output_type": "stream",
     "text": [
      "Original Strings:\n",
      " asdaewsqgtwwsa\n",
      "\n",
      "Smallest window that contains all characters of the said string:\n",
      "daewsqgt\n"
     ]
    }
   ],
   "source": [
    "from collections import defaultdict    \n",
    " \n",
    "def find_sub_string(str):  \n",
    "    str_len = len(str)  \n",
    "       \n",
    "    # Count all distinct characters.  \n",
    "    dist_count_char = len(set([x for x in str]))  \n",
    "   \n",
    "    ctr, start_pos, start_pos_index, min_len = 0, 0, -1, 9999999999 \n",
    "    curr_count = defaultdict(lambda: 0)  \n",
    "    for i in range(str_len):  \n",
    "        curr_count[str[i]] += 1 \n",
    "  \n",
    "        if curr_count[str[i]] == 1:  \n",
    "            ctr += 1 \n",
    "   \n",
    "        if ctr == dist_count_char:  \n",
    "            while curr_count[str[start_pos]] > 1:  \n",
    "                if curr_count[str[start_pos]] > 1:  \n",
    "                    curr_count[str[start_pos]] -= 1 \n",
    "                start_pos += 1 \n",
    "   \n",
    "            len_window = i - start_pos + 1 \n",
    "            if min_len > len_window:\n",
    "                min_len = len_window  \n",
    "                start_pos_index = start_pos  \n",
    "    return str[start_pos_index: start_pos_index + min_len]  \n",
    "       \n",
    "str1 = \"asdaewsqgtwwsa\" \n",
    "print(\"Original Strings:\\n\",str1) \n",
    "print(\"\\nSmallest window that contains all characters of the said string:\") \n",
    "print(find_sub_string(str1)) "
   ]
  },
  {
   "cell_type": "code",
   "execution_count": null,
   "metadata": {},
   "outputs": [],
   "source": [
    "Q17."
   ]
  },
  {
   "cell_type": "code",
   "execution_count": 28,
   "metadata": {},
   "outputs": [
    {
     "name": "stdout",
     "output_type": "stream",
     "text": [
      "Input a string (lowercase alphabets):santosh is learning ml\n",
      "Input k: 2\n",
      "Number of substrings with exactly 2 distinct characters : 0\n"
     ]
    }
   ],
   "source": [
    "def count_k_dist(str1, k):   \n",
    "    str_len = len(str1)     \n",
    "    result = 0 \n",
    "    ctr = [0] * 27 \n",
    " \n",
    "    for i in range(0, str_len):    \n",
    "        dist_ctr = 0 \n",
    " \n",
    "    ctr = [0] * 27 \n",
    "    for j in range(i, str_len):         \n",
    "        if(ctr[ord(str1[j]) - 97] == 0):      \n",
    "            dist_ctr += 1 \n",
    "            ctr[ord(str1[j]) - 97] += 1  \n",
    "            if(dist_ctr == k):      \n",
    "                result += 1    \n",
    "            if(dist_ctr > k):      \n",
    "                break \n",
    "    return result  \n",
    " \n",
    "str1 = input(\"Input a string (lowercase alphabets):\") \n",
    "k = int(input(\"Input k: \")) \n",
    " \n",
    "print(\"Number of substrings with exactly\", k, \"distinct characters : \", end = \"\")  \n",
    "print(count_k_dist(str1, k)) "
   ]
  },
  {
   "cell_type": "code",
   "execution_count": null,
   "metadata": {},
   "outputs": [],
   "source": [
    "Q18."
   ]
  },
  {
   "cell_type": "code",
   "execution_count": 29,
   "metadata": {},
   "outputs": [
    {
     "name": "stdout",
     "output_type": "stream",
     "text": [
      "Input a string: test\n",
      "Number of substrings:\n",
      "10\n"
     ]
    }
   ],
   "source": [
    "def number_of_substrings(str):   \n",
    "    str_len = len(str)   \n",
    "    return int(str_len * (str_len + 1) / 2)  \n",
    " \n",
    "str1 = input(\"Input a string: \") \n",
    "print(\"Number of substrings:\")  \n",
    "print(number_of_substrings(str1)) "
   ]
  },
  {
   "cell_type": "code",
   "execution_count": null,
   "metadata": {},
   "outputs": [],
   "source": [
    "Q19."
   ]
  },
  {
   "cell_type": "code",
   "execution_count": 30,
   "metadata": {},
   "outputs": [
    {
     "name": "stdout",
     "output_type": "stream",
     "text": [
      "Input a string: Santosh\n",
      "1\n"
     ]
    }
   ],
   "source": [
    "def no_of_substring_with_equalEnds(str1):   \n",
    "    result = 0   \n",
    "    n = len(str1)   \n",
    "    for i in range(n):    \n",
    "        for j in range(i, n):     \n",
    "            if (str1[i] == str1[j]):      \n",
    "                result = result + 1  \n",
    "                return result \n",
    "str1 = input(\"Input a string: \") \n",
    "print(no_of_substring_with_equalEnds(str1)) "
   ]
  },
  {
   "cell_type": "code",
   "execution_count": null,
   "metadata": {},
   "outputs": [],
   "source": [
    "Q20."
   ]
  },
  {
   "cell_type": "code",
   "execution_count": 31,
   "metadata": {},
   "outputs": [
    {
     "name": "stdout",
     "output_type": "stream",
     "text": [
      "1\n"
     ]
    }
   ],
   "source": [
    "def match_words(words):   \n",
    "    ctr = 0 \n",
    "    for word in words:     \n",
    "        if len(word) > 1 and word[0] == word[-1]:       \n",
    "            ctr += 1   \n",
    "            return ctr \n",
    "print(match_words(['abc', 'xyz', 'aba', '1221'])) "
   ]
  },
  {
   "cell_type": "code",
   "execution_count": null,
   "metadata": {},
   "outputs": [],
   "source": [
    "Q21."
   ]
  },
  {
   "cell_type": "code",
   "execution_count": 32,
   "metadata": {},
   "outputs": [
    {
     "name": "stdout",
     "output_type": "stream",
     "text": [
      "[(2, 1), (1, 2), (2, 3), (4, 4), (2, 5)]\n"
     ]
    }
   ],
   "source": [
    "def last(n): \n",
    "    return n[-1] \n",
    "def sort_list_last(tuples):   \n",
    "    return sorted(tuples, key=last) \n",
    " \n",
    "print(sort_list_last([(2, 5), (1, 2), (4, 4), (2, 3), (2, 1)])) "
   ]
  },
  {
   "cell_type": "code",
   "execution_count": null,
   "metadata": {},
   "outputs": [],
   "source": [
    "Q22."
   ]
  },
  {
   "cell_type": "code",
   "execution_count": 34,
   "metadata": {},
   "outputs": [
    {
     "name": "stdout",
     "output_type": "stream",
     "text": [
      "{40, 10, 80, 50, 20, 60, 30}\n"
     ]
    }
   ],
   "source": [
    "a = [10,20,30,20,10,50,60,40,80,50,40] \n",
    "dup_items = set() \n",
    "uniq_items = [] \n",
    "for x in a: \n",
    "    if x not in dup_items: \n",
    "        uniq_items.append(x) \n",
    "        dup_items.add(x) \n",
    "\n",
    "print(dup_items) "
   ]
  },
  {
   "cell_type": "code",
   "execution_count": null,
   "metadata": {},
   "outputs": [],
   "source": [
    "Q23."
   ]
  },
  {
   "cell_type": "code",
   "execution_count": 35,
   "metadata": {},
   "outputs": [
    {
     "name": "stdout",
     "output_type": "stream",
     "text": [
      "['quick']\n"
     ]
    }
   ],
   "source": [
    "def long_words(n, str):     \n",
    "    word_len = []     \n",
    "    txt = str.split(\" \")     \n",
    "    for x in txt:         \n",
    "        if len(x) > n:             \n",
    "            word_len.append(x)     \n",
    "            return word_len  \n",
    "        \n",
    "print(long_words(3, \"The quick brown fox jumps over the lazy dog\")) "
   ]
  },
  {
   "cell_type": "code",
   "execution_count": null,
   "metadata": {},
   "outputs": [],
   "source": [
    "Q24."
   ]
  },
  {
   "cell_type": "code",
   "execution_count": 36,
   "metadata": {},
   "outputs": [
    {
     "name": "stdout",
     "output_type": "stream",
     "text": [
      "['Green', 'White', 'Black']\n"
     ]
    }
   ],
   "source": [
    "color = ['Red', 'Green', 'White', 'Black', 'Pink', 'Yellow'] \n",
    "color = [x for (i,x) in enumerate(color) if i not in (0,4,5)] \n",
    "print(color) "
   ]
  },
  {
   "cell_type": "code",
   "execution_count": null,
   "metadata": {},
   "outputs": [],
   "source": [
    "Q25."
   ]
  },
  {
   "cell_type": "code",
   "execution_count": null,
   "metadata": {},
   "outputs": [],
   "source": [
    "import itertools \n",
    "print(list(itertools.permutations([1,2,3]))) "
   ]
  },
  {
   "cell_type": "code",
   "execution_count": null,
   "metadata": {},
   "outputs": [],
   "source": [
    "Q26."
   ]
  },
  {
   "cell_type": "code",
   "execution_count": 38,
   "metadata": {},
   "outputs": [
    {
     "name": "stdout",
     "output_type": "stream",
     "text": [
      "Original List:  [(1, 2), (3, 4), (1, 2), (5, 6), (7, 8), (1, 2), (3, 4), (3, 4), (7, 8), (9, 10)]\n",
      "Sorted Unique Data: [1, 2, 3, 4, 5, 6, 7, 8, 9, 10]\n"
     ]
    }
   ],
   "source": [
    "L = [(1, 2), (3, 4), (1, 2), (5, 6), (7, 8), (1, 2), (3, 4), (3, 4), \n",
    " (7, 8), (9, 10)] \n",
    "print(\"Original List: \", L) \n",
    "print(\"Sorted Unique Data:\",sorted(set().union(*L))) "
   ]
  },
  {
   "cell_type": "code",
   "execution_count": null,
   "metadata": {},
   "outputs": [],
   "source": [
    "Q27."
   ]
  },
  {
   "cell_type": "code",
   "execution_count": null,
   "metadata": {},
   "outputs": [],
   "source": [
    "class Q27_solution:     \n",
    "    def int_to_Roman(self, num):         \n",
    "        val = [1000, 900, 500, 400, 100, 90, 50, 40,10, 9, 5, 4,1]         \n",
    "        syb = [ \"M\", \"CM\", \"D\", \"CD\", \"C\", \"XC\", \"L\", \"XL\", \"X\", \"IX\", \"V\", \"IV\",  \"I\" ]        \n",
    "        roman_num = ''         \n",
    "        i = 0         \n",
    "        while  num > 0:             \n",
    "            for _ in range(num // val[i]):                 \n",
    "                oman_num += syb[i]                 \n",
    "                num -= val[i]             \n",
    "                i += 1         \n",
    "        return roman_num \n",
    " \n",
    " \n",
    "print(Q27_solution().int_to_Roman(1)) \n",
    "print(Q27_solution().int_to_Roman(4000)) "
   ]
  },
  {
   "cell_type": "code",
   "execution_count": null,
   "metadata": {},
   "outputs": [],
   "source": [
    "Q28.\n"
   ]
  },
  {
   "cell_type": "code",
   "execution_count": 2,
   "metadata": {},
   "outputs": [
    {
     "name": "stdout",
     "output_type": "stream",
     "text": [
      "3986\n",
      "4000\n",
      "100\n"
     ]
    }
   ],
   "source": [
    "class py_solution:     \n",
    "    def roman_to_int(self, s):         \n",
    "        rom_val = {'I': 1, 'V': 5, 'X': 10, 'L': 50, 'C': 100, 'D': 500, 'M': 1000} \n",
    "        int_val = 0         \n",
    "        for i in range(len(s)):             \n",
    "            if i > 0 and rom_val[s[i]] > rom_val[s[i - 1]]:                 \n",
    "                int_val += rom_val[s[i]] - 2 * rom_val[s[i - 1]]             \n",
    "            else:                 \n",
    "                int_val += rom_val[s[i]]         \n",
    "        return int_val \n",
    "print(py_solution().roman_to_int('MMMCMLXXXVI')) \n",
    "print(py_solution().roman_to_int('MMMM')) \n",
    "print(py_solution().roman_to_int('C'))"
   ]
  },
  {
   "cell_type": "code",
   "execution_count": null,
   "metadata": {},
   "outputs": [],
   "source": [
    "Q29."
   ]
  },
  {
   "cell_type": "code",
   "execution_count": 1,
   "metadata": {},
   "outputs": [
    {
     "name": "stdout",
     "output_type": "stream",
     "text": [
      "True\n",
      "False\n",
      "True\n"
     ]
    }
   ],
   "source": [
    "class ml_solution:\n",
    "    def is_valid_parenthese(self, str1): \n",
    "        stack, pchar = [], {\"(\": \")\", \"{\": \"}\", \"[\": \"]\"} \n",
    "        for parenthese in str1: \n",
    "            if parenthese in pchar: \n",
    "                stack.append(parenthese) \n",
    "            elif len(stack) == 0 or pchar[stack.pop()] != parenthese: \n",
    "                return False \n",
    "        return len(stack) == 0 \n",
    "\n",
    "print(ml_solution().is_valid_parenthese(\"(){}[]\")) \n",
    "print(ml_solution().is_valid_parenthese(\"()[{)}\")) \n",
    "print(ml_solution().is_valid_parenthese(\"()\"))  "
   ]
  },
  {
   "cell_type": "code",
   "execution_count": null,
   "metadata": {},
   "outputs": [],
   "source": [
    "Q30."
   ]
  },
  {
   "cell_type": "code",
   "execution_count": 3,
   "metadata": {},
   "outputs": [
    {
     "name": "stdout",
     "output_type": "stream",
     "text": [
      "[[], [10], [8], [8, 10], [6], [6, 10], [6, 8], [6, 8, 10]]\n"
     ]
    }
   ],
   "source": [
    "class Q30_solution:     \n",
    "    def sub_sets(self, sset):         \n",
    "        return self.subsetsRecur([], sorted(sset))      \n",
    " \n",
    "    def subsetsRecur(self, current, sset):         \n",
    "        if sset:             \n",
    "            return self.subsetsRecur(current, sset[1:]) + self.subsetsRecur(current + [sset[0]], sset[1:])         \n",
    "        return [current] \n",
    "print(Q30_solution().sub_sets([8,10,6])) "
   ]
  },
  {
   "cell_type": "code",
   "execution_count": null,
   "metadata": {},
   "outputs": [],
   "source": [
    "Q31."
   ]
  },
  {
   "cell_type": "code",
   "execution_count": 4,
   "metadata": {},
   "outputs": [
    {
     "name": "stdout",
     "output_type": "stream",
     "text": [
      "index1=2, index2=3\n"
     ]
    }
   ],
   "source": [
    "class Q31_solution: \n",
    "    def twoSum(self, nums, target): \n",
    "        lookup = {} \n",
    "        for i, num in enumerate(nums): \n",
    "            if target - num in lookup: \n",
    "                return (lookup[target - num], i ) \n",
    "            lookup[num] = i \n",
    "print(\"index1=%d, index2=%d\" % Q31_solution().twoSum((10,20,10,40,50,60,70),50))"
   ]
  },
  {
   "cell_type": "code",
   "execution_count": null,
   "metadata": {},
   "outputs": [],
   "source": [
    "Q32."
   ]
  },
  {
   "cell_type": "code",
   "execution_count": 5,
   "metadata": {},
   "outputs": [
    {
     "name": "stdout",
     "output_type": "stream",
     "text": [
      "[[-10, 2, 8], [-7, -3, 10]]\n"
     ]
    }
   ],
   "source": [
    "class Q32_solution:\n",
    "    def threeSum(self, nums): \n",
    "        nums, result, i = sorted(nums), [], 0 \n",
    "        while i < len(nums) - 2: \n",
    "            j, k = i + 1, len(nums) - 1 \n",
    "            while j < k: \n",
    "                if nums[i] + nums[j] + nums[k] < 0: \n",
    "                    j += 1 \n",
    "                elif nums[i] + nums[j] + nums[k] > 0: \n",
    "                    k -= 1 \n",
    "                else: \n",
    "                    result.append([nums[i], nums[j], nums[k]]) \n",
    "                    j, k = j + 1, k - 1 \n",
    "                    while j < k and nums[j] == nums[j - 1]: \n",
    "                        j += 1 \n",
    "                    while j < k and nums[k] == nums[k + 1]: \n",
    "                        k -= 1 \n",
    "            i += 1 \n",
    "            while i < len(nums) - 2 and nums[i] == nums[i - 1]: \n",
    "                i += 1 \n",
    "        return result \n",
    "\n",
    "print(Q32_solution().threeSum([-25, -10, -7, -3, 2, 4, 8, 10])) "
   ]
  },
  {
   "cell_type": "code",
   "execution_count": 7,
   "metadata": {},
   "outputs": [
    {
     "name": "stdout",
     "output_type": "stream",
     "text": [
      "None\n",
      "None\n",
      "None\n"
     ]
    }
   ],
   "source": [
    "class Q33_solution:    \n",
    "    def pow(self, x, n):         \n",
    "        if x==0 or x==1 or n==1:             \n",
    "            return x  \n",
    "        if x==-1:             \n",
    "            if n%2 ==0:                 \n",
    "                return 1             \n",
    "            else:                 \n",
    "                return -1         \n",
    "            if n==0:             \n",
    "                return 1         \n",
    "            if n<0:             \n",
    "                return 1/self.pow(x,-n)         \n",
    "            val = self.pow(x,n//2)         \n",
    "            if n%2 ==0: \n",
    "                return val*val         \n",
    "            return val*val*x \n",
    "print(Q33_solution().pow(2, -3)); \n",
    "print(Q33_solution().pow(3, 5)); \n",
    "print(Q33_solution().pow(100, 0));"
   ]
  },
  {
   "cell_type": "code",
   "execution_count": 9,
   "metadata": {},
   "outputs": [
    {
     "name": "stdout",
     "output_type": "stream",
     "text": [
      "Santosh\n",
      "SANTOSH\n"
     ]
    }
   ],
   "source": [
    "class Q34_String():     \n",
    "    def __init__(self):        \n",
    "        self.str1 = \"\" \n",
    "    def get_String(self):         \n",
    "        self.str1 = input() \n",
    " \n",
    "    def print_String(self):         \n",
    "        print(self.str1.upper()) \n",
    "str1 = Q34_String() \n",
    "str1.get_String() \n",
    "str1.print_String()"
   ]
  },
  {
   "cell_type": "code",
   "execution_count": 10,
   "metadata": {},
   "outputs": [
    {
     "name": "stdout",
     "output_type": "stream",
     "text": [
      "120\n"
     ]
    }
   ],
   "source": [
    "class Q35_Rectangle(): \n",
    "    def __init__(self, l, w): \n",
    "        self.length = l \n",
    "        self.width  = w \n",
    " \n",
    "    def rectangle_area(self): \n",
    "        return self.length*self.width \n",
    "\n",
    "newRectangle = Q35_Rectangle(12, 10) \n",
    "print(newRectangle.rectangle_area()) "
   ]
  },
  {
   "cell_type": "code",
   "execution_count": 11,
   "metadata": {},
   "outputs": [
    {
     "name": "stdout",
     "output_type": "stream",
     "text": [
      "200.96\n",
      "50.24\n"
     ]
    }
   ],
   "source": [
    "class Q36_Circle(): \n",
    "    def __init__(self, r):         \n",
    "        self.radius = r \n",
    " \n",
    "    def area(self):         \n",
    "        return self.radius**2*3.14          \n",
    "    def perimeter(self):         \n",
    "        return 2*self.radius*3.14 \n",
    "\n",
    "NewCircle = Q36_Circle(8) \n",
    "print(NewCircle.area()) \n",
    "print(NewCircle.perimeter()) "
   ]
  },
  {
   "cell_type": "code",
   "execution_count": null,
   "metadata": {},
   "outputs": [],
   "source": [
    "Q37."
   ]
  },
  {
   "cell_type": "code",
   "execution_count": 12,
   "metadata": {},
   "outputs": [
    {
     "name": "stdout",
     "output_type": "stream",
     "text": [
      "cycle\n"
     ]
    }
   ],
   "source": [
    "import itertools \n",
    "x = itertools.cycle('ABCD') \n",
    "print(type(x).__name__) "
   ]
  },
  {
   "cell_type": "code",
   "execution_count": null,
   "metadata": {},
   "outputs": [],
   "source": [
    "Q38."
   ]
  },
  {
   "cell_type": "code",
   "execution_count": 13,
   "metadata": {},
   "outputs": [
    {
     "name": "stdout",
     "output_type": "stream",
     "text": [
      "Counter({'VI': 3, 'V': 2, 'VII': 1})\n"
     ]
    }
   ],
   "source": [
    "from collections import Counter \n",
    "classes = (     ('V', 1),     ('VI', 1),     ('V', 2),     ('VI', 2),     ('VI', 3),     ('VII', 1), ) \n",
    "students = Counter(class_name for class_name, no_students in classes) \n",
    "print(students)"
   ]
  },
  {
   "cell_type": "code",
   "execution_count": null,
   "metadata": {},
   "outputs": [],
   "source": [
    "Q39."
   ]
  },
  {
   "cell_type": "code",
   "execution_count": 14,
   "metadata": {},
   "outputs": [
    {
     "name": "stdout",
     "output_type": "stream",
     "text": [
      "Afghanistan 93\n",
      "Albania 355\n",
      "Algeria 213\n",
      "Andorra 376\n",
      "Angola 244\n",
      "\n",
      "In reverse order:\n",
      "Angola 244\n",
      "Andorra 376\n",
      "Algeria 213\n",
      "Albania 355\n",
      "Afghanistan 93\n"
     ]
    }
   ],
   "source": [
    "from collections import OrderedDict \n",
    "dict = {'Afghanistan': 93, 'Albania': 355, 'Algeria': 213, 'Andorra': 376, 'Angola': 244} \n",
    " \n",
    "new_dict = OrderedDict(dict.items()) \n",
    "for key in new_dict:     \n",
    "    print (key, new_dict[key]) \n",
    "\n",
    "print(\"\\nIn reverse order:\") \n",
    "for key in reversed(new_dict):     \n",
    "    print (key, new_dict[key])"
   ]
  },
  {
   "cell_type": "code",
   "execution_count": null,
   "metadata": {},
   "outputs": [],
   "source": [
    "Q40."
   ]
  },
  {
   "cell_type": "code",
   "execution_count": 15,
   "metadata": {},
   "outputs": [
    {
     "name": "stdout",
     "output_type": "stream",
     "text": [
      "False\n"
     ]
    }
   ],
   "source": [
    "from collections import Counter \n",
    "def compare_lists(x, y):     \n",
    "    return Counter(x) == Counter(y) \n",
    "n1 = [20, 10, 30, 10, 20, 30] \n",
    "n2 = [30, 20, 10, 30, 20, 50] \n",
    "print(compare_lists(n1, n2)) "
   ]
  },
  {
   "cell_type": "code",
   "execution_count": null,
   "metadata": {},
   "outputs": [],
   "source": [
    "Q41."
   ]
  },
  {
   "cell_type": "code",
   "execution_count": 16,
   "metadata": {},
   "outputs": [
    {
     "name": "stdout",
     "output_type": "stream",
     "text": [
      "Array buffer start address in memory and number of elements.\n",
      "(2254417143880, 2)\n"
     ]
    }
   ],
   "source": [
    "from array import array \n",
    "a = array(\"I\", (12,25)) \n",
    "print(\"Array buffer start address in memory and number of elements.\") \n",
    "print(a.buffer_info())"
   ]
  },
  {
   "cell_type": "code",
   "execution_count": null,
   "metadata": {},
   "outputs": [],
   "source": [
    "Q42."
   ]
  },
  {
   "cell_type": "code",
   "execution_count": 17,
   "metadata": {},
   "outputs": [
    {
     "name": "stdout",
     "output_type": "stream",
     "text": [
      "Original array:\n",
      "A1: array('i', [1, 2, 3, 4, 5, 6])\n",
      "Array of bytes: b'010000000200000003000000040000000500000006000000'\n"
     ]
    }
   ],
   "source": [
    "import array \n",
    "import binascii \n",
    "a = array.array('i', [1,2,3,4,5,6]) \n",
    "print(\"Original array:\") \n",
    "print('A1:', a) \n",
    "bytes_array = a.tobytes() \n",
    "print('Array of bytes:', binascii.hexlify(bytes_array)) "
   ]
  },
  {
   "cell_type": "code",
   "execution_count": null,
   "metadata": {},
   "outputs": [],
   "source": [
    "Q43."
   ]
  },
  {
   "cell_type": "code",
   "execution_count": 19,
   "metadata": {},
   "outputs": [
    {
     "name": "stdout",
     "output_type": "stream",
     "text": [
      "array1: array('i', [7, 8, 9, 10])\n",
      "Bytes: b'0700000008000000090000000a000000'\n",
      "array2: array('i', [7, 8, 9, 10])\n"
     ]
    }
   ],
   "source": [
    "from array import array \n",
    "import binascii \n",
    "array1 = array('i', [7, 8, 9, 10]) \n",
    "print('array1:', array1) \n",
    "as_bytes = array1.tobytes() \n",
    "print('Bytes:', binascii.hexlify(as_bytes)) \n",
    "array2 = array('i')\n",
    "array2.frombytes(as_bytes) \n",
    "print('array2:', array2)"
   ]
  },
  {
   "cell_type": "code",
   "execution_count": null,
   "metadata": {},
   "outputs": [],
   "source": [
    "Q44."
   ]
  },
  {
   "cell_type": "code",
   "execution_count": 22,
   "metadata": {},
   "outputs": [
    {
     "name": "stdout",
     "output_type": "stream",
     "text": [
      "Items in the heap:\n",
      "('V', 1)\n",
      "----------------------\n",
      "The smallest item in the heap:\n",
      "('V', 1)\n",
      "----------------------\n",
      "Pop the smallest item in the heap:\n",
      "('V', 2)\n",
      "('V', 3)\n",
      "('V', 3)\n",
      "----------------------\n",
      "The smallest item in the heap:\n",
      "('V', 2)\n",
      "----------------------\n",
      "Pop the smallest item in the heap:\n",
      "('V', 3)\n"
     ]
    }
   ],
   "source": [
    "import heapq \n",
    "heap = [] \n",
    "heapq.heappush(heap, ('V', 3)) \n",
    "heapq.heappush(heap, ('V', 2)) \n",
    "heapq.heappush(heap, ('V', 1)) \n",
    "print(\"Items in the heap:\") \n",
    "for a in heap:  \n",
    "    print(a) \n",
    "    print(\"----------------------\") \n",
    "    print(\"The smallest item in the heap:\") \n",
    "    print(heap[0]) \n",
    "    print(\"----------------------\") \n",
    "    print(\"Pop the smallest item in the heap:\") \n",
    "    heapq.heappop(heap) \n",
    "    for a in heap:  \n",
    "        print(a)"
   ]
  },
  {
   "cell_type": "code",
   "execution_count": null,
   "metadata": {},
   "outputs": [],
   "source": [
    "Q45."
   ]
  },
  {
   "cell_type": "code",
   "execution_count": 23,
   "metadata": {},
   "outputs": [
    {
     "name": "stdout",
     "output_type": "stream",
     "text": [
      "4\n",
      "2\n"
     ]
    }
   ],
   "source": [
    "import bisect \n",
    "def index(a, x): \n",
    "    i = bisect.bisect_left(a, x) \n",
    "    return i \n",
    "     \n",
    "a = [1,2,4,5] \n",
    " \n",
    "print(index(a, 6)) \n",
    "print(index(a, 3)) "
   ]
  },
  {
   "cell_type": "code",
   "execution_count": null,
   "metadata": {},
   "outputs": [],
   "source": [
    "Q46."
   ]
  },
  {
   "cell_type": "code",
   "execution_count": 24,
   "metadata": {},
   "outputs": [
    {
     "name": "stdout",
     "output_type": "stream",
     "text": [
      "0 1 2 3 \n",
      "\n"
     ]
    }
   ],
   "source": [
    "import queue \n",
    "q = queue.Queue() \n",
    "#insert items at the end of the queue  \n",
    "for x in range(4): \n",
    "    q.put(str(x)) \n",
    "#remove items from the head of the queue  \n",
    "while not q.empty(): \n",
    "    print(q.get(), end=\" \") \n",
    "print(\"\\n\") "
   ]
  },
  {
   "cell_type": "code",
   "execution_count": null,
   "metadata": {},
   "outputs": [],
   "source": [
    "Q47."
   ]
  },
  {
   "cell_type": "code",
   "execution_count": 25,
   "metadata": {},
   "outputs": [
    {
     "name": "stdout",
     "output_type": "stream",
     "text": [
      "2.5928571428571425\n",
      "2.083333333333333\n"
     ]
    }
   ],
   "source": [
    "def harmonic_sum(n): \n",
    "    if n < 2: \n",
    "        return 1 \n",
    "    else: \n",
    "        return 1 / n + (harmonic_sum(n - 1)) \n",
    "     \n",
    "print(harmonic_sum(7)) \n",
    "print(harmonic_sum(4)) "
   ]
  },
  {
   "cell_type": "code",
   "execution_count": null,
   "metadata": {},
   "outputs": [],
   "source": [
    "Q48."
   ]
  },
  {
   "cell_type": "code",
   "execution_count": 26,
   "metadata": {},
   "outputs": [
    {
     "name": "stdout",
     "output_type": "stream",
     "text": [
      "Original array:\n",
      "[[1. 1. 1. 1. 1.]\n",
      " [1. 1. 1. 1. 1.]\n",
      " [1. 1. 1. 1. 1.]\n",
      " [1. 1. 1. 1. 1.]\n",
      " [1. 1. 1. 1. 1.]]\n",
      "1 on the border and 0 inside in the array\n",
      "[[1. 1. 1. 1. 1.]\n",
      " [1. 0. 0. 0. 1.]\n",
      " [1. 0. 0. 0. 1.]\n",
      " [1. 0. 0. 0. 1.]\n",
      " [1. 1. 1. 1. 1.]]\n"
     ]
    }
   ],
   "source": [
    "import numpy as np \n",
    "x = np.ones((5,5)) \n",
    "print(\"Original array:\") \n",
    "print(x) \n",
    " \n",
    "print(\"1 on the border and 0 inside in the array\") \n",
    "x[1:-1,1:-1] = 0 \n",
    "print(x) "
   ]
  },
  {
   "cell_type": "code",
   "execution_count": null,
   "metadata": {},
   "outputs": [],
   "source": [
    "Q49."
   ]
  },
  {
   "cell_type": "code",
   "execution_count": 27,
   "metadata": {},
   "outputs": [
    {
     "name": "stdout",
     "output_type": "stream",
     "text": [
      "Checkerboard pattern:\n",
      "[[0 1 0 1 0 1 0 1]\n",
      " [1 0 1 0 1 0 1 0]\n",
      " [0 1 0 1 0 1 0 1]\n",
      " [1 0 1 0 1 0 1 0]\n",
      " [0 1 0 1 0 1 0 1]\n",
      " [1 0 1 0 1 0 1 0]\n",
      " [0 1 0 1 0 1 0 1]\n",
      " [1 0 1 0 1 0 1 0]]\n"
     ]
    }
   ],
   "source": [
    "import numpy as np \n",
    "x = np.ones((3,3)) \n",
    "print(\"Checkerboard pattern:\") \n",
    "x = np.zeros((8,8),dtype=int) \n",
    "x[1::2,::2] = 1 \n",
    "x[::2,1::2] = 1 \n",
    "print(x)"
   ]
  },
  {
   "cell_type": "code",
   "execution_count": null,
   "metadata": {},
   "outputs": [],
   "source": [
    "Q50."
   ]
  },
  {
   "cell_type": "code",
   "execution_count": 29,
   "metadata": {},
   "outputs": [
    {
     "name": "stdout",
     "output_type": "stream",
     "text": [
      "[[0. 0. 0. 0.]\n",
      " [0. 0. 0. 0.]\n",
      " [0. 0. 0. 0.]]\n",
      "[[6 6 6]\n",
      " [6 6 6]\n",
      " [6 6 6]]\n"
     ]
    }
   ],
   "source": [
    "import numpy as np \n",
    "# Create an empty array \n",
    "x = np.empty((3,4)) \n",
    "print(x) \n",
    "# Create a full array \n",
    "y = np.full((3,3),6) \n",
    "print(y) \n"
   ]
  },
  {
   "cell_type": "code",
   "execution_count": null,
   "metadata": {},
   "outputs": [],
   "source": [
    "Q51."
   ]
  },
  {
   "cell_type": "code",
   "execution_count": 30,
   "metadata": {},
   "outputs": [
    {
     "name": "stdout",
     "output_type": "stream",
     "text": [
      "Values in Fahrenheit degrees:\n",
      "[ 0.   12.   45.21 34.   99.91]\n",
      "Values in  Centigrade degrees:\n",
      "[-17.77777778 -11.11111111   7.33888889   1.11111111  37.72777778]\n"
     ]
    }
   ],
   "source": [
    " \n",
    "import numpy as np \n",
    "fvalues = [0, 12, 45.21, 34, 99.91] \n",
    "F = np.array(fvalues) \n",
    "print(\"Values in Fahrenheit degrees:\") \n",
    "print(F) \n",
    "print(\"Values in  Centigrade degrees:\")  \n",
    "print(5*F/9 - 5*32/9) "
   ]
  },
  {
   "cell_type": "code",
   "execution_count": null,
   "metadata": {},
   "outputs": [],
   "source": [
    "Q52."
   ]
  },
  {
   "cell_type": "code",
   "execution_count": 32,
   "metadata": {},
   "outputs": [
    {
     "name": "stdout",
     "output_type": "stream",
     "text": [
      "Original array:x  [1.+0.j]\n",
      "Original array:y  [0.70710678+0.70710678j]\n",
      "Real part of the array:\n",
      "[1.]\n",
      "[0.70710678]\n",
      "Imaginary part of the array:\n",
      "[0.]\n",
      "[0.70710678]\n"
     ]
    }
   ],
   "source": [
    "import numpy as np\n",
    "x = np.sqrt([1+0j]) \n",
    "y = np.sqrt([0+1j]) \n",
    "print(\"Original array:x \",x) \n",
    "print(\"Original array:y \",y)  \n",
    " \n",
    "print(\"Real part of the array:\") \n",
    "print(x.real) \n",
    "print(y.real) \n",
    "print(\"Imaginary part of the array:\") \n",
    "print(x.imag) \n",
    "print(y.imag)"
   ]
  },
  {
   "cell_type": "code",
   "execution_count": null,
   "metadata": {},
   "outputs": [],
   "source": [
    "Q53."
   ]
  },
  {
   "cell_type": "code",
   "execution_count": 33,
   "metadata": {},
   "outputs": [
    {
     "name": "stdout",
     "output_type": "stream",
     "text": [
      "Array1:  [ 0 10 20 40 60]\n",
      "Array2:  [0, 40]\n",
      "Compare each element of array1 and array2\n",
      "[ True False False  True False]\n"
     ]
    }
   ],
   "source": [
    "import numpy as np \n",
    "array1 = np.array([0, 10, 20, 40, 60]) \n",
    "print(\"Array1: \",array1) \n",
    "array2 = [0, 40] \n",
    "print(\"Array2: \",array2) \n",
    "print(\"Compare each element of array1 and array2\") \n",
    "print(np.in1d(array1, array2))"
   ]
  },
  {
   "cell_type": "code",
   "execution_count": null,
   "metadata": {},
   "outputs": [],
   "source": [
    "Q54."
   ]
  },
  {
   "cell_type": "code",
   "execution_count": null,
   "metadata": {},
   "outputs": [],
   "source": [
    "import numpy as np \n",
    "array1 = np.array([0, 10, 20, 40, 60]) \n",
    "print(\"Array1: \",array1) \n",
    "array2 = [10, 30, 40] \n",
    "print(\"Array2: \",array2) print(\"Common values between two arrays:\") print(np.intersect1d(array1, array2)) "
   ]
  },
  {
   "cell_type": "code",
   "execution_count": null,
   "metadata": {},
   "outputs": [],
   "source": [
    "Q55."
   ]
  },
  {
   "cell_type": "code",
   "execution_count": 2,
   "metadata": {},
   "outputs": [
    {
     "name": "stdout",
     "output_type": "stream",
     "text": [
      "Original array:\n",
      "[10 10 20 20 30 30]\n",
      "Unique elements of the above array:\n",
      "[10 20 30]\n",
      "Original array:\n",
      "[[1 1]\n",
      " [2 3]]\n",
      "Unique elements of the above array:\n",
      "[1 2 3]\n"
     ]
    }
   ],
   "source": [
    "import numpy as np \n",
    "x = np.array([10, 10, 20, 20, 30, 30]) \n",
    "print(\"Original array:\") \n",
    "print(x) \n",
    "print(\"Unique elements of the above array:\") \n",
    "print(np.unique(x)) \n",
    "x = np.array([[1, 1], [2, 3]]) \n",
    "print(\"Original array:\") \n",
    "print(x) \n",
    "print(\"Unique elements of the above array:\") \n",
    "print(np.unique(x)) \n"
   ]
  },
  {
   "cell_type": "code",
   "execution_count": null,
   "metadata": {},
   "outputs": [],
   "source": [
    "Q56."
   ]
  },
  {
   "cell_type": "code",
   "execution_count": 3,
   "metadata": {},
   "outputs": [
    {
     "name": "stdout",
     "output_type": "stream",
     "text": [
      "Array1:  [ 0 10 20 40 60 80]\n",
      "Array2:  [10, 30, 40, 50, 70]\n",
      "Unique values that are in only one (not both) of the input arrays:\n",
      "[ 0 20 30 50 60 70 80]\n"
     ]
    }
   ],
   "source": [
    "import numpy as np \n",
    "array1 = np.array([0, 10, 20, 40, 60, 80])  \n",
    "print(\"Array1: \",array1) \n",
    "array2 = [10, 30, 40, 50, 70] \n",
    "print(\"Array2: \",array2) \n",
    "print(\"Unique values that are in only one (not both) of the input arrays:\") \n",
    "print(np.setxor1d(array1, array2))"
   ]
  },
  {
   "cell_type": "code",
   "execution_count": null,
   "metadata": {},
   "outputs": [],
   "source": [
    "Q57."
   ]
  },
  {
   "cell_type": "code",
   "execution_count": 4,
   "metadata": {},
   "outputs": [
    {
     "name": "stdout",
     "output_type": "stream",
     "text": [
      "False\n",
      "True\n",
      "False\n",
      "True\n"
     ]
    }
   ],
   "source": [
    "import numpy as np \n",
    "print(np.all([[True,False],[True,True]])) \n",
    "print(np.all([[True,True],[True,True]])) \n",
    "print(np.all([10, 20, 0, -50])) \n",
    "print(np.all([10, 20, -50])) "
   ]
  },
  {
   "cell_type": "code",
   "execution_count": null,
   "metadata": {},
   "outputs": [],
   "source": [
    "Q58."
   ]
  },
  {
   "cell_type": "code",
   "execution_count": 5,
   "metadata": {},
   "outputs": [
    {
     "name": "stdout",
     "output_type": "stream",
     "text": [
      "False\n",
      "True\n",
      "True\n",
      "True\n"
     ]
    }
   ],
   "source": [
    "import numpy as np \n",
    "print(np.any([[False,False],[False,False]])) \n",
    "print(np.any([[True,True],[True,True]])) \n",
    "print(np.any([10, 20, 0, -50])) \n",
    "print(np.any([10, 20, -50])) \n"
   ]
  },
  {
   "cell_type": "code",
   "execution_count": null,
   "metadata": {},
   "outputs": [],
   "source": [
    "Q59."
   ]
  },
  {
   "cell_type": "code",
   "execution_count": 6,
   "metadata": {},
   "outputs": [
    {
     "name": "stdout",
     "output_type": "stream",
     "text": [
      "Original array\n",
      "[1, 2, 3, 4]\n",
      "Repeating 2 times\n",
      "[1 2 3 4 1 2 3 4]\n",
      "Repeating 3 times\n",
      "[1 2 3 4 1 2 3 4 1 2 3 4]\n"
     ]
    }
   ],
   "source": [
    "import numpy as np \n",
    "a = [1, 2, 3, 4] \n",
    "print(\"Original array\") \n",
    "print(a) \n",
    "print(\"Repeating 2 times\") \n",
    "x = np.tile(a, 2) \n",
    "print(x) \n",
    "print(\"Repeating 3 times\") \n",
    "x = np.tile(a, 3) \n",
    "print(x)"
   ]
  },
  {
   "cell_type": "code",
   "execution_count": null,
   "metadata": {},
   "outputs": [],
   "source": [
    "Q60."
   ]
  },
  {
   "cell_type": "code",
   "execution_count": 7,
   "metadata": {},
   "outputs": [
    {
     "name": "stdout",
     "output_type": "stream",
     "text": [
      "Original array:  [1 2 3 4 5 6]\n",
      "Maximum Values:  5\n",
      "Minimum Values:  0\n"
     ]
    }
   ],
   "source": [
    "import numpy as np \n",
    "x = np.array([1, 2, 3, 4, 5, 6]) \n",
    "print(\"Original array: \",x) \n",
    "print(\"Maximum Values: \",np.argmax(x))  \n",
    "print(\"Minimum Values: \",np.argmin(x)) \n"
   ]
  },
  {
   "cell_type": "code",
   "execution_count": null,
   "metadata": {},
   "outputs": [],
   "source": [
    "Q61."
   ]
  },
  {
   "cell_type": "code",
   "execution_count": 8,
   "metadata": {},
   "outputs": [
    {
     "name": "stdout",
     "output_type": "stream",
     "text": [
      "Array a:  [1 2]\n",
      "Array b:  [4 5]\n",
      "a > b\n",
      "[False False]\n",
      "a >= b\n",
      "[False False]\n",
      "a < b\n",
      "[ True  True]\n",
      "a <= b\n",
      "[ True  True]\n"
     ]
    }
   ],
   "source": [
    "import numpy as np \n",
    "a = np.array([1, 2]) \n",
    "b = np.array([4, 5]) \n",
    "print(\"Array a: \",a) \n",
    "print(\"Array b: \",b) \n",
    "print(\"a > b\") \n",
    "print(np.greater(a, b)) \n",
    "print(\"a >= b\") \n",
    "print(np.greater_equal(a, b))\n",
    "print(\"a < b\") \n",
    "print(np.less(a, b)) \n",
    "print(\"a <= b\") \n",
    "print(np.less_equal(a, b)) "
   ]
  },
  {
   "cell_type": "code",
   "execution_count": null,
   "metadata": {},
   "outputs": [],
   "source": [
    "Q62."
   ]
  },
  {
   "cell_type": "code",
   "execution_count": 9,
   "metadata": {},
   "outputs": [
    {
     "name": "stdout",
     "output_type": "stream",
     "text": [
      "Original array: \n",
      "[[4 6]\n",
      " [2 1]]\n",
      "Sort along the first axis: \n",
      "[[2 1]\n",
      " [4 6]]\n",
      "Sort along the last axis: \n",
      "[[1 2]\n",
      " [4 6]]\n"
     ]
    }
   ],
   "source": [
    "import numpy as np \n",
    "a = np.array([[4, 6],[2, 1]]) \n",
    "print(\"Original array: \") \n",
    "print(a) \n",
    "print(\"Sort along the first axis: \") \n",
    "x = np.sort(a, axis=0) \n",
    "print(x) \n",
    "print(\"Sort along the last axis: \") \n",
    "y = np.sort(x, axis=1) \n",
    "print(y)"
   ]
  },
  {
   "cell_type": "code",
   "execution_count": null,
   "metadata": {},
   "outputs": [],
   "source": [
    "Q63."
   ]
  },
  {
   "cell_type": "code",
   "execution_count": 11,
   "metadata": {},
   "outputs": [
    {
     "name": "stdout",
     "output_type": "stream",
     "text": [
      "[1 3 2 4 0]\n"
     ]
    }
   ],
   "source": [
    "import numpy as np \n",
    "first_names =    ('Margery', 'Betsey', 'Shelley', 'Lanell', 'Genesis') \n",
    "last_names = ('Woolum', 'Battle', 'Plotner', 'Brien', 'Stahl') \n",
    "x = np.lexsort((first_names, last_names)) \n",
    "print(x) "
   ]
  },
  {
   "cell_type": "code",
   "execution_count": null,
   "metadata": {},
   "outputs": [],
   "source": [
    "Q64."
   ]
  },
  {
   "cell_type": "code",
   "execution_count": 12,
   "metadata": {},
   "outputs": [
    {
     "name": "stdout",
     "output_type": "stream",
     "text": [
      "Original array: \n",
      "[[ 0 10 20]\n",
      " [20 30 40]]\n",
      "Values bigger than 10 = [20 20 30 40]\n",
      "Their indices are  (array([0, 1, 1, 1], dtype=int64), array([2, 0, 1, 2], dtype=int64))\n"
     ]
    }
   ],
   "source": [
    "import numpy as np \n",
    "x = np.array([[0, 10, 20], [20, 30, 40]]) \n",
    "print(\"Original array: \") \n",
    "print(x) \n",
    "print(\"Values bigger than 10 =\", x[x>10]) \n",
    "print(\"Their indices are \", np.nonzero(x > 10)) "
   ]
  },
  {
   "cell_type": "code",
   "execution_count": null,
   "metadata": {},
   "outputs": [],
   "source": [
    "Q65."
   ]
  },
  {
   "cell_type": "code",
   "execution_count": 13,
   "metadata": {},
   "outputs": [
    {
     "name": "stdout",
     "output_type": "stream",
     "text": [
      "128 bytes\n"
     ]
    }
   ],
   "source": [
    "import numpy as np \n",
    "n = np.zeros((4,4)) \n",
    "print(\"%d bytes\" % (n.size * n.itemsize)) "
   ]
  },
  {
   "cell_type": "code",
   "execution_count": null,
   "metadata": {},
   "outputs": [],
   "source": [
    "Q66."
   ]
  },
  {
   "cell_type": "code",
   "execution_count": 15,
   "metadata": {},
   "outputs": [
    {
     "name": "stdout",
     "output_type": "stream",
     "text": [
      "Create an array of zeros\n",
      "Default type is float\n",
      "[[0. 0.]]\n",
      "Type changes to int\n",
      "[[0 0]]\n",
      "Create an array of ones\n",
      "Default type is float\n",
      "[[1. 1.]]\n",
      "Type changes to int\n",
      "[[1 1]]\n"
     ]
    }
   ],
   "source": [
    "import numpy as np \n",
    "print(\"Create an array of zeros\") \n",
    "x = np.zeros((1,2)) \n",
    "print(\"Default type is float\") \n",
    "print(x) \n",
    "print(\"Type changes to int\") \n",
    "x = np.zeros((1,2), dtype = np.int) \n",
    "print(x) \n",
    "print(\"Create an array of ones\") \n",
    "y= np.ones((1,2))  \n",
    "print(\"Default type is float\") \n",
    "print(y) \n",
    "print(\"Type changes to int\") \n",
    "y = np.ones((1,2), dtype = np.int) \n",
    "print(y) "
   ]
  },
  {
   "cell_type": "code",
   "execution_count": null,
   "metadata": {},
   "outputs": [],
   "source": [
    "Q67"
   ]
  },
  {
   "cell_type": "code",
   "execution_count": 16,
   "metadata": {},
   "outputs": [
    {
     "name": "stdout",
     "output_type": "stream",
     "text": [
      "6 rows and 0 columns\n",
      "(6,)\n",
      "(3, 3) -> 3 rows and 3 columns \n",
      "[[1 2 3]\n",
      " [4 5 6]\n",
      " [7 8 9]]\n",
      "Change array shape to (3, 3) -> 3 rows and 3 columns \n",
      "[[1 2 3]\n",
      " [4 5 6]\n",
      " [7 8 9]]\n"
     ]
    }
   ],
   "source": [
    "import numpy as np \n",
    "x = np.array([1, 2, 3, 4, 5, 6]) \n",
    "print(\"6 rows and 0 columns\") \n",
    "print(x.shape) \n",
    "\n",
    "y = np.array([[1, 2, 3],[4, 5, 6],[7,8,9]]) \n",
    "print(\"(3, 3) -> 3 rows and 3 columns \") \n",
    "print(y) \n",
    " \n",
    "x = np.array([1,2,3,4,5,6,7,8,9]) \n",
    "print(\"Change array shape to (3, 3) -> 3 rows and 3 columns \") \n",
    "x.shape = (3, 3) \n",
    "print(x) "
   ]
  },
  {
   "cell_type": "code",
   "execution_count": null,
   "metadata": {},
   "outputs": [],
   "source": [
    "Q68"
   ]
  },
  {
   "cell_type": "code",
   "execution_count": 17,
   "metadata": {},
   "outputs": [
    {
     "name": "stdout",
     "output_type": "stream",
     "text": [
      "Reshape 3x2:\n",
      "[[1 2]\n",
      " [3 4]\n",
      " [5 6]]\n",
      "Reshape 2x3:\n",
      "[[1 2 3]\n",
      " [4 5 6]]\n"
     ]
    }
   ],
   "source": [
    "import numpy as np \n",
    "x = np.array([1, 2, 3, 4, 5, 6]) \n",
    "y = np.reshape(x,(3,2)) \n",
    "print(\"Reshape 3x2:\") \n",
    "print(y) \n",
    "z = np.reshape(x,(2,3)) \n",
    "print(\"Reshape 2x3:\") \n",
    "print(z)"
   ]
  },
  {
   "cell_type": "code",
   "execution_count": null,
   "metadata": {},
   "outputs": [],
   "source": [
    "Q69"
   ]
  },
  {
   "cell_type": "code",
   "execution_count": 18,
   "metadata": {},
   "outputs": [
    {
     "name": "stdout",
     "output_type": "stream",
     "text": [
      "[[2 2 2 2 2]\n",
      " [2 2 2 2 2]\n",
      " [2 2 2 2 2]]\n",
      "[[2 2 2 2 2]\n",
      " [2 2 2 2 2]\n",
      " [2 2 2 2 2]]\n"
     ]
    }
   ],
   "source": [
    "import numpy as np \n",
    "#using no.full \n",
    "x = np.full((3, 5), 2, dtype=np.uint) \n",
    "print(x) \n",
    "#using no.ones \n",
    "y = np.ones([3, 5], dtype=np.uint) *2 \n",
    "print(y)"
   ]
  },
  {
   "cell_type": "code",
   "execution_count": null,
   "metadata": {},
   "outputs": [],
   "source": [
    "Q70"
   ]
  },
  {
   "cell_type": "code",
   "execution_count": 19,
   "metadata": {},
   "outputs": [
    {
     "name": "stdout",
     "output_type": "stream",
     "text": [
      "[[1. 0. 0.]\n",
      " [0. 1. 0.]\n",
      " [0. 0. 1.]]\n"
     ]
    }
   ],
   "source": [
    "import numpy as np \n",
    "x = np.eye(3) \n",
    "print(x) "
   ]
  },
  {
   "cell_type": "code",
   "execution_count": null,
   "metadata": {},
   "outputs": [],
   "source": [
    "Q71."
   ]
  },
  {
   "cell_type": "code",
   "execution_count": 20,
   "metadata": {},
   "outputs": [
    {
     "name": "stdout",
     "output_type": "stream",
     "text": [
      "Original array: [ 1  2  3  4  5  6  7  8  9 10 11 12 13 14]\n",
      "After splitting:\n",
      "[array([1, 2]), array([3, 4, 5, 6]), array([ 7,  8,  9, 10, 11, 12, 13, 14])]\n"
     ]
    }
   ],
   "source": [
    "import numpy as np \n",
    "x = np.arange(1, 15)\n",
    "print(\"Original array:\",x) \n",
    "print(\"After splitting:\") \n",
    "print(np.split(x, [2, 6]))"
   ]
  },
  {
   "cell_type": "code",
   "execution_count": null,
   "metadata": {},
   "outputs": [],
   "source": [
    "Q72"
   ]
  },
  {
   "cell_type": "code",
   "execution_count": 21,
   "metadata": {},
   "outputs": [
    {
     "name": "stdout",
     "output_type": "stream",
     "text": [
      "Original array: [[ 0  1  2  3]\n",
      " [ 4  5  6  7]\n",
      " [ 8  9 10 11]\n",
      " [12 13 14 15]]\n",
      "After splitting horizontally:\n",
      "[array([[ 0,  1],\n",
      "       [ 4,  5],\n",
      "       [ 8,  9],\n",
      "       [12, 13]]), array([[ 2,  3],\n",
      "       [ 6,  7],\n",
      "       [10, 11],\n",
      "       [14, 15]]), array([], shape=(4, 0), dtype=int32)]\n"
     ]
    }
   ],
   "source": [
    "import numpy as np \n",
    "x = np.arange(16).reshape((4, 4)) \n",
    "print(\"Original array:\",x) \n",
    "print(\"After splitting horizontally:\") \n",
    "print(np.hsplit(x, [2, 6])) "
   ]
  },
  {
   "cell_type": "code",
   "execution_count": null,
   "metadata": {},
   "outputs": [],
   "source": [
    "Q73"
   ]
  },
  {
   "cell_type": "code",
   "execution_count": 23,
   "metadata": {},
   "outputs": [
    {
     "name": "stdout",
     "output_type": "stream",
     "text": [
      "Original array:\n",
      "[[0. 0. 0. 0. 0.]\n",
      " [0. 0. 0. 0. 0.]\n",
      " [0. 0. 0. 0. 0.]\n",
      " [0. 0. 0. 0. 0.]\n",
      " [0. 0. 0. 0. 0.]]\n",
      "Row values ranging from 0 to 4.\n",
      "[[0. 1. 2. 3. 4.]\n",
      " [0. 1. 2. 3. 4.]\n",
      " [0. 1. 2. 3. 4.]\n",
      " [0. 1. 2. 3. 4.]\n",
      " [0. 1. 2. 3. 4.]]\n"
     ]
    }
   ],
   "source": [
    "import numpy as np \n",
    "x = np.zeros((5,5)) \n",
    "print(\"Original array:\") \n",
    "print(x) \n",
    "print(\"Row values ranging from 0 to 4.\") \n",
    "x += np.arange(5) \n",
    "print(x) "
   ]
  },
  {
   "cell_type": "code",
   "execution_count": null,
   "metadata": {},
   "outputs": [],
   "source": [
    "Q74"
   ]
  },
  {
   "cell_type": "code",
   "execution_count": 25,
   "metadata": {},
   "outputs": [
    {
     "name": "stdout",
     "output_type": "stream",
     "text": [
      "[(1, 2., b'Albert Einstein') (2, 2., b'Edmond Halley')\n",
      " (3, 3., b'Gertrude B. Elion')]\n"
     ]
    }
   ],
   "source": [
    "import numpy as np \n",
    "x = np.zeros((3,), dtype=('i4,f4,a40')) \n",
    "new_data = [(1, 2., \"Albert Einstein\"), (2, 2., \"Edmond Halley\"), (3, 3., \"Gertrude B. Elion\")] \n",
    "x[:] = new_data \n",
    "print(x)"
   ]
  },
  {
   "cell_type": "code",
   "execution_count": null,
   "metadata": {},
   "outputs": [],
   "source": [
    "Q75."
   ]
  },
  {
   "cell_type": "code",
   "execution_count": 26,
   "metadata": {},
   "outputs": [
    {
     "name": "stdout",
     "output_type": "stream",
     "text": [
      "Original array:\n",
      "[-1 -4  0  2  3  4  5 -6]\n",
      "Replace the negative values of the said array with 0:\n",
      "[0 0 0 2 3 4 5 0]\n"
     ]
    }
   ],
   "source": [
    "import numpy as np \n",
    "x = np.array([-1, -4, 0, 2, 3, 4, 5, -6]) \n",
    "print(\"Original array:\") \n",
    "print(x) \n",
    "print(\"Replace the negative values of the said array with 0:\") \n",
    "x[x < 0] = 0 \n",
    "print(x) "
   ]
  },
  {
   "cell_type": "code",
   "execution_count": null,
   "metadata": {},
   "outputs": [],
   "source": [
    "Q76"
   ]
  },
  {
   "cell_type": "code",
   "execution_count": 28,
   "metadata": {},
   "outputs": [
    {
     "data": {
      "image/png": "[encoded data removed]",
      "text/plain": [
       "<Figure size 432x288 with 1 Axes>"
      ]
     },
     "metadata": {
      "needs_background": "light"
     },
     "output_type": "display_data"
    }
   ],
   "source": [
    "import numpy as np     \n",
    "import matplotlib.pyplot as plt \n",
    "plt.hist([1, 2, 1], bins=[0, 1, 2, 3, 5]) \n",
    "plt\n",
    "plt.show() "
   ]
  },
  {
   "cell_type": "code",
   "execution_count": null,
   "metadata": {},
   "outputs": [],
   "source": [
    "Q77."
   ]
  },
  {
   "cell_type": "code",
   "execution_count": 29,
   "metadata": {},
   "outputs": [
    {
     "name": "stderr",
     "output_type": "stream",
     "text": [
      "C:\\Users\\santo\\Anaconda3\\lib\\site-packages\\matplotlib\\figure.py:445: UserWarning: Matplotlib is currently using module://ipykernel.pylab.backend_inline, which is a non-GUI backend, so cannot show the figure.\n",
      "  % get_backend())\n"
     ]
    },
    {
     "data": {
      "image/png": "[encoded data removed]",
      "text/plain": [
       "<Figure size 432x288 with 1 Axes>"
      ]
     },
     "metadata": {
      "needs_background": "light"
     },
     "output_type": "display_data"
    }
   ],
   "source": [
    "import numpy as np     \n",
    "import matplotlib.pyplot as plt \n",
    "arr = np.random.randint(1, 50, 10) \n",
    "y, x = np.histogram(arr, bins=np.arange(51)) \n",
    "fig, ax = plt.subplots() \n",
    "ax.plot(x[:-1], y) \n",
    "fig.show() "
   ]
  },
  {
   "cell_type": "code",
   "execution_count": null,
   "metadata": {},
   "outputs": [],
   "source": [
    "Q78."
   ]
  },
  {
   "cell_type": "code",
   "execution_count": 30,
   "metadata": {},
   "outputs": [
    {
     "name": "stdout",
     "output_type": "stream",
     "text": [
      "Original array:\n",
      "[[ 0  1  2  3]\n",
      " [ 4  5  6  7]\n",
      " [ 8  9 10 11]\n",
      " [12 13 14 15]]\n",
      "\n",
      "Extracted data: Second row\n",
      "[4 5 6 7]\n"
     ]
    }
   ],
   "source": [
    "import numpy as np \n",
    "arra_data = np.arange(0,16).reshape((4, 4)) \n",
    "print(\"Original array:\") \n",
    "print(arra_data) \n",
    "print(\"\\nExtracted data: Second row\") \n",
    "print(arra_data[1,:]) "
   ]
  },
  {
   "cell_type": "code",
   "execution_count": null,
   "metadata": {},
   "outputs": [],
   "source": [
    "Q79"
   ]
  },
  {
   "cell_type": "code",
   "execution_count": 31,
   "metadata": {},
   "outputs": [
    {
     "name": "stdout",
     "output_type": "stream",
     "text": [
      "Original array:\n",
      "[[ 0  1  2  3]\n",
      " [ 4  5  6  7]\n",
      " [ 8  9 10 11]\n",
      " [12 13 14 15]]\n",
      "\n",
      "Extracted data: First element of the second row and fourth element of fourth row  \n",
      "[ 4 15]\n"
     ]
    }
   ],
   "source": [
    "import numpy as np \n",
    "arra_data = np.arange(0,16).reshape((4, 4)) \n",
    "print(\"Original array:\") \n",
    "print(arra_data) \n",
    "print(\"\\nExtracted data: First element of the second row and fourth element of fourth row  \") \n",
    "print(arra_data[[1,3], [0,3]]) "
   ]
  },
  {
   "cell_type": "code",
   "execution_count": null,
   "metadata": {},
   "outputs": [],
   "source": [
    "Q80"
   ]
  },
  {
   "cell_type": "code",
   "execution_count": 32,
   "metadata": {},
   "outputs": [
    {
     "name": "stdout",
     "output_type": "stream",
     "text": [
      "Original array:\n",
      "Array-1\n",
      "[[1. 1. 1.]\n",
      " [1. 1. 1.]\n",
      " [1. 1. 1.]]\n",
      "Array-2\n",
      "[0 1 2]\n",
      "A + B:\n",
      "[[1. 2. 3.]\n",
      " [1. 2. 3.]\n",
      " [1. 2. 3.]]\n"
     ]
    }
   ],
   "source": [
    "import numpy as np \n",
    "A = np.ones((3,3)) \n",
    "B = np.arange(3) \n",
    "print(\"Original array:\") \n",
    "print(\"Array-1\") \n",
    "print(A) \n",
    "print(\"Array-2\") \n",
    "print(B) \n",
    "print(\"A + B:\") \n",
    "new_array = A + B \n",
    "print(new_array) "
   ]
  },
  {
   "cell_type": "code",
   "execution_count": null,
   "metadata": {},
   "outputs": [],
   "source": [
    "Q81"
   ]
  },
  {
   "cell_type": "code",
   "execution_count": 33,
   "metadata": {},
   "outputs": [
    {
     "name": "stdout",
     "output_type": "stream",
     "text": [
      "Original array:\n",
      "[24 27 30 29 18 14]\n",
      "\n",
      "Copy of the said array:\n",
      "[24 27 30 29 18 14]\n"
     ]
    }
   ],
   "source": [
    "import numpy as np \n",
    "x = np.array([24, 27, 30, 29, 18, 14]) \n",
    "print(\"Original array:\") \n",
    "print(x) \n",
    "y = np.empty_like (x) \n",
    "y[:] = x \n",
    "print(\"\\nCopy of the said array:\") \n",
    "print(y) "
   ]
  },
  {
   "cell_type": "code",
   "execution_count": null,
   "metadata": {},
   "outputs": [],
   "source": [
    "Q82."
   ]
  },
  {
   "cell_type": "code",
   "execution_count": 34,
   "metadata": {},
   "outputs": [
    {
     "name": "stdout",
     "output_type": "stream",
     "text": [
      "Original array:\n",
      "[[ 0  1  2  3  4  5  6  7  8]\n",
      " [ 9 10 11 12 13 14 15 16 17]\n",
      " [18 19 20 21 22 23 24 25 26]\n",
      " [27 28 29 30 31 32 33 34 35]]\n",
      "\n",
      "Sum of all columns:\n",
      "[54 58 62 66 70 74 78 82 86]\n"
     ]
    }
   ],
   "source": [
    "import numpy as np \n",
    "num = np.arange(36) \n",
    "arr1 = np.reshape(num, [4, 9]) \n",
    "print(\"Original array:\") \n",
    "print(arr1) \n",
    "result  = arr1.sum(axis=0) \n",
    "print(\"\\nSum of all columns:\") \n",
    "print(result)"
   ]
  },
  {
   "cell_type": "code",
   "execution_count": null,
   "metadata": {},
   "outputs": [],
   "source": [
    "Q83"
   ]
  },
  {
   "cell_type": "code",
   "execution_count": 35,
   "metadata": {},
   "outputs": [
    {
     "name": "stdout",
     "output_type": "stream",
     "text": [
      "Original array:\n",
      "[[10. 20. 30.]\n",
      " [40. 50. nan]\n",
      " [nan  6. nan]\n",
      " [nan nan nan]]\n",
      "Averages without NaNs along the said array:\n",
      "[20. 45.  6. nan]\n"
     ]
    }
   ],
   "source": [
    "import numpy as np \n",
    "arr1 = np.array([[10, 20 ,30], [40, 50, np.nan], [np.nan, 6, np.nan], [np.nan, np.nan, np.nan]]) \n",
    "print(\"Original array:\") \n",
    "print(arr1) \n",
    "temp = np.ma.masked_array(arr1,np.isnan(arr1)) \n",
    "result = np.mean(temp, axis=1) \n",
    "print(\"Averages without NaNs along the said array:\") \n",
    "print(result.filled(np.nan))"
   ]
  },
  {
   "cell_type": "code",
   "execution_count": null,
   "metadata": {},
   "outputs": [],
   "source": [
    "Q84"
   ]
  },
  {
   "cell_type": "code",
   "execution_count": 36,
   "metadata": {},
   "outputs": [
    {
     "name": "stdout",
     "output_type": "stream",
     "text": [
      "Original arrays:\n",
      "[ 10 -10  10 -10 -10  10]\n",
      "[0.85 0.45 0.9  0.8  0.12 0.6 ]\n",
      "\n",
      "Number of instances of a value occurring in one aray on the condition of another array:\n",
      "3\n"
     ]
    }
   ],
   "source": [
    "import numpy as np \n",
    "x = np.array([10,-10,10,-10,-10,10]) \n",
    "y = np.array([.85,.45,.9,.8,.12,.6]) \n",
    "print(\"Original arrays:\") \n",
    "print(x) \n",
    "print(y) \n",
    "result = np.sum((x == 10) & (y > .5)) \n",
    "print(\"\\nNumber of instances of a value occurring in one aray on the condition of another array:\") \n",
    "print(result) "
   ]
  },
  {
   "cell_type": "code",
   "execution_count": null,
   "metadata": {},
   "outputs": [],
   "source": [
    "Q85"
   ]
  },
  {
   "cell_type": "code",
   "execution_count": 38,
   "metadata": {},
   "outputs": [
    {
     "name": "stdout",
     "output_type": "stream",
     "text": [
      "\n",
      "Original dictionary:\n",
      "{'column0': {'a': 1, 'b': 0.0, 'c': 0.0, 'd': 2.0}, 'column1': {'a': 3.0, 'b': 1, 'c': 0.0, 'd': -1.0}, 'column2': {'a': 4, 'b': 1, 'c': 5.0, 'd': -1.0}, 'column3': {'a': 3.0, 'b': -1.0, 'c': -1.0, 'd': -1.0}}\n",
      "Type:  <class 'dict'>\n",
      "\n",
      "ndarray:\n",
      "[[ 1.  0.  0.  2.]\n",
      " [ 3.  1.  0. -1.]\n",
      " [ 4.  1.  5. -1.]\n",
      " [ 3. -1. -1. -1.]]\n",
      "Type:  <class 'numpy.ndarray'>\n"
     ]
    }
   ],
   "source": [
    "import numpy as np \n",
    "from ast import literal_eval \n",
    "udict = \"\"\"{\"column0\":{\"a\":1,\"b\":0.0,\"c\":0.0,\"d\":2.0},    \"column1\":{\"a\":3.0,\"b\":1,\"c\":0.0,\"d\":-1.0},    \"column2\":{\"a\":4,\"b\":1,\"c\":5.0,\"d\":-1.0},    \"column3\":{\"a\":3.0,\"b\":-1.0,\"c\":-1.0,\"d\":-1.0}   }\"\"\" \n",
    "t = literal_eval(udict) \n",
    "print(\"\\nOriginal dictionary:\") \n",
    "print(t) \n",
    "print(\"Type: \",type(t)) \n",
    "result_nparra = np.array([[v[j] for j in ['a', 'b', 'c', 'd']] for k, v in t.items()]) \n",
    "print(\"\\nndarray:\") \n",
    "print(result_nparra) \n",
    "print(\"Type: \",type(result_nparra)) "
   ]
  },
  {
   "cell_type": "code",
   "execution_count": null,
   "metadata": {},
   "outputs": [],
   "source": [
    "Q86."
   ]
  },
  {
   "cell_type": "code",
   "execution_count": 39,
   "metadata": {},
   "outputs": [
    {
     "name": "stdout",
     "output_type": "stream",
     "text": [
      "Original array:\n",
      "[[ 1  1  0]\n",
      " [ 0  0  0]\n",
      " [ 0  2  3]\n",
      " [ 0  0  0]\n",
      " [ 0 -1  1]\n",
      " [ 0  0  0]]\n",
      "\n",
      "Non-zero unique rows:\n",
      "[[ 1  1  0]\n",
      " [ 0  2  3]\n",
      " [ 0 -1  1]]\n"
     ]
    }
   ],
   "source": [
    "import numpy as np \n",
    "arra = np.array([[ 1,  1,  0],                  [ 0,  0,  0],                  [ 0,  2,  3],                  [ 0,  0,  0],                  [ 0, -1,  1],                  [ 0,  0,  0]]) \n",
    "print(\"Original array:\") \n",
    "print(arra) \n",
    "temp = {(0, 0, 0)} \n",
    "result = [] \n",
    "for idx, row in enumerate(map(tuple, arra)):     \n",
    "    if row not in temp:         \n",
    "        result.append(idx) \n",
    "print(\"\\nNon-zero unique rows:\") \n",
    "print(arra[result]) "
   ]
  },
  {
   "cell_type": "code",
   "execution_count": null,
   "metadata": {},
   "outputs": [],
   "source": [
    "Q87"
   ]
  },
  {
   "cell_type": "code",
   "execution_count": 40,
   "metadata": {},
   "outputs": [
    {
     "name": "stdout",
     "output_type": "stream",
     "text": [
      "First array:\n",
      "[1.+2.j 3.+4.j]\n",
      "Second array:\n",
      "[5.+6.j 7.+8.j]\n",
      "Product of above two arrays:\n",
      "(70-8j)\n"
     ]
    }
   ],
   "source": [
    "import numpy as np \n",
    "x = np.array([1+2j,3+4j]) \n",
    "print(\"First array:\") \n",
    "print(x) \n",
    "y = np.array([5+6j,7+8j]) \n",
    "print(\"Second array:\") \n",
    "print(y) \n",
    "z = np.vdot(x, y) \n",
    "print(\"Product of above two arrays:\") \n",
    "print(z)"
   ]
  },
  {
   "cell_type": "code",
   "execution_count": null,
   "metadata": {},
   "outputs": [],
   "source": [
    "Q88"
   ]
  },
  {
   "cell_type": "code",
   "execution_count": 42,
   "metadata": {},
   "outputs": [
    {
     "name": "stdout",
     "output_type": "stream",
     "text": [
      "Matrices and vectors.\n",
      "x:\n",
      "[[1, 0], [1, 1]]\n",
      "y:\n",
      "[[3, 1], [2, 2]]\n",
      "Matrix product of above two arrays:\n",
      "[[3 1]\n",
      " [5 3]]\n"
     ]
    }
   ],
   "source": [
    "import numpy as np\n",
    "x = [[1, 0], [1, 1]] \n",
    "y = [[3, 1], [2, 2]] \n",
    "print(\"Matrices and vectors.\") \n",
    "print(\"x:\") \n",
    "print(x) \n",
    "print(\"y:\") \n",
    "print(y) \n",
    "print(\"Matrix product of above two arrays:\") \n",
    "print(np.matmul(x, y)) "
   ]
  },
  {
   "cell_type": "code",
   "execution_count": null,
   "metadata": {},
   "outputs": [],
   "source": [
    "Q89"
   ]
  },
  {
   "cell_type": "code",
   "execution_count": 43,
   "metadata": {},
   "outputs": [
    {
     "name": "stdout",
     "output_type": "stream",
     "text": [
      "Roots of the first polynomial:\n",
      "[1. 1.]\n",
      "Roots of the second polynomial:\n",
      "[11.04461946+0.j        -0.8711421 +0.j         0.91326132+0.4531004j\n",
      "  0.91326132-0.4531004j]\n"
     ]
    }
   ],
   "source": [
    "import numpy as np \n",
    "print(\"Roots of the first polynomial:\") \n",
    "print(np.roots([1, -2, 1])) \n",
    "print(\"Roots of the second polynomial:\") \n",
    "print(np.roots([1, -12, 10, 7, -10])) "
   ]
  },
  {
   "cell_type": "code",
   "execution_count": null,
   "metadata": {},
   "outputs": [],
   "source": [
    "Q90"
   ]
  },
  {
   "cell_type": "code",
   "execution_count": 44,
   "metadata": {},
   "outputs": [
    {
     "name": "stdout",
     "output_type": "stream",
     "text": [
      "Inverse sine: [-1.57079633  0.          1.57079633]\n",
      "Inverse cosine: [3.14159265 1.57079633 0.        ]\n",
      "Inverse tangent: [-0.78539816  0.          0.78539816]\n"
     ]
    }
   ],
   "source": [
    "import numpy as np \n",
    "x = np.array([-1., 0, 1.]) \n",
    "print(\"Inverse sine:\", np.arcsin(x)) \n",
    "print(\"Inverse cosine:\", np.arccos(x)) \n",
    "print(\"Inverse tangent:\", np.arctan(x)) "
   ]
  },
  {
   "cell_type": "code",
   "execution_count": null,
   "metadata": {},
   "outputs": [],
   "source": [
    "Q91."
   ]
  },
  {
   "cell_type": "code",
   "execution_count": 45,
   "metadata": {},
   "outputs": [
    {
     "name": "stdout",
     "output_type": "stream",
     "text": [
      "Original array: \n",
      "[1 3 5 7 0]\n",
      "Difference between neighboring elements, element-wise of the said array.\n",
      "[ 2  2  2 -7]\n"
     ]
    }
   ],
   "source": [
    "import numpy as np \n",
    "x = np.array([1, 3, 5, 7, 0]) \n",
    "print(\"Original array: \") \n",
    "print(x) \n",
    "print(\"Difference between neighboring elements, element-wise of the said array.\") \n",
    "print(np.diff(x)) "
   ]
  },
  {
   "cell_type": "code",
   "execution_count": null,
   "metadata": {},
   "outputs": [],
   "source": [
    "Q92"
   ]
  },
  {
   "cell_type": "code",
   "execution_count": 46,
   "metadata": {},
   "outputs": [
    {
     "name": "stdout",
     "output_type": "stream",
     "text": [
      "Original flattened array:\n",
      "[[0 1]\n",
      " [2 3]]\n",
      "Maximum value of the above flattened array:\n",
      "3\n",
      "Minimum value of the above flattened array:\n",
      "0\n"
     ]
    }
   ],
   "source": [
    "import numpy as np \n",
    "a = np.arange(4).reshape((2,2)) \n",
    "print(\"Original flattened array:\") \n",
    "print(a) \n",
    "print(\"Maximum value of the above flattened array:\") \n",
    "print(np.amax(a)) \n",
    "print(\"Minimum value of the above flattened array:\") \n",
    "print(np.amin(a))"
   ]
  },
  {
   "cell_type": "code",
   "execution_count": null,
   "metadata": {},
   "outputs": [],
   "source": [
    "Q93"
   ]
  },
  {
   "cell_type": "code",
   "execution_count": 47,
   "metadata": {},
   "outputs": [
    {
     "name": "stdout",
     "output_type": "stream",
     "text": [
      "\n",
      "Original array:\n",
      "[[ 0  1  2  3  4  5]\n",
      " [ 6  7  8  9 10 11]]\n",
      "\n",
      "Difference between the maximum and the minimum values of the said array:\n",
      "[5 5]\n"
     ]
    }
   ],
   "source": [
    "import numpy as np \n",
    "x = np.arange(12).reshape((2, 6)) \n",
    "print(\"\\nOriginal array:\") \n",
    "print(x) \n",
    "r1 = np.ptp(x, 1) \n",
    "r2 = np.amax(x, 1) - np.amin(x, 1) \n",
    "assert np.allclose(r1, r2) \n",
    "print(\"\\nDifference between the maximum and the minimum values of the said array:\") \n",
    "print(r1)"
   ]
  },
  {
   "cell_type": "code",
   "execution_count": null,
   "metadata": {},
   "outputs": [],
   "source": [
    "Q94."
   ]
  },
  {
   "cell_type": "code",
   "execution_count": 48,
   "metadata": {},
   "outputs": [
    {
     "name": "stdout",
     "output_type": "stream",
     "text": [
      "\n",
      "Original array:\n",
      "[0 1 2 3 4]\n",
      "\n",
      "Weighted average of the said array:\n",
      "2.6666666666666665\n"
     ]
    }
   ],
   "source": [
    "import numpy as np \n",
    "x = np.arange(5) \n",
    "print(\"\\nOriginal array:\") \n",
    "print(x) \n",
    "weights = np.arange(1, 6) \n",
    "r1 = np.average(x, weights=weights) \n",
    "r2 = (x*(weights/weights.sum())).sum() \n",
    "assert np.allclose(r1, r2) \n",
    "print(\"\\nWeighted average of the said array:\") \n",
    "print(r1)"
   ]
  },
  {
   "cell_type": "code",
   "execution_count": null,
   "metadata": {},
   "outputs": [],
   "source": [
    "Q95."
   ]
  },
  {
   "cell_type": "code",
   "execution_count": 50,
   "metadata": {},
   "outputs": [
    {
     "name": "stdout",
     "output_type": "stream",
     "text": [
      "\n",
      "Original array:\n",
      "[0 1 2 3 4 5]\n",
      "\n",
      "Mean:  2.5\n",
      "\n",
      "std:  1\n",
      "\n",
      "variance:  2.9166666666666665\n"
     ]
    }
   ],
   "source": [
    "import numpy as np \n",
    "x = np.arange(6) \n",
    "print(\"\\nOriginal array:\") \n",
    "print(x) \n",
    "r1 = np.mean(x) \n",
    "r2 = np.average(x) \n",
    "assert np.allclose(r1, r2) \n",
    "print(\"\\nMean: \", r1) \n",
    "r1 = np.std(x) \n",
    "r2 = np.sqrt(np.mean((x - np.mean(x)) ** 2 )) \n",
    "assert np.allclose(r1, r2) \n",
    "print(\"\\nstd: \", 1) \n",
    "r1= np.var(x) \n",
    "r2 = np.mean((x - np.mean(x)) ** 2 ) \n",
    "assert np.allclose(r1, r2) \n",
    "print(\"\\nvariance: \", r1)"
   ]
  },
  {
   "cell_type": "code",
   "execution_count": null,
   "metadata": {},
   "outputs": [],
   "source": [
    "Q96"
   ]
  },
  {
   "cell_type": "code",
   "execution_count": 51,
   "metadata": {},
   "outputs": [
    {
     "name": "stdout",
     "output_type": "stream",
     "text": [
      "\n",
      "Original array1:\n",
      "[0 1 2]\n",
      "\n",
      "Original array1:\n",
      "[2 1 0]\n",
      "\n",
      "Covariance matrix of the said arrays:\n",
      " [[ 1. -1.]\n",
      " [-1.  1.]]\n"
     ]
    }
   ],
   "source": [
    "import numpy as np \n",
    "x = np.array([0, 1, 2]) \n",
    "y = np.array([2, 1, 0]) \n",
    "print(\"\\nOriginal array1:\") \n",
    "print(x) \n",
    "print(\"\\nOriginal array1:\") \n",
    "print(y) \n",
    "print(\"\\nCovariance matrix of the said arrays:\\n\",np.cov(x, y)) "
   ]
  },
  {
   "cell_type": "code",
   "execution_count": null,
   "metadata": {},
   "outputs": [],
   "source": [
    "Q97"
   ]
  },
  {
   "cell_type": "code",
   "execution_count": 52,
   "metadata": {},
   "outputs": [
    {
     "name": "stdout",
     "output_type": "stream",
     "text": [
      "\n",
      "Original array1:\n",
      "[0 1 3]\n",
      "\n",
      "Original array1:\n",
      "[2 4 5]\n",
      "\n",
      "Cross-correlation of the said arrays:\n",
      " [[2.33333333 2.16666667]\n",
      " [2.16666667 2.33333333]]\n"
     ]
    }
   ],
   "source": [
    "import numpy as np \n",
    "x = np.array([0, 1, 3]) \n",
    "y = np.array([2, 4, 5]) \n",
    "print(\"\\nOriginal array1:\") \n",
    "print(x) \n",
    "print(\"\\nOriginal array1:\") \n",
    "print(y) \n",
    "print(\"\\nCross-correlation of the said arrays:\\n\",np.cov(x, y)) "
   ]
  },
  {
   "cell_type": "code",
   "execution_count": null,
   "metadata": {},
   "outputs": [],
   "source": [
    "Q98"
   ]
  },
  {
   "cell_type": "code",
   "execution_count": 53,
   "metadata": {},
   "outputs": [
    {
     "name": "stdout",
     "output_type": "stream",
     "text": [
      "\n",
      "Original array1:\n",
      "[0 1 3]\n",
      "\n",
      "Original array1:\n",
      "[2 4 5]\n",
      "\n",
      "Pearson product-moment correlation coefficients of the said arrays:\n",
      " [[1.         0.92857143]\n",
      " [0.92857143 1.        ]]\n"
     ]
    }
   ],
   "source": [
    "import numpy as np \n",
    "x = np.array([0, 1, 3]) \n",
    "y = np.array([2, 4, 5]) \n",
    "print(\"\\nOriginal array1:\") \n",
    "print(x) \n",
    "print(\"\\nOriginal array1:\") \n",
    "print(y) \n",
    "print(\"\\nPearson product-moment correlation coefficients of the said arrays:\\n\",np.corrcoef(x, y)) "
   ]
  },
  {
   "cell_type": "code",
   "execution_count": null,
   "metadata": {},
   "outputs": [],
   "source": [
    "Q99"
   ]
  },
  {
   "cell_type": "code",
   "execution_count": 54,
   "metadata": {},
   "outputs": [
    {
     "name": "stdout",
     "output_type": "stream",
     "text": [
      "Original array:\n",
      "[0, 1, 6, 1, 4, 1, 2, 2, 7]\n",
      "Number of occurrences of each value in array: \n",
      "[1 3 2 0 1 0 1 1]\n"
     ]
    }
   ],
   "source": [
    "import numpy as np \n",
    "array1 = [0, 1, 6, 1, 4, 1, 2, 2, 7]  \n",
    "print(\"Original array:\") \n",
    "print(array1) \n",
    "print(\"Number of occurrences of each value in array: \") \n",
    "print(np.bincount(array1)) "
   ]
  },
  {
   "cell_type": "code",
   "execution_count": null,
   "metadata": {},
   "outputs": [],
   "source": [
    "Q100."
   ]
  },
  {
   "cell_type": "code",
   "execution_count": 55,
   "metadata": {},
   "outputs": [
    {
     "name": "stdout",
     "output_type": "stream",
     "text": [
      "nums:  [0.5 0.7 1.  1.2 1.3 2.1]\n",
      "bins:  [0 1 2 3]\n",
      "Result: (array([2, 3, 1], dtype=int64), array([0, 1, 2, 3]))\n"
     ]
    },
    {
     "data": {
      "image/png": "[encoded data removed]",
      "text/plain": [
       "<Figure size 432x288 with 1 Axes>"
      ]
     },
     "metadata": {
      "needs_background": "light"
     },
     "output_type": "display_data"
    }
   ],
   "source": [
    "import numpy as np \n",
    "import matplotlib.pyplot as plt \n",
    "nums = np.array([0.5, 0.7, 1.0, 1.2, 1.3, 2.1]) \n",
    "bins = np.array([0, 1, 2, 3]) \n",
    "print(\"nums: \",nums) \n",
    "print(\"bins: \",bins) \n",
    "print(\"Result:\", np.histogram(nums, bins)) \n",
    "plt.hist(nums, bins=bins) \n",
    "plt.show()"
   ]
  },
  {
   "cell_type": "code",
   "execution_count": null,
   "metadata": {},
   "outputs": [],
   "source": [
    "Q101."
   ]
  },
  {
   "cell_type": "code",
   "execution_count": 59,
   "metadata": {},
   "outputs": [
    {
     "name": "stdout",
     "output_type": "stream",
     "text": [
      "Add two Series:\n",
      "0     3\n",
      "1     7\n",
      "2    11\n",
      "3    15\n",
      "4    19\n",
      "dtype: int64\n",
      "Subtract two Series:\n",
      "0    1\n",
      "1    1\n",
      "2    1\n",
      "3    1\n",
      "4    1\n",
      "dtype: int64\n",
      "Multiply two Series:\n",
      "0     2\n",
      "1    12\n",
      "2    30\n",
      "3    56\n",
      "4    90\n",
      "dtype: int64\n",
      "Divide Series1 by Series2:\n",
      "0    2.000000\n",
      "1    1.333333\n",
      "2    1.200000\n",
      "3    1.142857\n",
      "4    1.111111\n",
      "dtype: float64\n"
     ]
    }
   ],
   "source": [
    "import pandas as pd \n",
    "ds1 = pd.Series([2, 4, 6, 8, 10]) \n",
    "ds2 = pd.Series([1, 3, 5, 7, 9]) \n",
    "ds = ds1 + ds2 \n",
    "print(\"Add two Series:\") \n",
    "print(ds) \n",
    "print(\"Subtract two Series:\") \n",
    "ds = ds1 - ds2 \n",
    "print(ds) \n",
    "print(\"Multiply two Series:\") \n",
    "ds = ds1 * ds2 \n",
    "print(ds) \n",
    "print(\"Divide Series1 by Series2:\") \n",
    "ds = ds1 / ds2 \n",
    "print(ds)"
   ]
  },
  {
   "cell_type": "code",
   "execution_count": null,
   "metadata": {},
   "outputs": [],
   "source": [
    "Q102"
   ]
  },
  {
   "cell_type": "code",
   "execution_count": 60,
   "metadata": {},
   "outputs": [
    {
     "name": "stdout",
     "output_type": "stream",
     "text": [
      "Original dictionary:\n",
      "{'a': 100, 'b': 200, 'c': 300, 'd': 400, 'e': 800}\n",
      "Converted series:\n",
      "a    100\n",
      "b    200\n",
      "c    300\n",
      "d    400\n",
      "e    800\n",
      "dtype: int64\n"
     ]
    }
   ],
   "source": [
    "import pandas as pd \n",
    "d1 = {'a': 100, 'b': 200, 'c':300, 'd':400, 'e':800} \n",
    "print(\"Original dictionary:\") \n",
    "print(d1) \n",
    "new_series = pd.Series(d1) \n",
    "print(\"Converted series:\") \n",
    "print(new_series) "
   ]
  },
  {
   "cell_type": "code",
   "execution_count": null,
   "metadata": {},
   "outputs": [],
   "source": [
    "Q103"
   ]
  },
  {
   "cell_type": "code",
   "execution_count": 61,
   "metadata": {},
   "outputs": [
    {
     "name": "stdout",
     "output_type": "stream",
     "text": [
      "Original Data Series:\n",
      "0       100\n",
      "1       200\n",
      "2    python\n",
      "3    300.12\n",
      "4       400\n",
      "dtype: object\n",
      "Change the said data type to numeric:\n",
      "0    100.00\n",
      "1    200.00\n",
      "2       NaN\n",
      "3    300.12\n",
      "4    400.00\n",
      "dtype: float64\n"
     ]
    }
   ],
   "source": [
    "import pandas as pd \n",
    "s1 = pd.Series(['100', '200', 'python', '300.12', '400']) \n",
    "print(\"Original Data Series:\") \n",
    "print(s1) \n",
    "print(\"Change the said data type to numeric:\") \n",
    "s2 = pd.to_numeric(s1, errors='coerce') \n",
    "print(s2) "
   ]
  },
  {
   "cell_type": "code",
   "execution_count": null,
   "metadata": {},
   "outputs": [],
   "source": [
    "Q104."
   ]
  },
  {
   "cell_type": "code",
   "execution_count": 62,
   "metadata": {},
   "outputs": [
    {
     "name": "stdout",
     "output_type": "stream",
     "text": [
      "Original DataFrame\n",
      "   col1  col2  col3\n",
      "0     1     4     7\n",
      "1     2     5     5\n",
      "2     3     6     8\n",
      "3     4     9    12\n",
      "4     7     5     1\n",
      "5    11     0    11\n",
      "\n",
      "1st column as a Series:\n",
      "0     1\n",
      "1     2\n",
      "2     3\n",
      "3     4\n",
      "4     7\n",
      "5    11\n",
      "Name: col1, dtype: int64\n",
      "<class 'pandas.core.series.Series'>\n"
     ]
    },
    {
     "name": "stderr",
     "output_type": "stream",
     "text": [
      "C:\\Users\\santo\\Anaconda3\\lib\\site-packages\\ipykernel_launcher.py:6: DeprecationWarning: \n",
      ".ix is deprecated. Please use\n",
      ".loc for label based indexing or\n",
      ".iloc for positional indexing\n",
      "\n",
      "See the documentation here:\n",
      "http://pandas.pydata.org/pandas-docs/stable/indexing.html#ix-indexer-is-deprecated\n",
      "  \n"
     ]
    }
   ],
   "source": [
    "import pandas as pd \n",
    "d = {'col1': [1, 2, 3, 4, 7, 11], 'col2': [4, 5, 6, 9, 5, 0], 'col3': [7, 5, 8, 12, 1,11]} \n",
    "df = pd.DataFrame(data=d) \n",
    "print(\"Original DataFrame\") \n",
    "print(df) \n",
    "s1 = df.ix[:,0] \n",
    "print(\"\\n1st column as a Series:\") \n",
    "print(s1) \n",
    "print(type(s1))"
   ]
  },
  {
   "cell_type": "code",
   "execution_count": null,
   "metadata": {},
   "outputs": [],
   "source": [
    "Q105"
   ]
  },
  {
   "cell_type": "code",
   "execution_count": 63,
   "metadata": {},
   "outputs": [
    {
     "name": "stdout",
     "output_type": "stream",
     "text": [
      "Original Data Series:\n",
      "0     1\n",
      "1     2\n",
      "2     3\n",
      "3     4\n",
      "4     5\n",
      "5     6\n",
      "6     7\n",
      "7     8\n",
      "8     9\n",
      "9     5\n",
      "10    3\n",
      "dtype: int64\n",
      "Mean of the said Data Series:\n",
      "4.818181818181818\n",
      "Standard deviation of the said Data Series:\n",
      "2.522624895547565\n"
     ]
    }
   ],
   "source": [
    "import pandas as pd \n",
    "s = pd.Series(data = [1,2,3,4,5,6,7,8,9,5,3]) \n",
    "print(\"Original Data Series:\") \n",
    "print(s) \n",
    "print(\"Mean of the said Data Series:\") \n",
    "print(s.mean()) \n",
    "print(\"Standard deviation of the said Data Series:\") \n",
    "print(s.std()) "
   ]
  },
  {
   "cell_type": "code",
   "execution_count": null,
   "metadata": {},
   "outputs": [],
   "source": [
    "Q106"
   ]
  },
  {
   "cell_type": "code",
   "execution_count": 64,
   "metadata": {},
   "outputs": [
    {
     "name": "stdout",
     "output_type": "stream",
     "text": [
      "    X   Y   Z\n",
      "0  78  84  86\n",
      "1  85  94  97\n",
      "2  96  89  96\n",
      "3  80  83  72\n",
      "4  86  86  83\n"
     ]
    }
   ],
   "source": [
    "import pandas as pd \n",
    "df = pd.DataFrame({'X':[78,85,96,80,86], 'Y':[84,94,89,83,86],'Z':[86,97,96,72,83]}); \n",
    "print(df) "
   ]
  },
  {
   "cell_type": "code",
   "execution_count": null,
   "metadata": {},
   "outputs": [],
   "source": [
    "Q107"
   ]
  },
  {
   "cell_type": "code",
   "execution_count": 66,
   "metadata": {},
   "outputs": [
    {
     "name": "stdout",
     "output_type": "stream",
     "text": [
      "First three rows of the data frame:\n",
      "        name  score  attempts qualify\n",
      "a  Anastasia   12.5         1     yes\n",
      "b       Dima    9.0         3      no\n",
      "c  Katherine   16.5         2     yes\n"
     ]
    }
   ],
   "source": [
    "import pandas as pd \n",
    "import numpy as np \n",
    "exam_data  = {'name': ['Anastasia', 'Dima', 'Katherine', 'James', 'Emily', 'Michael', 'Matthew', 'Laura', 'Kevin', 'Jonas'],         'score': [12.5, 9, 16.5, np.nan, 9, 20, 14.5, np.nan, 8, 19],         'attempts': [1, 3, 2, 3, 2, 3, 1, 1, 2, 1],         'qualify': ['yes', 'no', 'yes', 'no', 'no', 'yes', 'yes', 'no', 'no', 'yes']} \n",
    "labels = ['a', 'b', 'c', 'd', 'e', 'f', 'g', 'h', 'i', 'j'] \n",
    "df = pd.DataFrame(exam_data , index=labels) \n",
    "print(\"First three rows of the data frame:\") \n",
    "print(df.iloc[:3])"
   ]
  },
  {
   "cell_type": "code",
   "execution_count": null,
   "metadata": {},
   "outputs": [],
   "source": [
    "Q108"
   ]
  },
  {
   "cell_type": "code",
   "execution_count": 67,
   "metadata": {},
   "outputs": [
    {
     "name": "stdout",
     "output_type": "stream",
     "text": [
      "Select specific columns and rows:\n",
      "   score qualify\n",
      "b    9.0      no\n",
      "d    NaN      no\n",
      "f   20.0     yes\n",
      "g   14.5     yes\n"
     ]
    }
   ],
   "source": [
    "import pandas as pd \n",
    "import numpy as np \n",
    "exam_data  = {'name': ['Anastasia', 'Dima', 'Katherine', 'James', 'Emily', 'Michael', 'Matthew', 'Laura', 'Kevin', 'Jonas'], \n",
    "        'score': [12.5, 9, 16.5, np.nan, 9, 20, 14.5, np.nan, 8, 19], \n",
    "        'attempts': [1, 3, 2, 3, 2, 3, 1, 1, 2, 1], \n",
    "        'qualify': ['yes', 'no', 'yes', 'no', 'no', 'yes', 'yes', 'no', 'no', 'yes']} \n",
    "labels = ['a', 'b', 'c', 'd', 'e', 'f', 'g', 'h', 'i', 'j'] \n",
    " \n",
    "df = pd.DataFrame(exam_data , index=labels) \n",
    "print(\"Select specific columns and rows:\") \n",
    "print(df.iloc[[1, 3, 5, 6], [1, 3]]) "
   ]
  },
  {
   "cell_type": "code",
   "execution_count": null,
   "metadata": {},
   "outputs": [],
   "source": [
    "Q109"
   ]
  },
  {
   "cell_type": "code",
   "execution_count": 68,
   "metadata": {},
   "outputs": [
    {
     "name": "stdout",
     "output_type": "stream",
     "text": [
      "\n",
      "Mean score for each different student in data frame:\n",
      "13.5625\n"
     ]
    }
   ],
   "source": [
    "import pandas as pd \n",
    "import numpy as np \n",
    "exam_data  = {'name': ['Anastasia', 'Dima', 'Katherine', 'James', 'Emily', 'Michael', 'Matthew', 'Laura', 'Kevin', 'Jonas'],         'score': [12.5, 9, 16.5, np.nan, 9, 20, 14.5, np.nan, 8, 19],         'attempts': [1, 3, 2, 3, 2, 3, 1, 1, 2, 1],         'qualify': ['yes', 'no', 'yes', 'no', 'no', 'yes', 'yes', 'no', 'no', 'yes']} \n",
    "labels = ['a', 'b', 'c', 'd', 'e', 'f', 'g', 'h', 'i', 'j'] \n",
    " \n",
    "df = pd.DataFrame(exam_data , index=labels) \n",
    "print(\"\\nMean score for each different student in data frame:\") \n",
    "print(df['score'].mean()) "
   ]
  },
  {
   "cell_type": "code",
   "execution_count": null,
   "metadata": {},
   "outputs": [],
   "source": [
    "Q110."
   ]
  },
  {
   "cell_type": "code",
   "execution_count": 70,
   "metadata": {},
   "outputs": [
    {
     "name": "stdout",
     "output_type": "stream",
     "text": [
      "Original DataFrame\n",
      "   col1  col2  col3\n",
      "0     1     4     7\n",
      "1     2     5     8\n",
      "2     3     6     9\n",
      "New DataFrame after renaming columns:\n",
      "   Column1  Column2  Column3\n",
      "0        1        4        7\n",
      "1        2        5        8\n",
      "2        3        6        9\n"
     ]
    }
   ],
   "source": [
    "import pandas as pd \n",
    "d = {'col1': [1, 2, 3], 'col2': [4, 5, 6], 'col3': [7, 8, 9]} \n",
    "df = pd.DataFrame(data=d) \n",
    "print(\"Original DataFrame\") \n",
    "print(df) \n",
    "df.columns = ['Column1', 'Column2', 'Column3'] \n",
    "df = df.rename(columns={'col1': 'Column1', 'col2': 'Column2', 'col3': 'Column3'}) \n",
    "print(\"New DataFrame after renaming columns:\") \n",
    "print(df) "
   ]
  },
  {
   "cell_type": "code",
   "execution_count": null,
   "metadata": {},
   "outputs": [],
   "source": [
    "Q111"
   ]
  },
  {
   "cell_type": "code",
   "execution_count": 71,
   "metadata": {},
   "outputs": [
    {
     "name": "stdout",
     "output_type": "stream",
     "text": [
      "          city  Number of people\n",
      "0   California                 4\n",
      "1      Georgia                 2\n",
      "2  Los Angeles                 4\n"
     ]
    }
   ],
   "source": [
    "import pandas as pd \n",
    "df1 = pd.DataFrame({'name': ['Anastasia', 'Dima', 'Katherine', 'James', 'Emily', 'Michael', 'Matthew', 'Laura', 'Kevin', 'Jonas'], 'city': ['California', 'Los Angeles', 'California', 'California', 'California', 'Los Angeles', 'Los Angeles', 'Georgia', 'Georgia', 'Los Angeles']}) \n",
    "g1 = df1.groupby([\"city\"]).size().reset_index(name='Number of people') \n",
    "print(g1) "
   ]
  },
  {
   "cell_type": "code",
   "execution_count": null,
   "metadata": {},
   "outputs": [],
   "source": [
    "Q112"
   ]
  },
  {
   "cell_type": "code",
   "execution_count": 72,
   "metadata": {},
   "outputs": [
    {
     "name": "stdout",
     "output_type": "stream",
     "text": [
      "Original DataFrame\n",
      "   col1  col2  col3\n",
      "0     1     4     7\n",
      "1     4     5     8\n",
      "2     3     6     9\n",
      "3     4     7     0\n",
      "4     5     8     1\n"
     ]
    }
   ],
   "source": [
    "import pandas as pd \n",
    "import numpy as np \n",
    "d = {'col1': [1, 4, 3, 4, 5], 'col2': [4, 5, 6, 7, 8], 'col3': [7, 8, 9, 0, 1]} \n",
    "df = pd.DataFrame(data=d) \n",
    "pd.set_option('display.max_rows', 500) \n",
    "pd.set_option('display.max_columns', 500) \n",
    "pd.set_option('display.width', 1000) \n",
    "print(\"Original DataFrame\") \n",
    "print(df)"
   ]
  },
  {
   "cell_type": "code",
   "execution_count": null,
   "metadata": {},
   "outputs": [],
   "source": [
    "Q113"
   ]
  },
  {
   "cell_type": "code",
   "execution_count": 73,
   "metadata": {},
   "outputs": [
    {
     "name": "stdout",
     "output_type": "stream",
     "text": [
      "String Date:\n",
      "0    3/11/2000\n",
      "1    3/12/2000\n",
      "2    3/13/2000\n",
      "dtype: object\n",
      "Original DataFrame (string to datetime):\n",
      "           0\n",
      "0 2000-03-11\n",
      "1 2000-03-12\n",
      "2 2000-03-13\n"
     ]
    }
   ],
   "source": [
    "import pandas as pd \n",
    "import numpy as np \n",
    "s = pd.Series(['3/11/2000', '3/12/2000', '3/13/2000']) \n",
    "print(\"String Date:\") \n",
    "print(s) \n",
    "r = pd.to_datetime(pd.Series(s)) \n",
    "df = pd.DataFrame(r) \n",
    "print(\"Original DataFrame (string to datetime):\") \n",
    "print(df) "
   ]
  },
  {
   "cell_type": "code",
   "execution_count": null,
   "metadata": {},
   "outputs": [],
   "source": [
    "Q114"
   ]
  },
  {
   "cell_type": "code",
   "execution_count": 74,
   "metadata": {},
   "outputs": [
    {
     "name": "stdout",
     "output_type": "stream",
     "text": [
      "After appending some data:\n",
      "   col1  col2\n",
      "0     0     0\n",
      "1     1     1\n",
      "2     2     2\n"
     ]
    }
   ],
   "source": [
    "import pandas as pd \n",
    "import numpy as np \n",
    "df = pd.DataFrame() \n",
    "data = pd.DataFrame({\"col1\": range(3),\"col2\": range(3)})  \n",
    "print(\"After appending some data:\") \n",
    "df = df.append(data) \n",
    "print(df)"
   ]
  },
  {
   "cell_type": "code",
   "execution_count": null,
   "metadata": {},
   "outputs": [],
   "source": [
    "Q115"
   ]
  },
  {
   "cell_type": "code",
   "execution_count": 75,
   "metadata": {},
   "outputs": [
    {
     "name": "stdout",
     "output_type": "stream",
     "text": [
      "Original DataFrame\n",
      "   col1  col2  col3\n",
      "0     1     4     7\n",
      "1     2     5     8\n",
      "2     3     6    12\n",
      "3     4     9     1\n",
      "4     7     5    11\n",
      "\n",
      "Number of columns:\n",
      "3\n"
     ]
    }
   ],
   "source": [
    "import pandas as pd \n",
    "d = {'col1': [1, 2, 3, 4, 7], 'col2': [4, 5, 6, 9, 5], 'col3': [7, 8, 12, 1, 11]} \n",
    "df = pd.DataFrame(data=d) \n",
    "print(\"Original DataFrame\") \n",
    "print(df) \n",
    "print(\"\\nNumber of columns:\") \n",
    "print(len(df.columns)) "
   ]
  },
  {
   "cell_type": "code",
   "execution_count": null,
   "metadata": {},
   "outputs": [],
   "source": [
    "Q116"
   ]
  },
  {
   "cell_type": "code",
   "execution_count": 76,
   "metadata": {},
   "outputs": [
    {
     "name": "stdout",
     "output_type": "stream",
     "text": [
      "Original DataFrame\n",
      "   col1  col2  col3\n",
      "0     1     4     7\n",
      "1     2     5     5\n",
      "2     3     6     8\n",
      "3     4     9    12\n",
      "4     7     5     1\n",
      "5    11     0    11\n",
      "\n",
      "After removing last 3 rows of the said DataFrame:\n",
      "   col1  col2  col3\n",
      "0     1     4     7\n",
      "1     2     5     5\n",
      "2     3     6     8\n"
     ]
    }
   ],
   "source": [
    "import pandas as pd \n",
    "d = {'col1': [1, 2, 3, 4, 7, 11], 'col2': [4, 5, 6, 9, 5, 0], 'col3': [7, 5, 8, 12, 1,11]} \n",
    "df = pd.DataFrame(data=d) \n",
    "print(\"Original DataFrame\") \n",
    "print(df) \n",
    "print(\"\\nAfter removing last 3 rows of the said DataFrame:\") \n",
    "df1 = df.iloc[:3] \n",
    "print(df1) "
   ]
  },
  {
   "cell_type": "code",
   "execution_count": null,
   "metadata": {},
   "outputs": [],
   "source": [
    "Q117"
   ]
  },
  {
   "cell_type": "code",
   "execution_count": 81,
   "metadata": {},
   "outputs": [
    {
     "name": "stdout",
     "output_type": "stream",
     "text": [
      "<bound method NDFrame.head of     Year  MSHA ID                       Mine_Name  Production  Labor_Hours\n",
      "0   2013   103381            Tacoa Highwall Miner       56004        22392\n",
      "1   2013   103404                Reid School Mine       28807        28447\n",
      "2   2013   100759  North River #1 Underground Min     1440115       474784\n",
      "3   2013   103246                      Bear Creek       87587        29193\n",
      "4   2013   103451                     Knight Mine      147499        46393\n",
      "5   2013   103433              Crane Central Mine       69339        47195\n",
      "6   2013   100329                    Concord Mine           0       144002\n",
      "7   2013   100851                  Oak Grove Mine     2269014      1001809\n",
      "8   2013   102901                Shoal Creek Mine           0        12396\n",
      "9   2013   102901                Shoal Creek Mine     1453024      1237415\n",
      "10  2013   103180             Sloan Mountain Mine      327780       196963\n",
      "11  2013   103182                        Fishtrap      175058        87314\n",
      "12  2013   103285                     Narley Mine      154861        90584\n",
      "13  2013   103332                   Powhatan Mine      140521        61394\n",
      "14  2013   103375                    Johnson Mine         580         1900\n",
      "15  2013   103419               Maxine-Pratt Mine      125824       107469\n",
      "16  2013   103432                   Skelton Creek        8252          220\n",
      "17  2013   103437         Black Warrior Mine No 1      145924        70926\n",
      "18  2013   102976   Piney Woods Preparation Plant           0        14828\n",
      "19  2013   102976   Piney Woods Preparation Plant           0        23193\n",
      "20  2013   103380                          Calera           0        12621\n",
      "21  2013   103380                          Calera           0         1402\n",
      "22  2013   103422                 Clark No 1 Mine      122727       140250\n",
      "23  2013   103467             Helena Surface Mine       59664        30539\n",
      "24  2013   101247                       No 4 Mine     2622528      1551141\n",
      "25  2013   101401                       No 7 Mine     5405412      2464719\n",
      "26  2013   103172  Searles Mine No. 2, 3, 4, 5, 6      258078       119542\n",
      "27  2013   103179             Fleetwood Mine No 1       75937        63745\n",
      "28  2013   103303                    Shannon Mine      317491       164388\n",
      "29  2013   103323                   Deerlick Mine      133452        46381\n",
      "30  2013   103364           Brc Alabama No. 7 Llc           0        14324\n",
      "31  2013   103436                Swann's Crossing      137511        77190\n",
      "32  2013   100347                    Choctaw Mine      537429       215295\n",
      "33  2013   101362                 Manchester Mine      219457       116914\n",
      "34  2013   102996                  Jap Creek Mine      375715       164093\n",
      "35  2013   103155              Corinth Prep Plant           0        27996\n",
      "36  2013   103155              Corinth Prep Plant           0        51994\n",
      "37  2013   103195     Mccollum/Sparks Branch Mine       71910        17411\n",
      "38  2013   103342             Reese's Branch Mine      263888       115123\n",
      "39  2013   103370             Cresent Valley Mine        2860          621\n",
      "40  2013   103372                 Cane Creek Mine       66258        32401\n",
      "41  2013   103376                      Town Creek      299167       176499\n",
      "42  2013   103389                Carbon Hill Mine       76241        84966\n",
      "43  2013   103410                Coal Valley Mine      407841       158591\n",
      "44  2013   103423                Dutton Hill Mine       37275         9162\n",
      "45  2013  1519322                         Ghm #25       25054         3108\n",
      "46  2013   103321                  Poplar Springs      189370        76366\n",
      "47  2013   103358                       Old Union      284563       161805\n",
      "48  2013  5000030                        Usibelli     1631584       286079\n",
      "49  2013   201195                    Kayenta Mine     7602722      1015333>\n"
     ]
    }
   ],
   "source": [
    "import pandas as pd \n",
    "import numpy as np \n",
    "df = pd.read_excel('C:\\INeuron\\py sub and obj\\data for subjective questions\\coalpublic2013.xlsx') \n",
    "print(df.head) "
   ]
  },
  {
   "cell_type": "code",
   "execution_count": null,
   "metadata": {},
   "outputs": [],
   "source": [
    "Q118."
   ]
  },
  {
   "cell_type": "code",
   "execution_count": 82,
   "metadata": {},
   "outputs": [
    {
     "data": {
      "text/html": [
       "<div>\n",
       "<style scoped>\n",
       "    .dataframe tbody tr th:only-of-type {\n",
       "        vertical-align: middle;\n",
       "    }\n",
       "\n",
       "    .dataframe tbody tr th {\n",
       "        vertical-align: top;\n",
       "    }\n",
       "\n",
       "    .dataframe thead th {\n",
       "        text-align: right;\n",
       "    }\n",
       "</style>\n",
       "<table border=\"1\" class=\"dataframe\">\n",
       "  <thead>\n",
       "    <tr style=\"text-align: right;\">\n",
       "      <th></th>\n",
       "      <th>Year</th>\n",
       "      <th>MSHA ID</th>\n",
       "      <th>Mine_Name</th>\n",
       "      <th>Production</th>\n",
       "      <th>Labor_Hours</th>\n",
       "    </tr>\n",
       "  </thead>\n",
       "  <tbody>\n",
       "    <tr>\n",
       "      <th>13</th>\n",
       "      <td>2013</td>\n",
       "      <td>103332</td>\n",
       "      <td>Powhatan Mine</td>\n",
       "      <td>140521</td>\n",
       "      <td>61394</td>\n",
       "    </tr>\n",
       "    <tr>\n",
       "      <th>18</th>\n",
       "      <td>2013</td>\n",
       "      <td>102976</td>\n",
       "      <td>Piney Woods Preparation Plant</td>\n",
       "      <td>0</td>\n",
       "      <td>14828</td>\n",
       "    </tr>\n",
       "    <tr>\n",
       "      <th>19</th>\n",
       "      <td>2013</td>\n",
       "      <td>102976</td>\n",
       "      <td>Piney Woods Preparation Plant</td>\n",
       "      <td>0</td>\n",
       "      <td>23193</td>\n",
       "    </tr>\n",
       "    <tr>\n",
       "      <th>46</th>\n",
       "      <td>2013</td>\n",
       "      <td>103321</td>\n",
       "      <td>Poplar Springs</td>\n",
       "      <td>189370</td>\n",
       "      <td>76366</td>\n",
       "    </tr>\n",
       "  </tbody>\n",
       "</table>\n",
       "</div>"
      ],
      "text/plain": [
       "    Year  MSHA ID                      Mine_Name  Production  Labor_Hours\n",
       "13  2013   103332                  Powhatan Mine      140521        61394\n",
       "18  2013   102976  Piney Woods Preparation Plant           0        14828\n",
       "19  2013   102976  Piney Woods Preparation Plant           0        23193\n",
       "46  2013   103321                 Poplar Springs      189370        76366"
      ]
     },
     "execution_count": 82,
     "metadata": {},
     "output_type": "execute_result"
    }
   ],
   "source": [
    "import pandas as pd \n",
    "import numpy as np \n",
    "df = pd.read_excel('C:\\INeuron\\py sub and obj\\data for subjective questions\\coalpublic2013.xlsx')     \n",
    "df[df[\"Mine_Name\"].map(lambda x: x.startswith('P'))].head() "
   ]
  },
  {
   "cell_type": "code",
   "execution_count": null,
   "metadata": {},
   "outputs": [],
   "source": [
    "Q119"
   ]
  },
  {
   "cell_type": "code",
   "execution_count": 83,
   "metadata": {},
   "outputs": [
    {
     "data": {
      "text/html": [
       "<div>\n",
       "<style scoped>\n",
       "    .dataframe tbody tr th:only-of-type {\n",
       "        vertical-align: middle;\n",
       "    }\n",
       "\n",
       "    .dataframe tbody tr th {\n",
       "        vertical-align: top;\n",
       "    }\n",
       "\n",
       "    .dataframe thead th {\n",
       "        text-align: right;\n",
       "    }\n",
       "</style>\n",
       "<table border=\"1\" class=\"dataframe\">\n",
       "  <thead>\n",
       "    <tr style=\"text-align: right;\">\n",
       "      <th></th>\n",
       "      <th>emp_id</th>\n",
       "      <th>first_name</th>\n",
       "      <th>last_name</th>\n",
       "      <th>hire_date</th>\n",
       "    </tr>\n",
       "  </thead>\n",
       "  <tbody>\n",
       "    <tr>\n",
       "      <th>4</th>\n",
       "      <td>104</td>\n",
       "      <td>Bruce</td>\n",
       "      <td>Ernst</td>\n",
       "      <td>2007-05-21</td>\n",
       "    </tr>\n",
       "    <tr>\n",
       "      <th>7</th>\n",
       "      <td>107</td>\n",
       "      <td>Diana</td>\n",
       "      <td>Lorentz</td>\n",
       "      <td>2007-02-07</td>\n",
       "    </tr>\n",
       "    <tr>\n",
       "      <th>13</th>\n",
       "      <td>113</td>\n",
       "      <td>Luis</td>\n",
       "      <td>Popp</td>\n",
       "      <td>2007-12-07</td>\n",
       "    </tr>\n",
       "    <tr>\n",
       "      <th>19</th>\n",
       "      <td>119</td>\n",
       "      <td>Karen</td>\n",
       "      <td>Colmenares</td>\n",
       "      <td>2007-08-10</td>\n",
       "    </tr>\n",
       "  </tbody>\n",
       "</table>\n",
       "</div>"
      ],
      "text/plain": [
       "    emp_id first_name   last_name  hire_date\n",
       "4      104      Bruce       Ernst 2007-05-21\n",
       "7      107      Diana     Lorentz 2007-02-07\n",
       "13     113       Luis        Popp 2007-12-07\n",
       "19     119      Karen  Colmenares 2007-08-10"
      ]
     },
     "execution_count": 83,
     "metadata": {},
     "output_type": "execute_result"
    }
   ],
   "source": [
    "import pandas as pd \n",
    "import numpy as np \n",
    "df = pd.read_excel('C:\\INeuron\\py sub and obj\\data for subjective questions\\employee.xlsx') \n",
    "df[df['hire_date'] >='20070101'] "
   ]
  },
  {
   "cell_type": "code",
   "execution_count": null,
   "metadata": {},
   "outputs": [],
   "source": [
    "Q120"
   ]
  },
  {
   "cell_type": "code",
   "execution_count": 84,
   "metadata": {},
   "outputs": [
    {
     "data": {
      "text/html": [
       "<div>\n",
       "<style scoped>\n",
       "    .dataframe tbody tr th:only-of-type {\n",
       "        vertical-align: middle;\n",
       "    }\n",
       "\n",
       "    .dataframe tbody tr th {\n",
       "        vertical-align: top;\n",
       "    }\n",
       "\n",
       "    .dataframe thead th {\n",
       "        text-align: right;\n",
       "    }\n",
       "</style>\n",
       "<table border=\"1\" class=\"dataframe\">\n",
       "  <thead>\n",
       "    <tr style=\"text-align: right;\">\n",
       "      <th></th>\n",
       "      <th>emp_id</th>\n",
       "      <th>first_name</th>\n",
       "      <th>last_name</th>\n",
       "    </tr>\n",
       "    <tr>\n",
       "      <th>hire_date</th>\n",
       "      <th></th>\n",
       "      <th></th>\n",
       "      <th></th>\n",
       "    </tr>\n",
       "  </thead>\n",
       "  <tbody>\n",
       "    <tr>\n",
       "      <th>2005-09-21</th>\n",
       "      <td>101</td>\n",
       "      <td>Neena</td>\n",
       "      <td>Kochhar</td>\n",
       "    </tr>\n",
       "    <tr>\n",
       "      <th>2005-06-25</th>\n",
       "      <td>105</td>\n",
       "      <td>David</td>\n",
       "      <td>Austin</td>\n",
       "    </tr>\n",
       "    <tr>\n",
       "      <th>2005-09-28</th>\n",
       "      <td>110</td>\n",
       "      <td>John</td>\n",
       "      <td>Chen</td>\n",
       "    </tr>\n",
       "    <tr>\n",
       "      <th>2005-09-30</th>\n",
       "      <td>111</td>\n",
       "      <td>Ismael</td>\n",
       "      <td>Sciarra</td>\n",
       "    </tr>\n",
       "    <tr>\n",
       "      <th>2005-12-24</th>\n",
       "      <td>116</td>\n",
       "      <td>Shelli</td>\n",
       "      <td>Baida</td>\n",
       "    </tr>\n",
       "    <tr>\n",
       "      <th>2005-07-24</th>\n",
       "      <td>117</td>\n",
       "      <td>Sigal</td>\n",
       "      <td>Tobias</td>\n",
       "    </tr>\n",
       "  </tbody>\n",
       "</table>\n",
       "</div>"
      ],
      "text/plain": [
       "            emp_id first_name last_name\n",
       "hire_date                              \n",
       "2005-09-21     101      Neena   Kochhar\n",
       "2005-06-25     105      David    Austin\n",
       "2005-09-28     110       John      Chen\n",
       "2005-09-30     111     Ismael   Sciarra\n",
       "2005-12-24     116     Shelli     Baida\n",
       "2005-07-24     117      Sigal    Tobias"
      ]
     },
     "execution_count": 84,
     "metadata": {},
     "output_type": "execute_result"
    }
   ],
   "source": [
    "import pandas as pd \n",
    "import numpy as np \n",
    "df = pd.read_excel('C:\\INeuron\\py sub and obj\\data for subjective questions\\employee.xlsx') \n",
    "df2 = df.set_index(['hire_date']) \n",
    "result = df2[\"2005\"] \n",
    "result"
   ]
  },
  {
   "cell_type": "code",
   "execution_count": null,
   "metadata": {},
   "outputs": [],
   "source": [
    "Q121"
   ]
  },
  {
   "cell_type": "code",
   "execution_count": 85,
   "metadata": {},
   "outputs": [
    {
     "name": "stdout",
     "output_type": "stream",
     "text": [
      "    emp_id   first_name    last_name  hire_date\n",
      "0      100       Steven         King 2003-06-17\n",
      "1      101        Neena      Kochhar 2005-09-21\n",
      "2      102          Lex      De Haan 2001-01-13\n",
      "3      103    Alexander       Hunold 2006-01-03\n",
      "4      104        Bruce        Ernst 2007-05-21\n",
      "5      105        David       Austin 2005-06-25\n",
      "6      106        Valli    Pataballa 2006-02-05\n",
      "7      107        Diana      Lorentz 2007-02-07\n",
      "8      108        Nancy    Greenberg 2002-08-17\n",
      "9      109       Daniel       Faviet 2002-08-16\n",
      "10     110         John         Chen 2005-09-28\n",
      "11     111       Ismael      Sciarra 2005-09-30\n",
      "12     112  Jose Manuel        Urman 2006-03-07\n",
      "13     113         Luis         Popp 2007-12-07\n",
      "14     114          Den     Raphaely 2002-12-07\n",
      "15     115    Alexander         Khoo 2003-05-18\n",
      "16     116       Shelli        Baida 2005-12-24\n",
      "17     117        Sigal       Tobias 2005-07-24\n",
      "18     118          Guy       Himuro 2006-11-15\n",
      "19     119        Karen   Colmenares 2007-08-10\n",
      "0      120      Matthew        Weiss 2004-07-18\n",
      "1      121         Adam        Fripp 2005-04-10\n",
      "2      122        Payam     Kaufling 2003-05-01\n",
      "3      123       Shanta      Vollman 2005-10-10\n",
      "4      124        Kevin      Mourgos 2007-11-16\n",
      "5      125        Julia        Nayer 2005-07-16\n",
      "6      126        Irene  Mikkilineni 2006-09-28\n",
      "7      127        James       Landry 2007-01-14\n",
      "8      128       Steven       Markle 2008-03-08\n",
      "9      129        Laura       Bissot 2005-08-20\n",
      "10     130        Mozhe     Atkinson 2005-10-30\n",
      "11     131        James       Marlow 2005-02-16\n",
      "12     132           TJ        Olson 2007-04-10\n",
      "13     133        Jason       Mallin 2004-06-14\n",
      "14     134      Michael       Rogers 2006-08-26\n",
      "15     135           Ki          Gee 2007-12-12\n",
      "16     136        Hazel   Philtanker 2008-02-06\n",
      "17     137       Renske       Ladwig 2003-07-14\n",
      "18     138      Stephen       Stiles 2005-10-26\n",
      "0      141       Trenna         Rajs 2003-10-17\n",
      "1      142       Curtis       Davies 2005-01-29\n",
      "2      143      Randall        Matos 2006-03-15\n",
      "3      144        Peter       Vargas 2006-07-09\n",
      "4      145         John      Russell 2004-10-01\n",
      "5      146        Karen     Partners 2005-01-05\n",
      "6      147      Alberto    Errazuriz 2005-03-10\n",
      "7      148       Gerald    Cambrault 2007-10-15\n",
      "8      149        Eleni      Zlotkey 2008-01-29\n"
     ]
    }
   ],
   "source": [
    "import pandas as pd \n",
    "import numpy as np \n",
    "df1 = pd.read_excel('C:\\INeuron\\py sub and obj\\data for subjective questions\\employee.xlsx',sheet_name=0) \n",
    "df2 = pd.read_excel('C:\\INeuron\\py sub and obj\\data for subjective questions\\employee.xlsx',sheet_name=1) \n",
    "df3 = pd.read_excel('C:\\INeuron\\py sub and obj\\data for subjective questions\\employee.xlsx',sheet_name=2) \n",
    "df = pd.concat([df1, df2, df3]) \n",
    "print(df)"
   ]
  },
  {
   "cell_type": "code",
   "execution_count": null,
   "metadata": {},
   "outputs": [],
   "source": [
    "Q122"
   ]
  },
  {
   "cell_type": "code",
   "execution_count": 86,
   "metadata": {},
   "outputs": [],
   "source": [
    "import pandas as pd \n",
    "import numpy as np \n",
    "df1 = pd.read_excel('C:\\INeuron\\py sub and obj\\data for subjective questions\\employee.xlsx',sheet_name=0) \n",
    "df2 = pd.read_excel('C:\\INeuron\\py sub and obj\\data for subjective questions\\employee.xlsx',sheet_name=1) \n",
    "df3 = pd.read_excel('C:\\INeuron\\py sub and obj\\data for subjective questions\\employee.xlsx',sheet_name=2) \n",
    "df = pd.concat([df1, df2, df3]) \n",
    "df.to_excel('C:\\INeuron\\py sub and obj\\data for subjective questions\\output.xlsx', index=False) "
   ]
  },
  {
   "cell_type": "code",
   "execution_count": null,
   "metadata": {},
   "outputs": [],
   "source": [
    "Q123"
   ]
  },
  {
   "cell_type": "code",
   "execution_count": 88,
   "metadata": {},
   "outputs": [
    {
     "name": "stdout",
     "output_type": "stream",
     "text": [
      "              Unnamed: 15  adult_male  alone      fare  parch  pclass  sibsp  survived\n",
      "sex    age                                                                            \n",
      "female 0.75           0.0         0.0    0.0   38.5166      2       6      4         2\n",
      "       1.00           0.0         0.0    0.0   26.8750      3       6      1         2\n",
      "       2.00           0.0         0.0    0.0  259.4750      9      15      9         2\n",
      "       3.00           0.0         0.0    0.0   62.6542      3       5      4         1\n",
      "       4.00           0.0         0.0    0.0  114.1417      6      13      4         5\n",
      "       5.00           0.0         0.0    1.0   90.8708      5      11      7         4\n",
      "       6.00           0.0         0.0    0.0   64.2750      3       5      4         1\n",
      "       7.00           0.0         0.0    0.0   26.2500      2       2      0         1\n",
      "       8.00           0.0         0.0    0.0   47.3250      3       5      3         1\n",
      "       9.00           0.0         0.0    0.0  108.7958      7      12     10         0\n",
      "       10.00          0.0         0.0    0.0   24.1500      2       3      0         0\n",
      "       11.00          0.0         0.0    0.0   31.2750      2       3      4         0\n",
      "       13.00          0.0         0.0    1.0   26.7292      1       5      0         2\n",
      "       14.00          0.0         0.0    1.0  169.1667      2       9      3         3\n",
      "       14.50          0.0         0.0    0.0   14.4542      0       3      1         0\n",
      "       15.00          0.0         0.0    2.0  241.0459      1      10      1         4\n",
      "       16.00          0.0         0.0    3.0  246.2625      4      12      5         5\n",
      "       17.00          0.0         0.0    3.0  210.7833      2      12      6         5\n",
      "       18.00          0.0         0.0    4.0  697.0167      9      31      6         8\n",
      "       19.00          0.0         0.0    3.0  215.0959      2      13      3         7\n",
      "       20.00          0.0         0.0    1.0   18.4875      0       6      1         0\n",
      "       21.00          0.0         0.0    4.0  410.4333      4      16      5         4\n",
      "       22.00          0.0         0.0    7.0  444.1084      6      26      3        10\n",
      "       23.00          0.0         0.0    3.0  405.5417      2      10      4         4\n",
      "       24.00          0.0         0.0    7.0  772.1708     15      31     10        14\n",
      "       25.00          0.0         0.0    1.0  223.2500      4      11      3         2\n",
      "       26.00          0.0         0.0    3.0  136.7292      1      12      2         3\n",
      "       27.00          0.0         0.0    2.0   76.8916      3      15      2         5\n",
      "       28.00          0.0         0.0    4.0  110.9458      1      16      3         5\n",
      "       29.00          0.0         0.0    2.0  320.6208      7      16      3         5\n",
      "       30.00          0.0         0.0    9.0  465.9917      1      20      4         9\n",
      "       30.50          0.0         0.0    1.0    7.7500      0       3      0         0\n",
      "       31.00          0.0         0.0    2.0  359.4542      4      16      4         5\n",
      "       32.00          0.0         0.0    2.0  104.7917      1       6      1         2\n",
      "       32.50          0.0         0.0    1.0   13.0000      0       2      0         1\n",
      "       33.00          0.0         0.0    1.0  299.2000      4      10      6         6\n",
      "       34.00          0.0         0.0    2.0   79.0000      2       8      1         4\n",
      "       35.00          0.0         0.0    3.0  967.7875      1      11      5         8\n",
      "       36.00          0.0         0.0    3.0  396.0333      4      12      3         7\n",
      "       37.00          0.0         0.0    1.0    9.5875      0       3      0         0\n",
      "       38.00          0.0         0.0    3.0  423.1958      5       8      2         4\n",
      "       39.00          0.0         0.0    0.0  389.9916     13      10      5         4\n",
      "       40.00          0.0         0.0    3.0  365.1875      2      11      3         5\n",
      "       41.00          0.0         0.0    1.0  213.9000      8       9      0         2\n",
      "       42.00          0.0         0.0    2.0  266.5250      0       5      1         3\n",
      "       43.00          0.0         0.0    0.0  258.2375      7       4      1         1\n",
      "       44.00          0.0         0.0    1.0  111.7000      1       4      1         2\n",
      "       45.00          0.0         0.0    2.0  254.7209      7      14      3         3\n",
      "       47.00          0.0         0.0    0.0   67.0542      1       4      2         1\n",
      "       48.00          0.0         0.0    1.0  164.9042      5       7      3         3\n",
      "       49.00          0.0         0.0    1.0  102.6584      0       2      1         2\n",
      "       50.00          0.0         0.0    3.0  323.2333      2       8      0         4\n",
      "       51.00          0.0         0.0    0.0   77.9583      0       1      1         1\n",
      "       52.00          0.0         0.0    0.0  171.7667      1       2      2         2\n",
      "       53.00          0.0         0.0    0.0   51.4792      0       1      2         1\n",
      "       54.00          0.0         0.0    0.0  160.6667      3       4      3         3\n",
      "       55.00          0.0         0.0    1.0   16.0000      0       2      0         1\n",
      "       56.00          0.0         0.0    0.0   83.1583      1       1      0         1\n",
      "       57.00          0.0         0.0    1.0   10.5000      0       2      0         0\n",
      "       58.00          0.0         0.0    2.0  326.5333      1       3      0         3\n",
      "       60.00          0.0         0.0    0.0   75.2500      0       1      1         1\n",
      "       62.00          0.0         0.0    1.0   80.0000      0       1      0         1\n",
      "       63.00          0.0         0.0    1.0   87.5458      0       4      1         2\n",
      "male   0.42           0.0         0.0    0.0    8.5167      1       3      0         1\n",
      "       0.67           0.0         0.0    0.0   14.5000      1       2      1         1\n",
      "       0.83           0.0         0.0    0.0   47.7500      3       4      1         2\n",
      "       0.92           0.0         0.0    0.0  151.5500      2       1      1         1\n",
      "       1.00           0.0         0.0    0.0  183.1667      8      13     12         3\n",
      "       2.00           0.0         0.0    0.0  115.8875      4      11     12         1\n",
      "       3.00           0.0         0.0    0.0   92.0375      5      10      7         4\n",
      "       4.00           0.0         0.0    0.0  181.2916      8      13     12         2\n",
      "       6.00           0.0         0.0    0.0   12.4750      1       3      0         1\n",
      "       7.00           0.0         0.0    0.0   68.8125      2       6      8         0\n",
      "       8.00           0.0         0.0    0.0   65.8750      2       5      5         1\n",
      "       9.00           0.0         0.0    0.0  114.7125      7      12     10         2\n",
      "       10.00          0.0         0.0    0.0   27.9000      2       3      3         0\n",
      "       11.00          0.0         0.0    1.0  185.6875      4       7      6         1\n",
      "       12.00          0.0         0.0    0.0   11.2417      0       3      1         1\n",
      "       14.00          0.0         0.0    0.0   86.5875      3       6      9         0\n",
      "       15.00          0.0         0.0    0.0    7.2292      1       3      1         0\n",
      "       16.00          0.0        11.0    7.0  191.4042      5      31      8         1\n",
      "       17.00          0.0         7.0    4.0  158.2792      3      19      2         1\n",
      "       18.00          0.0        13.0    9.0  292.6333      2      33      4         1\n",
      "       19.00          0.0        18.0   15.0  481.6415      3      46      5         2\n",
      "       20.00          0.0        13.0   11.0  110.8751      1      39      2         3\n",
      "       20.50          0.0         1.0    1.0    7.2500      0       3      0         0\n",
      "       21.00          0.0        17.0   14.0  347.1416      1      46      3         1\n",
      "       22.00          0.0        15.0   14.0  244.5207      0      43      1         1\n",
      "       23.00          0.0        10.0    8.0  164.3791      2      22      2         1\n",
      "       23.50          0.0         1.0    1.0    7.2292      0       3      0         0\n",
      "       24.00          0.0        14.0   10.0  518.8999      1      35      5         1\n",
      "       24.50          0.0         1.0    1.0    8.0500      0       3      0         0\n",
      "       25.00          0.0        18.0   11.0  338.3126      2      45      7         4\n",
      "       26.00          0.0        13.0    9.0  206.8333      2      36      5         3\n",
      "       27.00          0.0        12.0    9.0  469.6125      2      25      2         6\n",
      "       28.00          0.0        18.0   14.0  414.5582      1      42      4         2\n",
      "       28.50          0.0         2.0    2.0   23.3292      0       6      0         0\n",
      "       29.00          0.0        13.0    9.0  221.1957      0      32      4         3\n",
      "       30.00          0.0        14.0   12.0  172.5500      0      35      2         1\n",
      "       30.50          0.0         1.0    1.0    8.0500      0       3      0         0\n",
      "       31.00          0.0        10.0    6.0  269.7000      2      20      4         3\n",
      "       32.00          0.0        15.0   12.0  333.0291      0      40      4         7\n",
      "       32.50          0.0         1.0    0.0   30.0708      0       2      1         0\n",
      "       33.00          0.0         9.0    8.0   88.1833      1      24      1         0\n",
      "       34.00          0.0        11.0    7.0  170.5458      1      25      4         2\n",
      "       34.50          0.0         1.0    1.0    6.4375      0       3      0         0\n",
      "       35.00          0.0        10.0   10.0  639.8375      0      22      0         3\n",
      "       36.00          0.0        15.0    9.0  923.1958      6      29      5         4\n",
      "       36.50          0.0         1.0    0.0   26.0000      2       2      0         0\n",
      "       37.00          0.0         5.0    0.0  169.2792      2       8      5         1\n",
      "       38.00          0.0         6.0    4.0  267.0708      1      12      1         1\n",
      "       39.00          0.0         8.0    7.0  123.2750      5      19      1         1\n",
      "       40.00          0.0         7.0    5.0  117.2416      5      15      2         1\n",
      "       40.50          0.0         2.0    1.0   22.2500      2       6      0         0\n",
      "       41.00          0.0         2.0    1.0   21.2333      0       6      2         0\n",
      "       42.00          0.0        10.0    6.0  216.1084      1      21      3         3\n",
      "       43.00          0.0         3.0    2.0   40.7500      1       8      1         0\n",
      "       44.00          0.0         6.0    3.0  156.1250      1      15      3         1\n",
      "       45.00          0.0         6.0    5.0  187.1000      0      10      1         2\n",
      "       45.50          0.0         2.0    2.0   35.7250      0       4      0         0\n",
      "       46.00          0.0         3.0    2.0  166.3750      0       4      1         0\n",
      "       47.00          0.0         7.0    7.0  181.3583      0      12      0         0\n",
      "       48.00          0.0         5.0    3.0  176.1334      0       8      2         3\n",
      "       49.00          0.0         4.0    1.0  256.9167      1       6      3         2\n",
      "       50.00          0.0         5.0    2.0  317.0250      0       8      4         1\n",
      "       51.00          0.0         6.0    5.0  123.3084      1      13      0         1\n",
      "       52.00          0.0         4.0    3.0  136.6500      1       6      1         1\n",
      "       54.00          0.0         5.0    3.0  195.1500      1       8      1         0\n",
      "       55.00          0.0         1.0    1.0   30.5000      0       1      0         0\n",
      "       55.50          0.0         1.0    1.0    8.0500      0       3      0         0\n",
      "       56.00          0.0         3.0    3.0   92.7458      0       3      0         1\n",
      "       57.00          0.0         1.0    1.0   12.3500      0       2      0         0\n",
      "       58.00          0.0         2.0    1.0  142.9750      2       2      0         0\n",
      "       59.00          0.0         2.0    2.0   20.7500      0       5      0         0\n",
      "       60.00          0.0         3.0    1.0  144.7500      2       4      2         1\n",
      "       61.00          0.0         3.0    3.0   72.0583      0       5      0         0\n",
      "       62.00          0.0         3.0    3.0   63.6000      0       4      0         1\n",
      "       64.00          0.0         2.0    1.0  289.0000      4       2      1         0\n",
      "       65.00          0.0         3.0    2.0   96.2792      1       5      0         0\n",
      "       66.00          0.0         1.0    1.0   10.5000      0       2      0         0\n",
      "       70.00          0.0         2.0    1.0   81.5000      1       3      1         0\n",
      "       70.50          0.0         1.0    1.0    7.7500      0       3      0         0\n",
      "       71.00          0.0         2.0    2.0   84.1584      0       2      0         0\n",
      "       74.00          0.0         1.0    1.0    7.7750      0       3      0         0\n",
      "       80.00          0.0         1.0    1.0   30.0000      0       1      0         1\n"
     ]
    }
   ],
   "source": [
    "import pandas as pd \n",
    "import numpy as np \n",
    "df = pd.read_csv('C:\\INeuron\\py sub and obj\\data for subjective questions\\\\titanic.csv') \n",
    "result = pd.pivot_table(df, index = [\"sex\",\"age\"], aggfunc=np.sum) \n",
    "print(result) "
   ]
  },
  {
   "cell_type": "code",
   "execution_count": null,
   "metadata": {},
   "outputs": [],
   "source": [
    "Q124"
   ]
  },
  {
   "cell_type": "code",
   "execution_count": 89,
   "metadata": {},
   "outputs": [
    {
     "name": "stdout",
     "output_type": "stream",
     "text": [
      "        survived\n",
      "sex             \n",
      "female  0.742038\n",
      "male    0.188908\n"
     ]
    }
   ],
   "source": [
    "import pandas as pd \n",
    "import numpy as np \n",
    "df = pd.read_csv('C:\\INeuron\\py sub and obj\\data for subjective questions\\\\titanic.csv') \n",
    "result=df.groupby('sex')[['survived']].mean() \n",
    "print(result) "
   ]
  },
  {
   "cell_type": "code",
   "execution_count": null,
   "metadata": {},
   "outputs": [],
   "source": [
    "Q125"
   ]
  },
  {
   "cell_type": "code",
   "execution_count": 90,
   "metadata": {},
   "outputs": [
    {
     "name": "stdout",
     "output_type": "stream",
     "text": [
      "0      (10.0, 30.0]\n",
      "1      (30.0, 60.0]\n",
      "2      (10.0, 30.0]\n",
      "3      (30.0, 60.0]\n",
      "4      (30.0, 60.0]\n",
      "5               NaN\n",
      "6      (30.0, 60.0]\n",
      "7       (0.0, 10.0]\n",
      "8      (10.0, 30.0]\n",
      "9      (10.0, 30.0]\n",
      "10      (0.0, 10.0]\n",
      "11     (30.0, 60.0]\n",
      "12     (10.0, 30.0]\n",
      "13     (30.0, 60.0]\n",
      "14     (10.0, 30.0]\n",
      "15     (30.0, 60.0]\n",
      "16      (0.0, 10.0]\n",
      "17              NaN\n",
      "18     (30.0, 60.0]\n",
      "19              NaN\n",
      "20     (30.0, 60.0]\n",
      "21     (30.0, 60.0]\n",
      "22     (10.0, 30.0]\n",
      "23     (10.0, 30.0]\n",
      "24      (0.0, 10.0]\n",
      "25     (30.0, 60.0]\n",
      "26              NaN\n",
      "27     (10.0, 30.0]\n",
      "28              NaN\n",
      "29              NaN\n",
      "30     (30.0, 60.0]\n",
      "31              NaN\n",
      "32              NaN\n",
      "33     (60.0, 80.0]\n",
      "34     (10.0, 30.0]\n",
      "35     (30.0, 60.0]\n",
      "36              NaN\n",
      "37     (10.0, 30.0]\n",
      "38     (10.0, 30.0]\n",
      "39     (10.0, 30.0]\n",
      "40     (30.0, 60.0]\n",
      "41     (10.0, 30.0]\n",
      "42              NaN\n",
      "43      (0.0, 10.0]\n",
      "44     (10.0, 30.0]\n",
      "45              NaN\n",
      "46              NaN\n",
      "47              NaN\n",
      "48              NaN\n",
      "49     (10.0, 30.0]\n",
      "50      (0.0, 10.0]\n",
      "51     (10.0, 30.0]\n",
      "52     (30.0, 60.0]\n",
      "53     (10.0, 30.0]\n",
      "54     (60.0, 80.0]\n",
      "55              NaN\n",
      "56     (10.0, 30.0]\n",
      "57     (10.0, 30.0]\n",
      "58      (0.0, 10.0]\n",
      "59     (10.0, 30.0]\n",
      "60     (10.0, 30.0]\n",
      "61     (30.0, 60.0]\n",
      "62     (30.0, 60.0]\n",
      "63      (0.0, 10.0]\n",
      "64              NaN\n",
      "65              NaN\n",
      "66     (10.0, 30.0]\n",
      "67     (10.0, 30.0]\n",
      "68     (10.0, 30.0]\n",
      "69     (10.0, 30.0]\n",
      "70     (30.0, 60.0]\n",
      "71     (10.0, 30.0]\n",
      "72     (10.0, 30.0]\n",
      "73     (10.0, 30.0]\n",
      "74     (30.0, 60.0]\n",
      "75     (10.0, 30.0]\n",
      "76              NaN\n",
      "77              NaN\n",
      "78      (0.0, 10.0]\n",
      "79     (10.0, 30.0]\n",
      "80     (10.0, 30.0]\n",
      "81     (10.0, 30.0]\n",
      "82              NaN\n",
      "83     (10.0, 30.0]\n",
      "84     (10.0, 30.0]\n",
      "85     (30.0, 60.0]\n",
      "86     (10.0, 30.0]\n",
      "87              NaN\n",
      "88     (10.0, 30.0]\n",
      "89     (10.0, 30.0]\n",
      "90     (10.0, 30.0]\n",
      "91     (10.0, 30.0]\n",
      "92     (30.0, 60.0]\n",
      "93     (10.0, 30.0]\n",
      "94     (30.0, 60.0]\n",
      "95              NaN\n",
      "96     (60.0, 80.0]\n",
      "97     (10.0, 30.0]\n",
      "98     (30.0, 60.0]\n",
      "99     (30.0, 60.0]\n",
      "100    (10.0, 30.0]\n",
      "101             NaN\n",
      "102    (10.0, 30.0]\n",
      "103    (30.0, 60.0]\n",
      "104    (30.0, 60.0]\n",
      "105    (10.0, 30.0]\n",
      "106    (10.0, 30.0]\n",
      "107             NaN\n",
      "108    (30.0, 60.0]\n",
      "109             NaN\n",
      "110    (30.0, 60.0]\n",
      "111    (10.0, 30.0]\n",
      "112    (10.0, 30.0]\n",
      "113    (10.0, 30.0]\n",
      "114    (10.0, 30.0]\n",
      "115    (10.0, 30.0]\n",
      "116    (60.0, 80.0]\n",
      "117    (10.0, 30.0]\n",
      "118    (10.0, 30.0]\n",
      "119     (0.0, 10.0]\n",
      "120    (10.0, 30.0]\n",
      "121             NaN\n",
      "122    (30.0, 60.0]\n",
      "123    (30.0, 60.0]\n",
      "124    (30.0, 60.0]\n",
      "125    (10.0, 30.0]\n",
      "126             NaN\n",
      "127    (10.0, 30.0]\n",
      "128             NaN\n",
      "129    (30.0, 60.0]\n",
      "130    (30.0, 60.0]\n",
      "131    (10.0, 30.0]\n",
      "132    (30.0, 60.0]\n",
      "133    (10.0, 30.0]\n",
      "134    (10.0, 30.0]\n",
      "135    (10.0, 30.0]\n",
      "136    (10.0, 30.0]\n",
      "137    (30.0, 60.0]\n",
      "138    (10.0, 30.0]\n",
      "139    (10.0, 30.0]\n",
      "140             NaN\n",
      "141    (10.0, 30.0]\n",
      "142    (10.0, 30.0]\n",
      "143    (10.0, 30.0]\n",
      "144    (10.0, 30.0]\n",
      "145    (10.0, 30.0]\n",
      "146    (10.0, 30.0]\n",
      "147     (0.0, 10.0]\n",
      "148    (30.0, 60.0]\n",
      "149    (30.0, 60.0]\n",
      "150    (30.0, 60.0]\n",
      "151    (10.0, 30.0]\n",
      "152    (30.0, 60.0]\n",
      "153    (30.0, 60.0]\n",
      "154             NaN\n",
      "155    (30.0, 60.0]\n",
      "156    (10.0, 30.0]\n",
      "157    (10.0, 30.0]\n",
      "158             NaN\n",
      "159             NaN\n",
      "160    (30.0, 60.0]\n",
      "161    (30.0, 60.0]\n",
      "162    (10.0, 30.0]\n",
      "163    (10.0, 30.0]\n",
      "164     (0.0, 10.0]\n",
      "165     (0.0, 10.0]\n",
      "166             NaN\n",
      "167    (30.0, 60.0]\n",
      "168             NaN\n",
      "169    (10.0, 30.0]\n",
      "170    (60.0, 80.0]\n",
      "171     (0.0, 10.0]\n",
      "172     (0.0, 10.0]\n",
      "173    (10.0, 30.0]\n",
      "174    (30.0, 60.0]\n",
      "175    (10.0, 30.0]\n",
      "176             NaN\n",
      "177    (30.0, 60.0]\n",
      "178    (10.0, 30.0]\n",
      "179    (30.0, 60.0]\n",
      "180             NaN\n",
      "181             NaN\n",
      "182     (0.0, 10.0]\n",
      "183     (0.0, 10.0]\n",
      "184     (0.0, 10.0]\n",
      "185             NaN\n",
      "186             NaN\n",
      "187    (30.0, 60.0]\n",
      "188    (30.0, 60.0]\n",
      "189    (30.0, 60.0]\n",
      "190    (30.0, 60.0]\n",
      "191    (10.0, 30.0]\n",
      "192    (10.0, 30.0]\n",
      "193     (0.0, 10.0]\n",
      "194    (30.0, 60.0]\n",
      "195    (30.0, 60.0]\n",
      "196             NaN\n",
      "197    (30.0, 60.0]\n",
      "198             NaN\n",
      "199    (10.0, 30.0]\n",
      "200    (10.0, 30.0]\n",
      "201             NaN\n",
      "202    (30.0, 60.0]\n",
      "203    (30.0, 60.0]\n",
      "204    (10.0, 30.0]\n",
      "205     (0.0, 10.0]\n",
      "206    (30.0, 60.0]\n",
      "207    (10.0, 30.0]\n",
      "208    (10.0, 30.0]\n",
      "209    (30.0, 60.0]\n",
      "210    (10.0, 30.0]\n",
      "211    (30.0, 60.0]\n",
      "212    (10.0, 30.0]\n",
      "213    (10.0, 30.0]\n",
      "214             NaN\n",
      "215    (30.0, 60.0]\n",
      "216    (10.0, 30.0]\n",
      "217    (30.0, 60.0]\n",
      "218    (30.0, 60.0]\n",
      "219    (10.0, 30.0]\n",
      "220    (10.0, 30.0]\n",
      "221    (10.0, 30.0]\n",
      "222    (30.0, 60.0]\n",
      "223             NaN\n",
      "224    (30.0, 60.0]\n",
      "225    (10.0, 30.0]\n",
      "226    (10.0, 30.0]\n",
      "227    (10.0, 30.0]\n",
      "228    (10.0, 30.0]\n",
      "229             NaN\n",
      "230    (30.0, 60.0]\n",
      "231    (10.0, 30.0]\n",
      "232    (30.0, 60.0]\n",
      "233     (0.0, 10.0]\n",
      "234    (10.0, 30.0]\n",
      "235             NaN\n",
      "236    (30.0, 60.0]\n",
      "237     (0.0, 10.0]\n",
      "238    (10.0, 30.0]\n",
      "239    (30.0, 60.0]\n",
      "240             NaN\n",
      "241             NaN\n",
      "242    (10.0, 30.0]\n",
      "243    (10.0, 30.0]\n",
      "244    (10.0, 30.0]\n",
      "245    (30.0, 60.0]\n",
      "246    (10.0, 30.0]\n",
      "247    (10.0, 30.0]\n",
      "248    (30.0, 60.0]\n",
      "249    (30.0, 60.0]\n",
      "           ...     \n",
      "641    (10.0, 30.0]\n",
      "642     (0.0, 10.0]\n",
      "643             NaN\n",
      "644     (0.0, 10.0]\n",
      "645    (30.0, 60.0]\n",
      "646    (10.0, 30.0]\n",
      "647    (30.0, 60.0]\n",
      "648             NaN\n",
      "649    (10.0, 30.0]\n",
      "650             NaN\n",
      "651    (10.0, 30.0]\n",
      "652    (10.0, 30.0]\n",
      "653             NaN\n",
      "654    (10.0, 30.0]\n",
      "655    (10.0, 30.0]\n",
      "656             NaN\n",
      "657    (30.0, 60.0]\n",
      "658    (10.0, 30.0]\n",
      "659    (30.0, 60.0]\n",
      "660    (30.0, 60.0]\n",
      "661    (30.0, 60.0]\n",
      "662    (30.0, 60.0]\n",
      "663    (30.0, 60.0]\n",
      "664    (10.0, 30.0]\n",
      "665    (30.0, 60.0]\n",
      "666    (10.0, 30.0]\n",
      "667             NaN\n",
      "668    (30.0, 60.0]\n",
      "669             NaN\n",
      "670    (30.0, 60.0]\n",
      "671    (30.0, 60.0]\n",
      "672    (60.0, 80.0]\n",
      "673    (30.0, 60.0]\n",
      "674             NaN\n",
      "675    (10.0, 30.0]\n",
      "676    (10.0, 30.0]\n",
      "677    (10.0, 30.0]\n",
      "678    (30.0, 60.0]\n",
      "679    (30.0, 60.0]\n",
      "680             NaN\n",
      "681    (10.0, 30.0]\n",
      "682    (10.0, 30.0]\n",
      "683    (10.0, 30.0]\n",
      "684    (30.0, 60.0]\n",
      "685    (10.0, 30.0]\n",
      "686    (10.0, 30.0]\n",
      "687    (10.0, 30.0]\n",
      "688    (10.0, 30.0]\n",
      "689    (10.0, 30.0]\n",
      "690    (30.0, 60.0]\n",
      "691     (0.0, 10.0]\n",
      "692             NaN\n",
      "693    (10.0, 30.0]\n",
      "694    (30.0, 60.0]\n",
      "695    (30.0, 60.0]\n",
      "696    (30.0, 60.0]\n",
      "697             NaN\n",
      "698    (30.0, 60.0]\n",
      "699    (30.0, 60.0]\n",
      "700    (10.0, 30.0]\n",
      "701    (30.0, 60.0]\n",
      "702    (10.0, 30.0]\n",
      "703    (10.0, 30.0]\n",
      "704    (10.0, 30.0]\n",
      "705    (30.0, 60.0]\n",
      "706    (30.0, 60.0]\n",
      "707    (30.0, 60.0]\n",
      "708    (10.0, 30.0]\n",
      "709             NaN\n",
      "710    (10.0, 30.0]\n",
      "711             NaN\n",
      "712    (30.0, 60.0]\n",
      "713    (10.0, 30.0]\n",
      "714    (30.0, 60.0]\n",
      "715    (10.0, 30.0]\n",
      "716    (30.0, 60.0]\n",
      "717    (10.0, 30.0]\n",
      "718             NaN\n",
      "719    (30.0, 60.0]\n",
      "720     (0.0, 10.0]\n",
      "721    (10.0, 30.0]\n",
      "722    (30.0, 60.0]\n",
      "723    (30.0, 60.0]\n",
      "724    (10.0, 30.0]\n",
      "725    (10.0, 30.0]\n",
      "726    (10.0, 30.0]\n",
      "727             NaN\n",
      "728    (10.0, 30.0]\n",
      "729    (10.0, 30.0]\n",
      "730    (10.0, 30.0]\n",
      "731    (10.0, 30.0]\n",
      "732             NaN\n",
      "733    (10.0, 30.0]\n",
      "734    (10.0, 30.0]\n",
      "735    (10.0, 30.0]\n",
      "736    (30.0, 60.0]\n",
      "737    (30.0, 60.0]\n",
      "738             NaN\n",
      "739             NaN\n",
      "740             NaN\n",
      "741    (30.0, 60.0]\n",
      "742    (10.0, 30.0]\n",
      "743    (10.0, 30.0]\n",
      "744    (30.0, 60.0]\n",
      "745    (60.0, 80.0]\n",
      "746    (10.0, 30.0]\n",
      "747    (10.0, 30.0]\n",
      "748    (10.0, 30.0]\n",
      "749    (30.0, 60.0]\n",
      "750     (0.0, 10.0]\n",
      "751     (0.0, 10.0]\n",
      "752    (30.0, 60.0]\n",
      "753    (10.0, 30.0]\n",
      "754    (30.0, 60.0]\n",
      "755     (0.0, 10.0]\n",
      "756    (10.0, 30.0]\n",
      "757    (10.0, 30.0]\n",
      "758    (30.0, 60.0]\n",
      "759    (30.0, 60.0]\n",
      "760             NaN\n",
      "761    (30.0, 60.0]\n",
      "762    (10.0, 30.0]\n",
      "763    (30.0, 60.0]\n",
      "764    (10.0, 30.0]\n",
      "765    (30.0, 60.0]\n",
      "766             NaN\n",
      "767    (30.0, 60.0]\n",
      "768             NaN\n",
      "769    (30.0, 60.0]\n",
      "770    (10.0, 30.0]\n",
      "771    (30.0, 60.0]\n",
      "772    (30.0, 60.0]\n",
      "773             NaN\n",
      "774    (30.0, 60.0]\n",
      "775    (10.0, 30.0]\n",
      "776             NaN\n",
      "777     (0.0, 10.0]\n",
      "778             NaN\n",
      "779    (30.0, 60.0]\n",
      "780    (10.0, 30.0]\n",
      "781    (10.0, 30.0]\n",
      "782    (10.0, 30.0]\n",
      "783             NaN\n",
      "784    (10.0, 30.0]\n",
      "785    (10.0, 30.0]\n",
      "786    (10.0, 30.0]\n",
      "787     (0.0, 10.0]\n",
      "788     (0.0, 10.0]\n",
      "789    (30.0, 60.0]\n",
      "790             NaN\n",
      "791    (10.0, 30.0]\n",
      "792             NaN\n",
      "793             NaN\n",
      "794    (10.0, 30.0]\n",
      "795    (30.0, 60.0]\n",
      "796    (30.0, 60.0]\n",
      "797    (30.0, 60.0]\n",
      "798    (10.0, 30.0]\n",
      "799    (10.0, 30.0]\n",
      "800    (30.0, 60.0]\n",
      "801    (30.0, 60.0]\n",
      "802    (10.0, 30.0]\n",
      "803     (0.0, 10.0]\n",
      "804    (10.0, 30.0]\n",
      "805    (30.0, 60.0]\n",
      "806    (30.0, 60.0]\n",
      "807    (10.0, 30.0]\n",
      "808    (30.0, 60.0]\n",
      "809    (30.0, 60.0]\n",
      "810    (10.0, 30.0]\n",
      "811    (30.0, 60.0]\n",
      "812    (30.0, 60.0]\n",
      "813     (0.0, 10.0]\n",
      "814    (30.0, 60.0]\n",
      "815             NaN\n",
      "816    (10.0, 30.0]\n",
      "817    (30.0, 60.0]\n",
      "818    (30.0, 60.0]\n",
      "819     (0.0, 10.0]\n",
      "820    (30.0, 60.0]\n",
      "821    (10.0, 30.0]\n",
      "822    (30.0, 60.0]\n",
      "823    (10.0, 30.0]\n",
      "824     (0.0, 10.0]\n",
      "825             NaN\n",
      "826             NaN\n",
      "827     (0.0, 10.0]\n",
      "828             NaN\n",
      "829    (60.0, 80.0]\n",
      "830    (10.0, 30.0]\n",
      "831     (0.0, 10.0]\n",
      "832             NaN\n",
      "833    (10.0, 30.0]\n",
      "834    (10.0, 30.0]\n",
      "835    (30.0, 60.0]\n",
      "836    (10.0, 30.0]\n",
      "837             NaN\n",
      "838    (30.0, 60.0]\n",
      "839             NaN\n",
      "840    (10.0, 30.0]\n",
      "841    (10.0, 30.0]\n",
      "842    (10.0, 30.0]\n",
      "843    (30.0, 60.0]\n",
      "844    (10.0, 30.0]\n",
      "845    (30.0, 60.0]\n",
      "846             NaN\n",
      "847    (30.0, 60.0]\n",
      "848    (10.0, 30.0]\n",
      "849             NaN\n",
      "850     (0.0, 10.0]\n",
      "851    (60.0, 80.0]\n",
      "852     (0.0, 10.0]\n",
      "853    (10.0, 30.0]\n",
      "854    (30.0, 60.0]\n",
      "855    (10.0, 30.0]\n",
      "856    (30.0, 60.0]\n",
      "857    (30.0, 60.0]\n",
      "858    (10.0, 30.0]\n",
      "859             NaN\n",
      "860    (30.0, 60.0]\n",
      "861    (10.0, 30.0]\n",
      "862    (30.0, 60.0]\n",
      "863             NaN\n",
      "864    (10.0, 30.0]\n",
      "865    (30.0, 60.0]\n",
      "866    (10.0, 30.0]\n",
      "867    (30.0, 60.0]\n",
      "868             NaN\n",
      "869     (0.0, 10.0]\n",
      "870    (10.0, 30.0]\n",
      "871    (30.0, 60.0]\n",
      "872    (30.0, 60.0]\n",
      "873    (30.0, 60.0]\n",
      "874    (10.0, 30.0]\n",
      "875    (10.0, 30.0]\n",
      "876    (10.0, 30.0]\n",
      "877    (10.0, 30.0]\n",
      "878             NaN\n",
      "879    (30.0, 60.0]\n",
      "880    (10.0, 30.0]\n",
      "881    (30.0, 60.0]\n",
      "882    (10.0, 30.0]\n",
      "883    (10.0, 30.0]\n",
      "884    (10.0, 30.0]\n",
      "885    (30.0, 60.0]\n",
      "886    (10.0, 30.0]\n",
      "887    (10.0, 30.0]\n",
      "888             NaN\n",
      "889    (10.0, 30.0]\n",
      "890    (30.0, 60.0]\n",
      "Name: age, Length: 891, dtype: category\n",
      "Categories (4, interval[int64]): [(0, 10] < (10, 30] < (30, 60] < (60, 80]]\n"
     ]
    }
   ],
   "source": [
    "import pandas as pd \n",
    "import numpy as np \n",
    "df = pd.read_csv('C:\\INeuron\\py sub and obj\\data for subjective questions\\\\titanic.csv') \n",
    "result = pd.cut(df['age'], [0, 10, 30, 60, 80]) \n",
    "print(result)"
   ]
  },
  {
   "cell_type": "code",
   "execution_count": null,
   "metadata": {},
   "outputs": [],
   "source": [
    "Q126"
   ]
  },
  {
   "cell_type": "code",
   "execution_count": 91,
   "metadata": {},
   "outputs": [
    {
     "name": "stdout",
     "output_type": "stream",
     "text": [
      "class               First    Second     Third\n",
      "sex    age                                   \n",
      "female (0, 20]   0.928571  1.000000  0.510638\n",
      "       (20, 55]  0.968750  0.912281  0.407407\n",
      "male   (0, 20]   0.571429  0.526316  0.197368\n",
      "       (20, 55]  0.440000  0.054054  0.134503\n"
     ]
    }
   ],
   "source": [
    "import pandas as pd \n",
    "import numpy as np \n",
    "df = pd.read_csv('C:\\INeuron\\py sub and obj\\data for subjective questions\\\\titanic.csv') \n",
    "age = pd.cut(df['age'], [0, 20, 55]) \n",
    "result = df.pivot_table('survived', index=['sex', age], columns='class') \n",
    "print(result) "
   ]
  },
  {
   "cell_type": "code",
   "execution_count": null,
   "metadata": {},
   "outputs": [],
   "source": [
    "Q127"
   ]
  },
  {
   "cell_type": "code",
   "execution_count": 92,
   "metadata": {},
   "outputs": [
    {
     "name": "stdout",
     "output_type": "stream",
     "text": [
      "       Unnamed: 15       adult_male            age          alive           alone           class           deck        embark_town           embarked           fare           parch           sibsp           survived            who          \n",
      "pclass           1  2  3          1    2    3    1   2    3     1    2    3     1    2    3     1    2    3    1   2  3           1    2    3        1    2    3    1    2    3     1    2    3     1    2    3        1    2    3    1    2    3\n",
      "sex                                                                                                                                                                                                                                              \n",
      "female           0  0  0         94   76  144   85  74  102    94   76  144    94   76  144    94   76  144   81  10  6          92   76  144       92   76  144   94   76  144    94   76  144    94   76  144       94   76  144   94   76  144\n",
      "male             0  0  0        122  108  347  101  99  253   122  108  347   122  108  347   122  108  347   94   6  6         122  108  347      122  108  347  122  108  347   122  108  347   122  108  347      122  108  347  122  108  347\n"
     ]
    }
   ],
   "source": [
    "import pandas as pd \n",
    "import numpy as np \n",
    "df = pd.read_csv('C:\\INeuron\\py sub and obj\\data for subjective questions\\\\titanic.csv') \n",
    "result = df.pivot_table(index=['sex'], columns=['pclass'], aggfunc='count') \n",
    "print(result)"
   ]
  },
  {
   "cell_type": "code",
   "execution_count": null,
   "metadata": {},
   "outputs": [],
   "source": [
    "Q128"
   ]
  },
  {
   "cell_type": "code",
   "execution_count": 93,
   "metadata": {},
   "outputs": [
    {
     "name": "stdout",
     "output_type": "stream",
     "text": [
      "class            First    Second     Third\n",
      "sex    alone                              \n",
      "female False  0.966667  0.931818  0.416667\n",
      "       True   0.970588  0.906250  0.616667\n",
      "male   False  0.425532  0.277778  0.180723\n",
      "       True   0.333333  0.097222  0.121212\n"
     ]
    }
   ],
   "source": [
    "import pandas as pd \n",
    "import numpy as np \n",
    "df = pd.read_csv('C:\\INeuron\\py sub and obj\\data for subjective questions\\\\titanic.csv') \n",
    "result = df.pivot_table( 'survived' , [ 'sex' , 'alone' ] , 'class' ) \n",
    "print(result)"
   ]
  },
  {
   "cell_type": "code",
   "execution_count": null,
   "metadata": {},
   "outputs": [],
   "source": [
    "Q129"
   ]
  },
  {
   "cell_type": "code",
   "execution_count": 94,
   "metadata": {},
   "outputs": [
    {
     "name": "stdout",
     "output_type": "stream",
     "text": [
      "embark_town  Cherbourg                     Queenstown                  Southampton                    \n",
      "class            First    Second     Third      First Second     Third       First    Second     Third\n",
      "sex    alone                                                                                          \n",
      "female False  1.000000  1.000000  0.611111        1.0    NaN  0.625000    0.941176  0.923077  0.327586\n",
      "       True   0.944444  1.000000  0.800000        NaN    1.0  0.760000    1.000000  0.892857  0.466667\n",
      "male   False  0.473684  0.166667  0.500000        0.0    NaN  0.100000    0.407407  0.300000  0.142857\n",
      "       True   0.347826  0.250000  0.151515        NaN    0.0  0.068966    0.326923  0.089552  0.123762\n"
     ]
    }
   ],
   "source": [
    "import pandas as pd \n",
    "import numpy as np \n",
    "df = pd.read_csv('C:\\INeuron\\py sub and obj\\data for subjective questions\\\\titanic.csv') \n",
    "result = df.pivot_table('survived', ['sex' , 'alone' ], [ 'embark_town', 'class' ]) \n",
    "print(result) "
   ]
  },
  {
   "cell_type": "code",
   "execution_count": null,
   "metadata": {},
   "outputs": [],
   "source": [
    "Q130"
   ]
  },
  {
   "cell_type": "code",
   "execution_count": 97,
   "metadata": {},
   "outputs": [
    {
     "name": "stderr",
     "output_type": "stream",
     "text": [
      "C:\\Users\\santo\\Anaconda3\\lib\\site-packages\\IPython\\core\\interactiveshell.py:3049: DtypeWarning: Columns (5,9) have mixed types. Specify dtype option on import or set low_memory=False.\n",
      "  interactivity=interactivity, compiler=compiler, result=result)\n"
     ]
    },
    {
     "ename": "ValueError",
     "evalue": "year 39032 is out of range",
     "output_type": "error",
     "traceback": [
      "\u001b[1;31m---------------------------------------------------------------------------\u001b[0m",
      "\u001b[1;31mTypeError\u001b[0m                                 Traceback (most recent call last)",
      "\u001b[1;32m~\\Anaconda3\\lib\\site-packages\\pandas\\core\\arrays\\datetimes.py\u001b[0m in \u001b[0;36mobjects_to_datetime64ns\u001b[1;34m(data, dayfirst, yearfirst, utc, errors, require_iso8601, allow_object)\u001b[0m\n\u001b[0;32m   1860\u001b[0m         \u001b[1;32mtry\u001b[0m\u001b[1;33m:\u001b[0m\u001b[1;33m\u001b[0m\u001b[1;33m\u001b[0m\u001b[0m\n\u001b[1;32m-> 1861\u001b[1;33m             \u001b[0mvalues\u001b[0m\u001b[1;33m,\u001b[0m \u001b[0mtz_parsed\u001b[0m \u001b[1;33m=\u001b[0m \u001b[0mconversion\u001b[0m\u001b[1;33m.\u001b[0m\u001b[0mdatetime_to_datetime64\u001b[0m\u001b[1;33m(\u001b[0m\u001b[0mdata\u001b[0m\u001b[1;33m)\u001b[0m\u001b[1;33m\u001b[0m\u001b[1;33m\u001b[0m\u001b[0m\n\u001b[0m\u001b[0;32m   1862\u001b[0m             \u001b[1;31m# If tzaware, these values represent unix timestamps, so we\u001b[0m\u001b[1;33m\u001b[0m\u001b[1;33m\u001b[0m\u001b[1;33m\u001b[0m\u001b[0m\n",
      "\u001b[1;32mpandas/_libs/tslibs/conversion.pyx\u001b[0m in \u001b[0;36mpandas._libs.tslibs.conversion.datetime_to_datetime64\u001b[1;34m()\u001b[0m\n",
      "\u001b[1;31mTypeError\u001b[0m: Unrecognized value type: <class 'str'>",
      "\nDuring handling of the above exception, another exception occurred:\n",
      "\u001b[1;31mValueError\u001b[0m                                Traceback (most recent call last)",
      "\u001b[1;32m<ipython-input-97-7fedbb67805c>\u001b[0m in \u001b[0;36m<module>\u001b[1;34m\u001b[0m\n\u001b[0;32m      1\u001b[0m \u001b[1;32mimport\u001b[0m \u001b[0mpandas\u001b[0m \u001b[1;32mas\u001b[0m \u001b[0mpd\u001b[0m\u001b[1;33m\u001b[0m\u001b[1;33m\u001b[0m\u001b[0m\n\u001b[0;32m      2\u001b[0m \u001b[0mdf\u001b[0m \u001b[1;33m=\u001b[0m \u001b[0mpd\u001b[0m\u001b[1;33m.\u001b[0m\u001b[0mread_csv\u001b[0m\u001b[1;33m(\u001b[0m\u001b[1;34mr'C:\\INeuron\\py sub and obj\\data for subjective questions\\ufo_sighting_data.csv'\u001b[0m\u001b[1;33m)\u001b[0m\u001b[1;33m\u001b[0m\u001b[1;33m\u001b[0m\u001b[0m\n\u001b[1;32m----> 3\u001b[1;33m \u001b[0mdf\u001b[0m\u001b[1;33m[\u001b[0m\u001b[1;34m'Date_time'\u001b[0m\u001b[1;33m]\u001b[0m \u001b[1;33m=\u001b[0m \u001b[0mdf\u001b[0m\u001b[1;33m[\u001b[0m\u001b[1;34m'Date_time'\u001b[0m\u001b[1;33m]\u001b[0m\u001b[1;33m.\u001b[0m\u001b[0mastype\u001b[0m\u001b[1;33m(\u001b[0m\u001b[1;34m'datetime64[ns]'\u001b[0m\u001b[1;33m)\u001b[0m\u001b[1;33m\u001b[0m\u001b[1;33m\u001b[0m\u001b[0m\n\u001b[0m\u001b[0;32m      4\u001b[0m \u001b[0mprint\u001b[0m\u001b[1;33m(\u001b[0m\u001b[1;34m\"Original Dataframe:\"\u001b[0m\u001b[1;33m)\u001b[0m\u001b[1;33m\u001b[0m\u001b[1;33m\u001b[0m\u001b[0m\n\u001b[0;32m      5\u001b[0m \u001b[0mprint\u001b[0m\u001b[1;33m(\u001b[0m\u001b[0mdf\u001b[0m\u001b[1;33m.\u001b[0m\u001b[0mhead\u001b[0m\u001b[1;33m(\u001b[0m\u001b[1;33m)\u001b[0m\u001b[1;33m)\u001b[0m\u001b[1;33m\u001b[0m\u001b[1;33m\u001b[0m\u001b[0m\n",
      "\u001b[1;32m~\\Anaconda3\\lib\\site-packages\\pandas\\core\\generic.py\u001b[0m in \u001b[0;36mastype\u001b[1;34m(self, dtype, copy, errors, **kwargs)\u001b[0m\n\u001b[0;32m   5689\u001b[0m             \u001b[1;31m# else, only a single dtype is given\u001b[0m\u001b[1;33m\u001b[0m\u001b[1;33m\u001b[0m\u001b[1;33m\u001b[0m\u001b[0m\n\u001b[0;32m   5690\u001b[0m             new_data = self._data.astype(dtype=dtype, copy=copy, errors=errors,\n\u001b[1;32m-> 5691\u001b[1;33m                                          **kwargs)\n\u001b[0m\u001b[0;32m   5692\u001b[0m             \u001b[1;32mreturn\u001b[0m \u001b[0mself\u001b[0m\u001b[1;33m.\u001b[0m\u001b[0m_constructor\u001b[0m\u001b[1;33m(\u001b[0m\u001b[0mnew_data\u001b[0m\u001b[1;33m)\u001b[0m\u001b[1;33m.\u001b[0m\u001b[0m__finalize__\u001b[0m\u001b[1;33m(\u001b[0m\u001b[0mself\u001b[0m\u001b[1;33m)\u001b[0m\u001b[1;33m\u001b[0m\u001b[1;33m\u001b[0m\u001b[0m\n\u001b[0;32m   5693\u001b[0m \u001b[1;33m\u001b[0m\u001b[0m\n",
      "\u001b[1;32m~\\Anaconda3\\lib\\site-packages\\pandas\\core\\internals\\managers.py\u001b[0m in \u001b[0;36mastype\u001b[1;34m(self, dtype, **kwargs)\u001b[0m\n\u001b[0;32m    529\u001b[0m \u001b[1;33m\u001b[0m\u001b[0m\n\u001b[0;32m    530\u001b[0m     \u001b[1;32mdef\u001b[0m \u001b[0mastype\u001b[0m\u001b[1;33m(\u001b[0m\u001b[0mself\u001b[0m\u001b[1;33m,\u001b[0m \u001b[0mdtype\u001b[0m\u001b[1;33m,\u001b[0m \u001b[1;33m**\u001b[0m\u001b[0mkwargs\u001b[0m\u001b[1;33m)\u001b[0m\u001b[1;33m:\u001b[0m\u001b[1;33m\u001b[0m\u001b[1;33m\u001b[0m\u001b[0m\n\u001b[1;32m--> 531\u001b[1;33m         \u001b[1;32mreturn\u001b[0m \u001b[0mself\u001b[0m\u001b[1;33m.\u001b[0m\u001b[0mapply\u001b[0m\u001b[1;33m(\u001b[0m\u001b[1;34m'astype'\u001b[0m\u001b[1;33m,\u001b[0m \u001b[0mdtype\u001b[0m\u001b[1;33m=\u001b[0m\u001b[0mdtype\u001b[0m\u001b[1;33m,\u001b[0m \u001b[1;33m**\u001b[0m\u001b[0mkwargs\u001b[0m\u001b[1;33m)\u001b[0m\u001b[1;33m\u001b[0m\u001b[1;33m\u001b[0m\u001b[0m\n\u001b[0m\u001b[0;32m    532\u001b[0m \u001b[1;33m\u001b[0m\u001b[0m\n\u001b[0;32m    533\u001b[0m     \u001b[1;32mdef\u001b[0m \u001b[0mconvert\u001b[0m\u001b[1;33m(\u001b[0m\u001b[0mself\u001b[0m\u001b[1;33m,\u001b[0m \u001b[1;33m**\u001b[0m\u001b[0mkwargs\u001b[0m\u001b[1;33m)\u001b[0m\u001b[1;33m:\u001b[0m\u001b[1;33m\u001b[0m\u001b[1;33m\u001b[0m\u001b[0m\n",
      "\u001b[1;32m~\\Anaconda3\\lib\\site-packages\\pandas\\core\\internals\\managers.py\u001b[0m in \u001b[0;36mapply\u001b[1;34m(self, f, axes, filter, do_integrity_check, consolidate, **kwargs)\u001b[0m\n\u001b[0;32m    393\u001b[0m                                             copy=align_copy)\n\u001b[0;32m    394\u001b[0m \u001b[1;33m\u001b[0m\u001b[0m\n\u001b[1;32m--> 395\u001b[1;33m             \u001b[0mapplied\u001b[0m \u001b[1;33m=\u001b[0m \u001b[0mgetattr\u001b[0m\u001b[1;33m(\u001b[0m\u001b[0mb\u001b[0m\u001b[1;33m,\u001b[0m \u001b[0mf\u001b[0m\u001b[1;33m)\u001b[0m\u001b[1;33m(\u001b[0m\u001b[1;33m**\u001b[0m\u001b[0mkwargs\u001b[0m\u001b[1;33m)\u001b[0m\u001b[1;33m\u001b[0m\u001b[1;33m\u001b[0m\u001b[0m\n\u001b[0m\u001b[0;32m    396\u001b[0m             \u001b[0mresult_blocks\u001b[0m \u001b[1;33m=\u001b[0m \u001b[0m_extend_blocks\u001b[0m\u001b[1;33m(\u001b[0m\u001b[0mapplied\u001b[0m\u001b[1;33m,\u001b[0m \u001b[0mresult_blocks\u001b[0m\u001b[1;33m)\u001b[0m\u001b[1;33m\u001b[0m\u001b[1;33m\u001b[0m\u001b[0m\n\u001b[0;32m    397\u001b[0m \u001b[1;33m\u001b[0m\u001b[0m\n",
      "\u001b[1;32m~\\Anaconda3\\lib\\site-packages\\pandas\\core\\internals\\blocks.py\u001b[0m in \u001b[0;36mastype\u001b[1;34m(self, dtype, copy, errors, values, **kwargs)\u001b[0m\n\u001b[0;32m    532\u001b[0m     \u001b[1;32mdef\u001b[0m \u001b[0mastype\u001b[0m\u001b[1;33m(\u001b[0m\u001b[0mself\u001b[0m\u001b[1;33m,\u001b[0m \u001b[0mdtype\u001b[0m\u001b[1;33m,\u001b[0m \u001b[0mcopy\u001b[0m\u001b[1;33m=\u001b[0m\u001b[1;32mFalse\u001b[0m\u001b[1;33m,\u001b[0m \u001b[0merrors\u001b[0m\u001b[1;33m=\u001b[0m\u001b[1;34m'raise'\u001b[0m\u001b[1;33m,\u001b[0m \u001b[0mvalues\u001b[0m\u001b[1;33m=\u001b[0m\u001b[1;32mNone\u001b[0m\u001b[1;33m,\u001b[0m \u001b[1;33m**\u001b[0m\u001b[0mkwargs\u001b[0m\u001b[1;33m)\u001b[0m\u001b[1;33m:\u001b[0m\u001b[1;33m\u001b[0m\u001b[1;33m\u001b[0m\u001b[0m\n\u001b[0;32m    533\u001b[0m         return self._astype(dtype, copy=copy, errors=errors, values=values,\n\u001b[1;32m--> 534\u001b[1;33m                             **kwargs)\n\u001b[0m\u001b[0;32m    535\u001b[0m \u001b[1;33m\u001b[0m\u001b[0m\n\u001b[0;32m    536\u001b[0m     def _astype(self, dtype, copy=False, errors='raise', values=None,\n",
      "\u001b[1;32m~\\Anaconda3\\lib\\site-packages\\pandas\\core\\internals\\blocks.py\u001b[0m in \u001b[0;36m_astype\u001b[1;34m(self, dtype, copy, errors, values, **kwargs)\u001b[0m\n\u001b[0;32m    631\u001b[0m \u001b[1;33m\u001b[0m\u001b[0m\n\u001b[0;32m    632\u001b[0m                     \u001b[1;31m# _astype_nansafe works fine with 1-d only\u001b[0m\u001b[1;33m\u001b[0m\u001b[1;33m\u001b[0m\u001b[1;33m\u001b[0m\u001b[0m\n\u001b[1;32m--> 633\u001b[1;33m                     \u001b[0mvalues\u001b[0m \u001b[1;33m=\u001b[0m \u001b[0mastype_nansafe\u001b[0m\u001b[1;33m(\u001b[0m\u001b[0mvalues\u001b[0m\u001b[1;33m.\u001b[0m\u001b[0mravel\u001b[0m\u001b[1;33m(\u001b[0m\u001b[1;33m)\u001b[0m\u001b[1;33m,\u001b[0m \u001b[0mdtype\u001b[0m\u001b[1;33m,\u001b[0m \u001b[0mcopy\u001b[0m\u001b[1;33m=\u001b[0m\u001b[1;32mTrue\u001b[0m\u001b[1;33m)\u001b[0m\u001b[1;33m\u001b[0m\u001b[1;33m\u001b[0m\u001b[0m\n\u001b[0m\u001b[0;32m    634\u001b[0m \u001b[1;33m\u001b[0m\u001b[0m\n\u001b[0;32m    635\u001b[0m                 \u001b[1;31m# TODO(extension)\u001b[0m\u001b[1;33m\u001b[0m\u001b[1;33m\u001b[0m\u001b[1;33m\u001b[0m\u001b[0m\n",
      "\u001b[1;32m~\\Anaconda3\\lib\\site-packages\\pandas\\core\\dtypes\\cast.py\u001b[0m in \u001b[0;36mastype_nansafe\u001b[1;34m(arr, dtype, copy, skipna)\u001b[0m\n\u001b[0;32m    688\u001b[0m         \u001b[1;32melif\u001b[0m \u001b[0mis_datetime64_dtype\u001b[0m\u001b[1;33m(\u001b[0m\u001b[0mdtype\u001b[0m\u001b[1;33m)\u001b[0m\u001b[1;33m:\u001b[0m\u001b[1;33m\u001b[0m\u001b[1;33m\u001b[0m\u001b[0m\n\u001b[0;32m    689\u001b[0m             \u001b[1;32mfrom\u001b[0m \u001b[0mpandas\u001b[0m \u001b[1;32mimport\u001b[0m \u001b[0mto_datetime\u001b[0m\u001b[1;33m\u001b[0m\u001b[1;33m\u001b[0m\u001b[0m\n\u001b[1;32m--> 690\u001b[1;33m             \u001b[1;32mreturn\u001b[0m \u001b[0mastype_nansafe\u001b[0m\u001b[1;33m(\u001b[0m\u001b[0mto_datetime\u001b[0m\u001b[1;33m(\u001b[0m\u001b[0marr\u001b[0m\u001b[1;33m)\u001b[0m\u001b[1;33m.\u001b[0m\u001b[0mvalues\u001b[0m\u001b[1;33m,\u001b[0m \u001b[0mdtype\u001b[0m\u001b[1;33m,\u001b[0m \u001b[0mcopy\u001b[0m\u001b[1;33m=\u001b[0m\u001b[0mcopy\u001b[0m\u001b[1;33m)\u001b[0m\u001b[1;33m\u001b[0m\u001b[1;33m\u001b[0m\u001b[0m\n\u001b[0m\u001b[0;32m    691\u001b[0m         \u001b[1;32melif\u001b[0m \u001b[0mis_timedelta64_dtype\u001b[0m\u001b[1;33m(\u001b[0m\u001b[0mdtype\u001b[0m\u001b[1;33m)\u001b[0m\u001b[1;33m:\u001b[0m\u001b[1;33m\u001b[0m\u001b[1;33m\u001b[0m\u001b[0m\n\u001b[0;32m    692\u001b[0m             \u001b[1;32mfrom\u001b[0m \u001b[0mpandas\u001b[0m \u001b[1;32mimport\u001b[0m \u001b[0mto_timedelta\u001b[0m\u001b[1;33m\u001b[0m\u001b[1;33m\u001b[0m\u001b[0m\n",
      "\u001b[1;32m~\\Anaconda3\\lib\\site-packages\\pandas\\core\\tools\\datetimes.py\u001b[0m in \u001b[0;36mto_datetime\u001b[1;34m(arg, errors, dayfirst, yearfirst, utc, box, format, exact, unit, infer_datetime_format, origin, cache)\u001b[0m\n\u001b[0;32m    607\u001b[0m             \u001b[0mresult\u001b[0m \u001b[1;33m=\u001b[0m \u001b[0m_convert_and_box_cache\u001b[0m\u001b[1;33m(\u001b[0m\u001b[0marg\u001b[0m\u001b[1;33m,\u001b[0m \u001b[0mcache_array\u001b[0m\u001b[1;33m,\u001b[0m \u001b[0mbox\u001b[0m\u001b[1;33m,\u001b[0m \u001b[0merrors\u001b[0m\u001b[1;33m)\u001b[0m\u001b[1;33m\u001b[0m\u001b[1;33m\u001b[0m\u001b[0m\n\u001b[0;32m    608\u001b[0m         \u001b[1;32melse\u001b[0m\u001b[1;33m:\u001b[0m\u001b[1;33m\u001b[0m\u001b[1;33m\u001b[0m\u001b[0m\n\u001b[1;32m--> 609\u001b[1;33m             \u001b[0mresult\u001b[0m \u001b[1;33m=\u001b[0m \u001b[0mconvert_listlike\u001b[0m\u001b[1;33m(\u001b[0m\u001b[0marg\u001b[0m\u001b[1;33m,\u001b[0m \u001b[0mbox\u001b[0m\u001b[1;33m,\u001b[0m \u001b[0mformat\u001b[0m\u001b[1;33m)\u001b[0m\u001b[1;33m\u001b[0m\u001b[1;33m\u001b[0m\u001b[0m\n\u001b[0m\u001b[0;32m    610\u001b[0m     \u001b[1;32melse\u001b[0m\u001b[1;33m:\u001b[0m\u001b[1;33m\u001b[0m\u001b[1;33m\u001b[0m\u001b[0m\n\u001b[0;32m    611\u001b[0m         \u001b[0mresult\u001b[0m \u001b[1;33m=\u001b[0m \u001b[0mconvert_listlike\u001b[0m\u001b[1;33m(\u001b[0m\u001b[0mnp\u001b[0m\u001b[1;33m.\u001b[0m\u001b[0marray\u001b[0m\u001b[1;33m(\u001b[0m\u001b[1;33m[\u001b[0m\u001b[0marg\u001b[0m\u001b[1;33m]\u001b[0m\u001b[1;33m)\u001b[0m\u001b[1;33m,\u001b[0m \u001b[0mbox\u001b[0m\u001b[1;33m,\u001b[0m \u001b[0mformat\u001b[0m\u001b[1;33m)\u001b[0m\u001b[1;33m[\u001b[0m\u001b[1;36m0\u001b[0m\u001b[1;33m]\u001b[0m\u001b[1;33m\u001b[0m\u001b[1;33m\u001b[0m\u001b[0m\n",
      "\u001b[1;32m~\\Anaconda3\\lib\\site-packages\\pandas\\core\\tools\\datetimes.py\u001b[0m in \u001b[0;36m_convert_listlike_datetimes\u001b[1;34m(arg, box, format, name, tz, unit, errors, infer_datetime_format, dayfirst, yearfirst, exact)\u001b[0m\n\u001b[0;32m    300\u001b[0m             \u001b[0marg\u001b[0m\u001b[1;33m,\u001b[0m \u001b[0mdayfirst\u001b[0m\u001b[1;33m=\u001b[0m\u001b[0mdayfirst\u001b[0m\u001b[1;33m,\u001b[0m \u001b[0myearfirst\u001b[0m\u001b[1;33m=\u001b[0m\u001b[0myearfirst\u001b[0m\u001b[1;33m,\u001b[0m\u001b[1;33m\u001b[0m\u001b[1;33m\u001b[0m\u001b[0m\n\u001b[0;32m    301\u001b[0m             \u001b[0mutc\u001b[0m\u001b[1;33m=\u001b[0m\u001b[0mutc\u001b[0m\u001b[1;33m,\u001b[0m \u001b[0merrors\u001b[0m\u001b[1;33m=\u001b[0m\u001b[0merrors\u001b[0m\u001b[1;33m,\u001b[0m \u001b[0mrequire_iso8601\u001b[0m\u001b[1;33m=\u001b[0m\u001b[0mrequire_iso8601\u001b[0m\u001b[1;33m,\u001b[0m\u001b[1;33m\u001b[0m\u001b[1;33m\u001b[0m\u001b[0m\n\u001b[1;32m--> 302\u001b[1;33m             allow_object=True)\n\u001b[0m\u001b[0;32m    303\u001b[0m \u001b[1;33m\u001b[0m\u001b[0m\n\u001b[0;32m    304\u001b[0m     \u001b[1;32mif\u001b[0m \u001b[0mtz_parsed\u001b[0m \u001b[1;32mis\u001b[0m \u001b[1;32mnot\u001b[0m \u001b[1;32mNone\u001b[0m\u001b[1;33m:\u001b[0m\u001b[1;33m\u001b[0m\u001b[1;33m\u001b[0m\u001b[0m\n",
      "\u001b[1;32m~\\Anaconda3\\lib\\site-packages\\pandas\\core\\arrays\\datetimes.py\u001b[0m in \u001b[0;36mobjects_to_datetime64ns\u001b[1;34m(data, dayfirst, yearfirst, utc, errors, require_iso8601, allow_object)\u001b[0m\n\u001b[0;32m   1864\u001b[0m             \u001b[1;32mreturn\u001b[0m \u001b[0mvalues\u001b[0m\u001b[1;33m.\u001b[0m\u001b[0mview\u001b[0m\u001b[1;33m(\u001b[0m\u001b[1;34m'i8'\u001b[0m\u001b[1;33m)\u001b[0m\u001b[1;33m,\u001b[0m \u001b[0mtz_parsed\u001b[0m\u001b[1;33m\u001b[0m\u001b[1;33m\u001b[0m\u001b[0m\n\u001b[0;32m   1865\u001b[0m         \u001b[1;32mexcept\u001b[0m \u001b[1;33m(\u001b[0m\u001b[0mValueError\u001b[0m\u001b[1;33m,\u001b[0m \u001b[0mTypeError\u001b[0m\u001b[1;33m)\u001b[0m\u001b[1;33m:\u001b[0m\u001b[1;33m\u001b[0m\u001b[1;33m\u001b[0m\u001b[0m\n\u001b[1;32m-> 1866\u001b[1;33m             \u001b[1;32mraise\u001b[0m \u001b[0me\u001b[0m\u001b[1;33m\u001b[0m\u001b[1;33m\u001b[0m\u001b[0m\n\u001b[0m\u001b[0;32m   1867\u001b[0m \u001b[1;33m\u001b[0m\u001b[0m\n\u001b[0;32m   1868\u001b[0m     \u001b[1;32mif\u001b[0m \u001b[0mtz_parsed\u001b[0m \u001b[1;32mis\u001b[0m \u001b[1;32mnot\u001b[0m \u001b[1;32mNone\u001b[0m\u001b[1;33m:\u001b[0m\u001b[1;33m\u001b[0m\u001b[1;33m\u001b[0m\u001b[0m\n",
      "\u001b[1;32m~\\Anaconda3\\lib\\site-packages\\pandas\\core\\arrays\\datetimes.py\u001b[0m in \u001b[0;36mobjects_to_datetime64ns\u001b[1;34m(data, dayfirst, yearfirst, utc, errors, require_iso8601, allow_object)\u001b[0m\n\u001b[0;32m   1855\u001b[0m             \u001b[0mdayfirst\u001b[0m\u001b[1;33m=\u001b[0m\u001b[0mdayfirst\u001b[0m\u001b[1;33m,\u001b[0m\u001b[1;33m\u001b[0m\u001b[1;33m\u001b[0m\u001b[0m\n\u001b[0;32m   1856\u001b[0m             \u001b[0myearfirst\u001b[0m\u001b[1;33m=\u001b[0m\u001b[0myearfirst\u001b[0m\u001b[1;33m,\u001b[0m\u001b[1;33m\u001b[0m\u001b[1;33m\u001b[0m\u001b[0m\n\u001b[1;32m-> 1857\u001b[1;33m             \u001b[0mrequire_iso8601\u001b[0m\u001b[1;33m=\u001b[0m\u001b[0mrequire_iso8601\u001b[0m\u001b[1;33m\u001b[0m\u001b[1;33m\u001b[0m\u001b[0m\n\u001b[0m\u001b[0;32m   1858\u001b[0m         )\n\u001b[0;32m   1859\u001b[0m     \u001b[1;32mexcept\u001b[0m \u001b[0mValueError\u001b[0m \u001b[1;32mas\u001b[0m \u001b[0me\u001b[0m\u001b[1;33m:\u001b[0m\u001b[1;33m\u001b[0m\u001b[1;33m\u001b[0m\u001b[0m\n",
      "\u001b[1;32mpandas/_libs/tslib.pyx\u001b[0m in \u001b[0;36mpandas._libs.tslib.array_to_datetime\u001b[1;34m()\u001b[0m\n",
      "\u001b[1;32mpandas/_libs/tslib.pyx\u001b[0m in \u001b[0;36mpandas._libs.tslib.array_to_datetime\u001b[1;34m()\u001b[0m\n",
      "\u001b[1;32mpandas/_libs/tslib.pyx\u001b[0m in \u001b[0;36mpandas._libs.tslib.array_to_datetime_object\u001b[1;34m()\u001b[0m\n",
      "\u001b[1;32mpandas/_libs/tslib.pyx\u001b[0m in \u001b[0;36mpandas._libs.tslib.array_to_datetime_object\u001b[1;34m()\u001b[0m\n",
      "\u001b[1;32mpandas/_libs/tslibs/parsing.pyx\u001b[0m in \u001b[0;36mpandas._libs.tslibs.parsing.parse_datetime_string\u001b[1;34m()\u001b[0m\n",
      "\u001b[1;32m~\\Anaconda3\\lib\\site-packages\\dateutil\\parser\\_parser.py\u001b[0m in \u001b[0;36mparse\u001b[1;34m(timestr, parserinfo, **kwargs)\u001b[0m\n\u001b[0;32m   1356\u001b[0m         \u001b[1;32mreturn\u001b[0m \u001b[0mparser\u001b[0m\u001b[1;33m(\u001b[0m\u001b[0mparserinfo\u001b[0m\u001b[1;33m)\u001b[0m\u001b[1;33m.\u001b[0m\u001b[0mparse\u001b[0m\u001b[1;33m(\u001b[0m\u001b[0mtimestr\u001b[0m\u001b[1;33m,\u001b[0m \u001b[1;33m**\u001b[0m\u001b[0mkwargs\u001b[0m\u001b[1;33m)\u001b[0m\u001b[1;33m\u001b[0m\u001b[1;33m\u001b[0m\u001b[0m\n\u001b[0;32m   1357\u001b[0m     \u001b[1;32melse\u001b[0m\u001b[1;33m:\u001b[0m\u001b[1;33m\u001b[0m\u001b[1;33m\u001b[0m\u001b[0m\n\u001b[1;32m-> 1358\u001b[1;33m         \u001b[1;32mreturn\u001b[0m \u001b[0mDEFAULTPARSER\u001b[0m\u001b[1;33m.\u001b[0m\u001b[0mparse\u001b[0m\u001b[1;33m(\u001b[0m\u001b[0mtimestr\u001b[0m\u001b[1;33m,\u001b[0m \u001b[1;33m**\u001b[0m\u001b[0mkwargs\u001b[0m\u001b[1;33m)\u001b[0m\u001b[1;33m\u001b[0m\u001b[1;33m\u001b[0m\u001b[0m\n\u001b[0m\u001b[0;32m   1359\u001b[0m \u001b[1;33m\u001b[0m\u001b[0m\n\u001b[0;32m   1360\u001b[0m \u001b[1;33m\u001b[0m\u001b[0m\n",
      "\u001b[1;32m~\\Anaconda3\\lib\\site-packages\\dateutil\\parser\\_parser.py\u001b[0m in \u001b[0;36mparse\u001b[1;34m(self, timestr, default, ignoretz, tzinfos, **kwargs)\u001b[0m\n\u001b[0;32m    652\u001b[0m             \u001b[1;32mraise\u001b[0m \u001b[0mValueError\u001b[0m\u001b[1;33m(\u001b[0m\u001b[1;34m\"String does not contain a date:\"\u001b[0m\u001b[1;33m,\u001b[0m \u001b[0mtimestr\u001b[0m\u001b[1;33m)\u001b[0m\u001b[1;33m\u001b[0m\u001b[1;33m\u001b[0m\u001b[0m\n\u001b[0;32m    653\u001b[0m \u001b[1;33m\u001b[0m\u001b[0m\n\u001b[1;32m--> 654\u001b[1;33m         \u001b[0mret\u001b[0m \u001b[1;33m=\u001b[0m \u001b[0mself\u001b[0m\u001b[1;33m.\u001b[0m\u001b[0m_build_naive\u001b[0m\u001b[1;33m(\u001b[0m\u001b[0mres\u001b[0m\u001b[1;33m,\u001b[0m \u001b[0mdefault\u001b[0m\u001b[1;33m)\u001b[0m\u001b[1;33m\u001b[0m\u001b[1;33m\u001b[0m\u001b[0m\n\u001b[0m\u001b[0;32m    655\u001b[0m \u001b[1;33m\u001b[0m\u001b[0m\n\u001b[0;32m    656\u001b[0m         \u001b[1;32mif\u001b[0m \u001b[1;32mnot\u001b[0m \u001b[0mignoretz\u001b[0m\u001b[1;33m:\u001b[0m\u001b[1;33m\u001b[0m\u001b[1;33m\u001b[0m\u001b[0m\n",
      "\u001b[1;32m~\\Anaconda3\\lib\\site-packages\\dateutil\\parser\\_parser.py\u001b[0m in \u001b[0;36m_build_naive\u001b[1;34m(self, res, default)\u001b[0m\n\u001b[0;32m   1227\u001b[0m                 \u001b[0mrepl\u001b[0m\u001b[1;33m[\u001b[0m\u001b[1;34m'day'\u001b[0m\u001b[1;33m]\u001b[0m \u001b[1;33m=\u001b[0m \u001b[0mmonthrange\u001b[0m\u001b[1;33m(\u001b[0m\u001b[0mcyear\u001b[0m\u001b[1;33m,\u001b[0m \u001b[0mcmonth\u001b[0m\u001b[1;33m)\u001b[0m\u001b[1;33m[\u001b[0m\u001b[1;36m1\u001b[0m\u001b[1;33m]\u001b[0m\u001b[1;33m\u001b[0m\u001b[1;33m\u001b[0m\u001b[0m\n\u001b[0;32m   1228\u001b[0m \u001b[1;33m\u001b[0m\u001b[0m\n\u001b[1;32m-> 1229\u001b[1;33m         \u001b[0mnaive\u001b[0m \u001b[1;33m=\u001b[0m \u001b[0mdefault\u001b[0m\u001b[1;33m.\u001b[0m\u001b[0mreplace\u001b[0m\u001b[1;33m(\u001b[0m\u001b[1;33m**\u001b[0m\u001b[0mrepl\u001b[0m\u001b[1;33m)\u001b[0m\u001b[1;33m\u001b[0m\u001b[1;33m\u001b[0m\u001b[0m\n\u001b[0m\u001b[0;32m   1230\u001b[0m \u001b[1;33m\u001b[0m\u001b[0m\n\u001b[0;32m   1231\u001b[0m         \u001b[1;32mif\u001b[0m \u001b[0mres\u001b[0m\u001b[1;33m.\u001b[0m\u001b[0mweekday\u001b[0m \u001b[1;32mis\u001b[0m \u001b[1;32mnot\u001b[0m \u001b[1;32mNone\u001b[0m \u001b[1;32mand\u001b[0m \u001b[1;32mnot\u001b[0m \u001b[0mres\u001b[0m\u001b[1;33m.\u001b[0m\u001b[0mday\u001b[0m\u001b[1;33m:\u001b[0m\u001b[1;33m\u001b[0m\u001b[1;33m\u001b[0m\u001b[0m\n",
      "\u001b[1;31mValueError\u001b[0m: year 39032 is out of range"
     ]
    }
   ],
   "source": [
    "import pandas as pd \n",
    "df = pd.read_csv(r'C:\\INeuron\\py sub and obj\\data for subjective questions\\ufo_sighting_data.csv')\n",
    "df['Date_time'] = df['Date_time'].astype('datetime64[ns]') \n",
    "print(\"Original Dataframe:\") \n",
    "print(df.head()) \n",
    "print(\"\\nCurrent date of Ufo dataset:\") \n",
    "print(df.Date_time.max()) \n",
    "print(\"\\nOldest date of Ufo dataset:\") \n",
    "print(df.Date_time.min()) \n",
    "print(\"\\nNumber of days between Current date and oldest date of Ufo dataset:\") \n",
    "print((df.Date_time.max() - df.Date_time.min()).days)"
   ]
  },
  {
   "cell_type": "code",
   "execution_count": null,
   "metadata": {},
   "outputs": [],
   "source": [
    "Q131, Q132, Q133, Q134 DataSet not found"
   ]
  },
  {
   "cell_type": "code",
   "execution_count": null,
   "metadata": {},
   "outputs": [],
   "source": [
    "Q135"
   ]
  },
  {
   "cell_type": "code",
   "execution_count": 99,
   "metadata": {},
   "outputs": [
    {
     "name": "stdout",
     "output_type": "stream",
     "text": [
      "Hourly frequency:\n",
      "DatetimeIndex(['2018-01-01 00:00:00', '2018-01-01 01:00:00', '2018-01-01 02:00:00', '2018-01-01 03:00:00', '2018-01-01 04:00:00', '2018-01-01 05:00:00', '2018-01-01 06:00:00', '2018-01-01 07:00:00', '2018-01-01 08:00:00', '2018-01-01 09:00:00', '2018-01-01 10:00:00', '2018-01-01 11:00:00'], dtype='datetime64[ns]', freq='H')\n",
      "\n",
      "Minutely frequency:\n",
      "DatetimeIndex(['2018-01-01 00:00:00', '2018-01-01 00:01:00', '2018-01-01 00:02:00', '2018-01-01 00:03:00', '2018-01-01 00:04:00', '2018-01-01 00:05:00', '2018-01-01 00:06:00', '2018-01-01 00:07:00', '2018-01-01 00:08:00', '2018-01-01 00:09:00', '2018-01-01 00:10:00', '2018-01-01 00:11:00'], dtype='datetime64[ns]', freq='T')\n",
      "\n",
      "Secondly frequency:\n",
      "DatetimeIndex(['2018-01-01 00:00:00', '2018-01-01 00:00:01', '2018-01-01 00:00:02', '2018-01-01 00:00:03', '2018-01-01 00:00:04', '2018-01-01 00:00:05', '2018-01-01 00:00:06', '2018-01-01 00:00:07', '2018-01-01 00:00:08', '2018-01-01 00:00:09', '2018-01-01 00:00:10', '2018-01-01 00:00:11'], dtype='datetime64[ns]', freq='S')\n",
      "nMultiple Hourly frequency:\n",
      "DatetimeIndex(['2018-01-01 00:00:00', '2018-01-01 02:00:00', '2018-01-01 04:00:00', '2018-01-01 06:00:00', '2018-01-01 08:00:00', '2018-01-01 10:00:00', '2018-01-01 12:00:00', '2018-01-01 14:00:00', '2018-01-01 16:00:00', '2018-01-01 18:00:00', '2018-01-01 20:00:00', '2018-01-01 22:00:00'], dtype='datetime64[ns]', freq='2H')\n",
      "\n",
      "Multiple Minutely frequency:\n",
      "DatetimeIndex(['2018-01-01 00:00:00', '2018-01-01 00:05:00', '2018-01-01 00:10:00', '2018-01-01 00:15:00', '2018-01-01 00:20:00', '2018-01-01 00:25:00', '2018-01-01 00:30:00', '2018-01-01 00:35:00', '2018-01-01 00:40:00', '2018-01-01 00:45:00', '2018-01-01 00:50:00', '2018-01-01 00:55:00'], dtype='datetime64[ns]', freq='5T')\n",
      "\n",
      "Multiple Secondly frequency:\n",
      "DatetimeIndex(['2018-03-30', '2018-06-29', '2018-09-28', '2018-12-31', '2019-03-29', '2019-06-28', '2019-09-30', '2019-12-31', '2020-03-31', '2020-06-30', '2020-09-30', '2020-12-31'], dtype='datetime64[ns]', freq='BQ-DEC')\n",
      "\n",
      "Weekly frequency:\n",
      "DatetimeIndex(['2018-01-07', '2018-01-14', '2018-01-21', '2018-01-28', '2018-02-04', '2018-02-11', '2018-02-18', '2018-02-25', '2018-03-04', '2018-03-11', '2018-03-18', '2018-03-25'], dtype='datetime64[ns]', freq='W-SUN')\n",
      "\n",
      "Combine together day and intraday offsets-1:\n",
      "DatetimeIndex(['2018-01-01 00:00:00', '2018-01-01 02:20:00', '2018-01-01 04:40:00', '2018-01-01 07:00:00', '2018-01-01 09:20:00', '2018-01-01 11:40:00', '2018-01-01 14:00:00', '2018-01-01 16:20:00', '2018-01-01 18:40:00', '2018-01-01 21:00:00', '2018-01-01 23:20:00', '2018-01-02 01:40:00'], dtype='datetime64[ns]', freq='140T')\n",
      "\n",
      "Combine together day and intraday offsets-2:\n",
      "DatetimeIndex(['2018-01-01 00:00:00', '2018-01-02 00:00:00.000010', '2018-01-03 00:00:00.000020', '2018-01-04 00:00:00.000030', '2018-01-05 00:00:00.000040', '2018-01-06 00:00:00.000050', '2018-01-07 00:00:00.000060', '2018-01-08 00:00:00.000070', '2018-01-09 00:00:00.000080', '2018-01-10 00:00:00.000090', '2018-01-11 00:00:00.000100', '2018-01-12 00:00:00.000110'], dtype='datetime64[ns]', freq='86400000010U')\n"
     ]
    }
   ],
   "source": [
    "import pandas as pd\n",
    "dtr = pd.date_range('2018-01-01', periods=12, freq='H') \n",
    "print(\"Hourly frequency:\") \n",
    "print(dtr) \n",
    "dtr = pd.date_range('2018-01-01', periods=12, freq='min') \n",
    "print(\"\\nMinutely frequency:\") \n",
    "print(dtr) \n",
    "dtr = pd.date_range('2018-01-01', periods=12, freq='S') \n",
    "print(\"\\nSecondly frequency:\") \n",
    "print(dtr) \n",
    "dtr = pd.date_range('2018-01-01', periods=12, freq='2H') \n",
    "print(\"nMultiple Hourly frequency:\") \n",
    "print(dtr) \n",
    "dtr = pd.date_range('2018-01-01', periods=12, freq='5min') \n",
    "print(\"\\nMultiple Minutely frequency:\") \n",
    "print(dtr) \n",
    "dtr = pd.date_range('2018-01-01', periods=12, freq='BQ') \n",
    "print(\"\\nMultiple Secondly frequency:\") \n",
    "print(dtr) \n",
    "dtr = pd.date_range('2018-01-01', periods=12, freq='w') \n",
    "print(\"\\nWeekly frequency:\") \n",
    "print(dtr) \n",
    "dtr = pd.date_range('2018-01-01', periods=12, freq='2h20min') \n",
    "print(\"\\nCombine together day and intraday offsets-1:\") \n",
    "print(dtr) \n",
    "dtr = pd.date_range('2018-01-01', periods=12, freq='1D10U') \n",
    "print(\"\\nCombine together day and intraday offsets-2:\") \n",
    "print(dtr)"
   ]
  },
  {
   "cell_type": "code",
   "execution_count": null,
   "metadata": {},
   "outputs": [],
   "source": [
    "Q136"
   ]
  },
  {
   "cell_type": "code",
   "execution_count": 100,
   "metadata": {},
   "outputs": [
    {
     "name": "stdout",
     "output_type": "stream",
     "text": [
      "DatetimeIndex(['2018-01-01 00:00:00+00:00', '2018-01-01 01:00:00+00:00', '2018-01-01 02:00:00+00:00'], dtype='datetime64[ns, UTC]', freq='H')\n",
      "\n",
      "From UTC to America/Los_Angeles:\n",
      "DatetimeIndex(['2017-12-31 16:00:00-08:00', '2017-12-31 17:00:00-08:00', '2017-12-31 18:00:00-08:00'], dtype='datetime64[ns, America/Los_Angeles]', freq='H')\n"
     ]
    }
   ],
   "source": [
    "import pandas as pd \n",
    "dtt = pd.date_range('2018-01-01', periods=3, freq='H') \n",
    "dtt = dtt.tz_localize('UTC') \n",
    "print(dtt) \n",
    "print(\"\\nFrom UTC to America/Los_Angeles:\") \n",
    "dtt = dtt.tz_convert('America/Los_Angeles') \n",
    "print(dtt)"
   ]
  },
  {
   "cell_type": "code",
   "execution_count": null,
   "metadata": {},
   "outputs": [],
   "source": [
    "Q137, Q138, Q139, Q140 dataset not found"
   ]
  },
  {
   "cell_type": "code",
   "execution_count": 101,
   "metadata": {},
   "outputs": [
    {
     "name": "stderr",
     "output_type": "stream",
     "text": [
      "C:\\Users\\santo\\Anaconda3\\lib\\site-packages\\IPython\\core\\interactiveshell.py:3049: DtypeWarning: Columns (5,9) have mixed types. Specify dtype option on import or set low_memory=False.\n",
      "  interactivity=interactivity, compiler=compiler, result=result)\n"
     ]
    },
    {
     "ename": "ValueError",
     "evalue": "year 39032 is out of range",
     "output_type": "error",
     "traceback": [
      "\u001b[1;31m---------------------------------------------------------------------------\u001b[0m",
      "\u001b[1;31mTypeError\u001b[0m                                 Traceback (most recent call last)",
      "\u001b[1;32m~\\Anaconda3\\lib\\site-packages\\pandas\\core\\arrays\\datetimes.py\u001b[0m in \u001b[0;36mobjects_to_datetime64ns\u001b[1;34m(data, dayfirst, yearfirst, utc, errors, require_iso8601, allow_object)\u001b[0m\n\u001b[0;32m   1860\u001b[0m         \u001b[1;32mtry\u001b[0m\u001b[1;33m:\u001b[0m\u001b[1;33m\u001b[0m\u001b[1;33m\u001b[0m\u001b[0m\n\u001b[1;32m-> 1861\u001b[1;33m             \u001b[0mvalues\u001b[0m\u001b[1;33m,\u001b[0m \u001b[0mtz_parsed\u001b[0m \u001b[1;33m=\u001b[0m \u001b[0mconversion\u001b[0m\u001b[1;33m.\u001b[0m\u001b[0mdatetime_to_datetime64\u001b[0m\u001b[1;33m(\u001b[0m\u001b[0mdata\u001b[0m\u001b[1;33m)\u001b[0m\u001b[1;33m\u001b[0m\u001b[1;33m\u001b[0m\u001b[0m\n\u001b[0m\u001b[0;32m   1862\u001b[0m             \u001b[1;31m# If tzaware, these values represent unix timestamps, so we\u001b[0m\u001b[1;33m\u001b[0m\u001b[1;33m\u001b[0m\u001b[1;33m\u001b[0m\u001b[0m\n",
      "\u001b[1;32mpandas/_libs/tslibs/conversion.pyx\u001b[0m in \u001b[0;36mpandas._libs.tslibs.conversion.datetime_to_datetime64\u001b[1;34m()\u001b[0m\n",
      "\u001b[1;31mTypeError\u001b[0m: Unrecognized value type: <class 'str'>",
      "\nDuring handling of the above exception, another exception occurred:\n",
      "\u001b[1;31mValueError\u001b[0m                                Traceback (most recent call last)",
      "\u001b[1;32m<ipython-input-101-6343dc78abb6>\u001b[0m in \u001b[0;36m<module>\u001b[1;34m\u001b[0m\n\u001b[0;32m      4\u001b[0m \u001b[1;33m\u001b[0m\u001b[0m\n\u001b[0;32m      5\u001b[0m \u001b[0mdf\u001b[0m \u001b[1;33m=\u001b[0m \u001b[0mpd\u001b[0m\u001b[1;33m.\u001b[0m\u001b[0mread_csv\u001b[0m\u001b[1;33m(\u001b[0m\u001b[1;34mr'C:\\INeuron\\py sub and obj\\data for subjective questions\\ufo_sighting_data.csv'\u001b[0m\u001b[1;33m)\u001b[0m\u001b[1;33m\u001b[0m\u001b[1;33m\u001b[0m\u001b[0m\n\u001b[1;32m----> 6\u001b[1;33m \u001b[0mdf\u001b[0m\u001b[1;33m[\u001b[0m\u001b[1;34m'Date_time'\u001b[0m\u001b[1;33m]\u001b[0m \u001b[1;33m=\u001b[0m \u001b[0mdf\u001b[0m\u001b[1;33m[\u001b[0m\u001b[1;34m'Date_time'\u001b[0m\u001b[1;33m]\u001b[0m\u001b[1;33m.\u001b[0m\u001b[0mastype\u001b[0m\u001b[1;33m(\u001b[0m\u001b[1;34m'datetime64[ns]'\u001b[0m\u001b[1;33m)\u001b[0m\u001b[1;33m\u001b[0m\u001b[1;33m\u001b[0m\u001b[0m\n\u001b[0m\u001b[0;32m      7\u001b[0m \u001b[0mdf\u001b[0m\u001b[1;33m[\u001b[0m\u001b[1;34m\"ufo_yr\"\u001b[0m\u001b[1;33m]\u001b[0m \u001b[1;33m=\u001b[0m \u001b[0mdf\u001b[0m\u001b[1;33m.\u001b[0m\u001b[0mDate_time\u001b[0m\u001b[1;33m.\u001b[0m\u001b[0mdt\u001b[0m\u001b[1;33m.\u001b[0m\u001b[0myear\u001b[0m\u001b[1;33m\u001b[0m\u001b[1;33m\u001b[0m\u001b[0m\n\u001b[0;32m      8\u001b[0m \u001b[0myears_data\u001b[0m \u001b[1;33m=\u001b[0m \u001b[0mdf\u001b[0m\u001b[1;33m.\u001b[0m\u001b[0mufo_yr\u001b[0m\u001b[1;33m.\u001b[0m\u001b[0mvalue_counts\u001b[0m\u001b[1;33m(\u001b[0m\u001b[1;33m)\u001b[0m\u001b[1;33m\u001b[0m\u001b[1;33m\u001b[0m\u001b[0m\n",
      "\u001b[1;32m~\\Anaconda3\\lib\\site-packages\\pandas\\core\\generic.py\u001b[0m in \u001b[0;36mastype\u001b[1;34m(self, dtype, copy, errors, **kwargs)\u001b[0m\n\u001b[0;32m   5689\u001b[0m             \u001b[1;31m# else, only a single dtype is given\u001b[0m\u001b[1;33m\u001b[0m\u001b[1;33m\u001b[0m\u001b[1;33m\u001b[0m\u001b[0m\n\u001b[0;32m   5690\u001b[0m             new_data = self._data.astype(dtype=dtype, copy=copy, errors=errors,\n\u001b[1;32m-> 5691\u001b[1;33m                                          **kwargs)\n\u001b[0m\u001b[0;32m   5692\u001b[0m             \u001b[1;32mreturn\u001b[0m \u001b[0mself\u001b[0m\u001b[1;33m.\u001b[0m\u001b[0m_constructor\u001b[0m\u001b[1;33m(\u001b[0m\u001b[0mnew_data\u001b[0m\u001b[1;33m)\u001b[0m\u001b[1;33m.\u001b[0m\u001b[0m__finalize__\u001b[0m\u001b[1;33m(\u001b[0m\u001b[0mself\u001b[0m\u001b[1;33m)\u001b[0m\u001b[1;33m\u001b[0m\u001b[1;33m\u001b[0m\u001b[0m\n\u001b[0;32m   5693\u001b[0m \u001b[1;33m\u001b[0m\u001b[0m\n",
      "\u001b[1;32m~\\Anaconda3\\lib\\site-packages\\pandas\\core\\internals\\managers.py\u001b[0m in \u001b[0;36mastype\u001b[1;34m(self, dtype, **kwargs)\u001b[0m\n\u001b[0;32m    529\u001b[0m \u001b[1;33m\u001b[0m\u001b[0m\n\u001b[0;32m    530\u001b[0m     \u001b[1;32mdef\u001b[0m \u001b[0mastype\u001b[0m\u001b[1;33m(\u001b[0m\u001b[0mself\u001b[0m\u001b[1;33m,\u001b[0m \u001b[0mdtype\u001b[0m\u001b[1;33m,\u001b[0m \u001b[1;33m**\u001b[0m\u001b[0mkwargs\u001b[0m\u001b[1;33m)\u001b[0m\u001b[1;33m:\u001b[0m\u001b[1;33m\u001b[0m\u001b[1;33m\u001b[0m\u001b[0m\n\u001b[1;32m--> 531\u001b[1;33m         \u001b[1;32mreturn\u001b[0m \u001b[0mself\u001b[0m\u001b[1;33m.\u001b[0m\u001b[0mapply\u001b[0m\u001b[1;33m(\u001b[0m\u001b[1;34m'astype'\u001b[0m\u001b[1;33m,\u001b[0m \u001b[0mdtype\u001b[0m\u001b[1;33m=\u001b[0m\u001b[0mdtype\u001b[0m\u001b[1;33m,\u001b[0m \u001b[1;33m**\u001b[0m\u001b[0mkwargs\u001b[0m\u001b[1;33m)\u001b[0m\u001b[1;33m\u001b[0m\u001b[1;33m\u001b[0m\u001b[0m\n\u001b[0m\u001b[0;32m    532\u001b[0m \u001b[1;33m\u001b[0m\u001b[0m\n\u001b[0;32m    533\u001b[0m     \u001b[1;32mdef\u001b[0m \u001b[0mconvert\u001b[0m\u001b[1;33m(\u001b[0m\u001b[0mself\u001b[0m\u001b[1;33m,\u001b[0m \u001b[1;33m**\u001b[0m\u001b[0mkwargs\u001b[0m\u001b[1;33m)\u001b[0m\u001b[1;33m:\u001b[0m\u001b[1;33m\u001b[0m\u001b[1;33m\u001b[0m\u001b[0m\n",
      "\u001b[1;32m~\\Anaconda3\\lib\\site-packages\\pandas\\core\\internals\\managers.py\u001b[0m in \u001b[0;36mapply\u001b[1;34m(self, f, axes, filter, do_integrity_check, consolidate, **kwargs)\u001b[0m\n\u001b[0;32m    393\u001b[0m                                             copy=align_copy)\n\u001b[0;32m    394\u001b[0m \u001b[1;33m\u001b[0m\u001b[0m\n\u001b[1;32m--> 395\u001b[1;33m             \u001b[0mapplied\u001b[0m \u001b[1;33m=\u001b[0m \u001b[0mgetattr\u001b[0m\u001b[1;33m(\u001b[0m\u001b[0mb\u001b[0m\u001b[1;33m,\u001b[0m \u001b[0mf\u001b[0m\u001b[1;33m)\u001b[0m\u001b[1;33m(\u001b[0m\u001b[1;33m**\u001b[0m\u001b[0mkwargs\u001b[0m\u001b[1;33m)\u001b[0m\u001b[1;33m\u001b[0m\u001b[1;33m\u001b[0m\u001b[0m\n\u001b[0m\u001b[0;32m    396\u001b[0m             \u001b[0mresult_blocks\u001b[0m \u001b[1;33m=\u001b[0m \u001b[0m_extend_blocks\u001b[0m\u001b[1;33m(\u001b[0m\u001b[0mapplied\u001b[0m\u001b[1;33m,\u001b[0m \u001b[0mresult_blocks\u001b[0m\u001b[1;33m)\u001b[0m\u001b[1;33m\u001b[0m\u001b[1;33m\u001b[0m\u001b[0m\n\u001b[0;32m    397\u001b[0m \u001b[1;33m\u001b[0m\u001b[0m\n",
      "\u001b[1;32m~\\Anaconda3\\lib\\site-packages\\pandas\\core\\internals\\blocks.py\u001b[0m in \u001b[0;36mastype\u001b[1;34m(self, dtype, copy, errors, values, **kwargs)\u001b[0m\n\u001b[0;32m    532\u001b[0m     \u001b[1;32mdef\u001b[0m \u001b[0mastype\u001b[0m\u001b[1;33m(\u001b[0m\u001b[0mself\u001b[0m\u001b[1;33m,\u001b[0m \u001b[0mdtype\u001b[0m\u001b[1;33m,\u001b[0m \u001b[0mcopy\u001b[0m\u001b[1;33m=\u001b[0m\u001b[1;32mFalse\u001b[0m\u001b[1;33m,\u001b[0m \u001b[0merrors\u001b[0m\u001b[1;33m=\u001b[0m\u001b[1;34m'raise'\u001b[0m\u001b[1;33m,\u001b[0m \u001b[0mvalues\u001b[0m\u001b[1;33m=\u001b[0m\u001b[1;32mNone\u001b[0m\u001b[1;33m,\u001b[0m \u001b[1;33m**\u001b[0m\u001b[0mkwargs\u001b[0m\u001b[1;33m)\u001b[0m\u001b[1;33m:\u001b[0m\u001b[1;33m\u001b[0m\u001b[1;33m\u001b[0m\u001b[0m\n\u001b[0;32m    533\u001b[0m         return self._astype(dtype, copy=copy, errors=errors, values=values,\n\u001b[1;32m--> 534\u001b[1;33m                             **kwargs)\n\u001b[0m\u001b[0;32m    535\u001b[0m \u001b[1;33m\u001b[0m\u001b[0m\n\u001b[0;32m    536\u001b[0m     def _astype(self, dtype, copy=False, errors='raise', values=None,\n",
      "\u001b[1;32m~\\Anaconda3\\lib\\site-packages\\pandas\\core\\internals\\blocks.py\u001b[0m in \u001b[0;36m_astype\u001b[1;34m(self, dtype, copy, errors, values, **kwargs)\u001b[0m\n\u001b[0;32m    631\u001b[0m \u001b[1;33m\u001b[0m\u001b[0m\n\u001b[0;32m    632\u001b[0m                     \u001b[1;31m# _astype_nansafe works fine with 1-d only\u001b[0m\u001b[1;33m\u001b[0m\u001b[1;33m\u001b[0m\u001b[1;33m\u001b[0m\u001b[0m\n\u001b[1;32m--> 633\u001b[1;33m                     \u001b[0mvalues\u001b[0m \u001b[1;33m=\u001b[0m \u001b[0mastype_nansafe\u001b[0m\u001b[1;33m(\u001b[0m\u001b[0mvalues\u001b[0m\u001b[1;33m.\u001b[0m\u001b[0mravel\u001b[0m\u001b[1;33m(\u001b[0m\u001b[1;33m)\u001b[0m\u001b[1;33m,\u001b[0m \u001b[0mdtype\u001b[0m\u001b[1;33m,\u001b[0m \u001b[0mcopy\u001b[0m\u001b[1;33m=\u001b[0m\u001b[1;32mTrue\u001b[0m\u001b[1;33m)\u001b[0m\u001b[1;33m\u001b[0m\u001b[1;33m\u001b[0m\u001b[0m\n\u001b[0m\u001b[0;32m    634\u001b[0m \u001b[1;33m\u001b[0m\u001b[0m\n\u001b[0;32m    635\u001b[0m                 \u001b[1;31m# TODO(extension)\u001b[0m\u001b[1;33m\u001b[0m\u001b[1;33m\u001b[0m\u001b[1;33m\u001b[0m\u001b[0m\n",
      "\u001b[1;32m~\\Anaconda3\\lib\\site-packages\\pandas\\core\\dtypes\\cast.py\u001b[0m in \u001b[0;36mastype_nansafe\u001b[1;34m(arr, dtype, copy, skipna)\u001b[0m\n\u001b[0;32m    688\u001b[0m         \u001b[1;32melif\u001b[0m \u001b[0mis_datetime64_dtype\u001b[0m\u001b[1;33m(\u001b[0m\u001b[0mdtype\u001b[0m\u001b[1;33m)\u001b[0m\u001b[1;33m:\u001b[0m\u001b[1;33m\u001b[0m\u001b[1;33m\u001b[0m\u001b[0m\n\u001b[0;32m    689\u001b[0m             \u001b[1;32mfrom\u001b[0m \u001b[0mpandas\u001b[0m \u001b[1;32mimport\u001b[0m \u001b[0mto_datetime\u001b[0m\u001b[1;33m\u001b[0m\u001b[1;33m\u001b[0m\u001b[0m\n\u001b[1;32m--> 690\u001b[1;33m             \u001b[1;32mreturn\u001b[0m \u001b[0mastype_nansafe\u001b[0m\u001b[1;33m(\u001b[0m\u001b[0mto_datetime\u001b[0m\u001b[1;33m(\u001b[0m\u001b[0marr\u001b[0m\u001b[1;33m)\u001b[0m\u001b[1;33m.\u001b[0m\u001b[0mvalues\u001b[0m\u001b[1;33m,\u001b[0m \u001b[0mdtype\u001b[0m\u001b[1;33m,\u001b[0m \u001b[0mcopy\u001b[0m\u001b[1;33m=\u001b[0m\u001b[0mcopy\u001b[0m\u001b[1;33m)\u001b[0m\u001b[1;33m\u001b[0m\u001b[1;33m\u001b[0m\u001b[0m\n\u001b[0m\u001b[0;32m    691\u001b[0m         \u001b[1;32melif\u001b[0m \u001b[0mis_timedelta64_dtype\u001b[0m\u001b[1;33m(\u001b[0m\u001b[0mdtype\u001b[0m\u001b[1;33m)\u001b[0m\u001b[1;33m:\u001b[0m\u001b[1;33m\u001b[0m\u001b[1;33m\u001b[0m\u001b[0m\n\u001b[0;32m    692\u001b[0m             \u001b[1;32mfrom\u001b[0m \u001b[0mpandas\u001b[0m \u001b[1;32mimport\u001b[0m \u001b[0mto_timedelta\u001b[0m\u001b[1;33m\u001b[0m\u001b[1;33m\u001b[0m\u001b[0m\n",
      "\u001b[1;32m~\\Anaconda3\\lib\\site-packages\\pandas\\core\\tools\\datetimes.py\u001b[0m in \u001b[0;36mto_datetime\u001b[1;34m(arg, errors, dayfirst, yearfirst, utc, box, format, exact, unit, infer_datetime_format, origin, cache)\u001b[0m\n\u001b[0;32m    607\u001b[0m             \u001b[0mresult\u001b[0m \u001b[1;33m=\u001b[0m \u001b[0m_convert_and_box_cache\u001b[0m\u001b[1;33m(\u001b[0m\u001b[0marg\u001b[0m\u001b[1;33m,\u001b[0m \u001b[0mcache_array\u001b[0m\u001b[1;33m,\u001b[0m \u001b[0mbox\u001b[0m\u001b[1;33m,\u001b[0m \u001b[0merrors\u001b[0m\u001b[1;33m)\u001b[0m\u001b[1;33m\u001b[0m\u001b[1;33m\u001b[0m\u001b[0m\n\u001b[0;32m    608\u001b[0m         \u001b[1;32melse\u001b[0m\u001b[1;33m:\u001b[0m\u001b[1;33m\u001b[0m\u001b[1;33m\u001b[0m\u001b[0m\n\u001b[1;32m--> 609\u001b[1;33m             \u001b[0mresult\u001b[0m \u001b[1;33m=\u001b[0m \u001b[0mconvert_listlike\u001b[0m\u001b[1;33m(\u001b[0m\u001b[0marg\u001b[0m\u001b[1;33m,\u001b[0m \u001b[0mbox\u001b[0m\u001b[1;33m,\u001b[0m \u001b[0mformat\u001b[0m\u001b[1;33m)\u001b[0m\u001b[1;33m\u001b[0m\u001b[1;33m\u001b[0m\u001b[0m\n\u001b[0m\u001b[0;32m    610\u001b[0m     \u001b[1;32melse\u001b[0m\u001b[1;33m:\u001b[0m\u001b[1;33m\u001b[0m\u001b[1;33m\u001b[0m\u001b[0m\n\u001b[0;32m    611\u001b[0m         \u001b[0mresult\u001b[0m \u001b[1;33m=\u001b[0m \u001b[0mconvert_listlike\u001b[0m\u001b[1;33m(\u001b[0m\u001b[0mnp\u001b[0m\u001b[1;33m.\u001b[0m\u001b[0marray\u001b[0m\u001b[1;33m(\u001b[0m\u001b[1;33m[\u001b[0m\u001b[0marg\u001b[0m\u001b[1;33m]\u001b[0m\u001b[1;33m)\u001b[0m\u001b[1;33m,\u001b[0m \u001b[0mbox\u001b[0m\u001b[1;33m,\u001b[0m \u001b[0mformat\u001b[0m\u001b[1;33m)\u001b[0m\u001b[1;33m[\u001b[0m\u001b[1;36m0\u001b[0m\u001b[1;33m]\u001b[0m\u001b[1;33m\u001b[0m\u001b[1;33m\u001b[0m\u001b[0m\n",
      "\u001b[1;32m~\\Anaconda3\\lib\\site-packages\\pandas\\core\\tools\\datetimes.py\u001b[0m in \u001b[0;36m_convert_listlike_datetimes\u001b[1;34m(arg, box, format, name, tz, unit, errors, infer_datetime_format, dayfirst, yearfirst, exact)\u001b[0m\n\u001b[0;32m    300\u001b[0m             \u001b[0marg\u001b[0m\u001b[1;33m,\u001b[0m \u001b[0mdayfirst\u001b[0m\u001b[1;33m=\u001b[0m\u001b[0mdayfirst\u001b[0m\u001b[1;33m,\u001b[0m \u001b[0myearfirst\u001b[0m\u001b[1;33m=\u001b[0m\u001b[0myearfirst\u001b[0m\u001b[1;33m,\u001b[0m\u001b[1;33m\u001b[0m\u001b[1;33m\u001b[0m\u001b[0m\n\u001b[0;32m    301\u001b[0m             \u001b[0mutc\u001b[0m\u001b[1;33m=\u001b[0m\u001b[0mutc\u001b[0m\u001b[1;33m,\u001b[0m \u001b[0merrors\u001b[0m\u001b[1;33m=\u001b[0m\u001b[0merrors\u001b[0m\u001b[1;33m,\u001b[0m \u001b[0mrequire_iso8601\u001b[0m\u001b[1;33m=\u001b[0m\u001b[0mrequire_iso8601\u001b[0m\u001b[1;33m,\u001b[0m\u001b[1;33m\u001b[0m\u001b[1;33m\u001b[0m\u001b[0m\n\u001b[1;32m--> 302\u001b[1;33m             allow_object=True)\n\u001b[0m\u001b[0;32m    303\u001b[0m \u001b[1;33m\u001b[0m\u001b[0m\n\u001b[0;32m    304\u001b[0m     \u001b[1;32mif\u001b[0m \u001b[0mtz_parsed\u001b[0m \u001b[1;32mis\u001b[0m \u001b[1;32mnot\u001b[0m \u001b[1;32mNone\u001b[0m\u001b[1;33m:\u001b[0m\u001b[1;33m\u001b[0m\u001b[1;33m\u001b[0m\u001b[0m\n",
      "\u001b[1;32m~\\Anaconda3\\lib\\site-packages\\pandas\\core\\arrays\\datetimes.py\u001b[0m in \u001b[0;36mobjects_to_datetime64ns\u001b[1;34m(data, dayfirst, yearfirst, utc, errors, require_iso8601, allow_object)\u001b[0m\n\u001b[0;32m   1864\u001b[0m             \u001b[1;32mreturn\u001b[0m \u001b[0mvalues\u001b[0m\u001b[1;33m.\u001b[0m\u001b[0mview\u001b[0m\u001b[1;33m(\u001b[0m\u001b[1;34m'i8'\u001b[0m\u001b[1;33m)\u001b[0m\u001b[1;33m,\u001b[0m \u001b[0mtz_parsed\u001b[0m\u001b[1;33m\u001b[0m\u001b[1;33m\u001b[0m\u001b[0m\n\u001b[0;32m   1865\u001b[0m         \u001b[1;32mexcept\u001b[0m \u001b[1;33m(\u001b[0m\u001b[0mValueError\u001b[0m\u001b[1;33m,\u001b[0m \u001b[0mTypeError\u001b[0m\u001b[1;33m)\u001b[0m\u001b[1;33m:\u001b[0m\u001b[1;33m\u001b[0m\u001b[1;33m\u001b[0m\u001b[0m\n\u001b[1;32m-> 1866\u001b[1;33m             \u001b[1;32mraise\u001b[0m \u001b[0me\u001b[0m\u001b[1;33m\u001b[0m\u001b[1;33m\u001b[0m\u001b[0m\n\u001b[0m\u001b[0;32m   1867\u001b[0m \u001b[1;33m\u001b[0m\u001b[0m\n\u001b[0;32m   1868\u001b[0m     \u001b[1;32mif\u001b[0m \u001b[0mtz_parsed\u001b[0m \u001b[1;32mis\u001b[0m \u001b[1;32mnot\u001b[0m \u001b[1;32mNone\u001b[0m\u001b[1;33m:\u001b[0m\u001b[1;33m\u001b[0m\u001b[1;33m\u001b[0m\u001b[0m\n",
      "\u001b[1;32m~\\Anaconda3\\lib\\site-packages\\pandas\\core\\arrays\\datetimes.py\u001b[0m in \u001b[0;36mobjects_to_datetime64ns\u001b[1;34m(data, dayfirst, yearfirst, utc, errors, require_iso8601, allow_object)\u001b[0m\n\u001b[0;32m   1855\u001b[0m             \u001b[0mdayfirst\u001b[0m\u001b[1;33m=\u001b[0m\u001b[0mdayfirst\u001b[0m\u001b[1;33m,\u001b[0m\u001b[1;33m\u001b[0m\u001b[1;33m\u001b[0m\u001b[0m\n\u001b[0;32m   1856\u001b[0m             \u001b[0myearfirst\u001b[0m\u001b[1;33m=\u001b[0m\u001b[0myearfirst\u001b[0m\u001b[1;33m,\u001b[0m\u001b[1;33m\u001b[0m\u001b[1;33m\u001b[0m\u001b[0m\n\u001b[1;32m-> 1857\u001b[1;33m             \u001b[0mrequire_iso8601\u001b[0m\u001b[1;33m=\u001b[0m\u001b[0mrequire_iso8601\u001b[0m\u001b[1;33m\u001b[0m\u001b[1;33m\u001b[0m\u001b[0m\n\u001b[0m\u001b[0;32m   1858\u001b[0m         )\n\u001b[0;32m   1859\u001b[0m     \u001b[1;32mexcept\u001b[0m \u001b[0mValueError\u001b[0m \u001b[1;32mas\u001b[0m \u001b[0me\u001b[0m\u001b[1;33m:\u001b[0m\u001b[1;33m\u001b[0m\u001b[1;33m\u001b[0m\u001b[0m\n",
      "\u001b[1;32mpandas/_libs/tslib.pyx\u001b[0m in \u001b[0;36mpandas._libs.tslib.array_to_datetime\u001b[1;34m()\u001b[0m\n",
      "\u001b[1;32mpandas/_libs/tslib.pyx\u001b[0m in \u001b[0;36mpandas._libs.tslib.array_to_datetime\u001b[1;34m()\u001b[0m\n",
      "\u001b[1;32mpandas/_libs/tslib.pyx\u001b[0m in \u001b[0;36mpandas._libs.tslib.array_to_datetime_object\u001b[1;34m()\u001b[0m\n",
      "\u001b[1;32mpandas/_libs/tslib.pyx\u001b[0m in \u001b[0;36mpandas._libs.tslib.array_to_datetime_object\u001b[1;34m()\u001b[0m\n",
      "\u001b[1;32mpandas/_libs/tslibs/parsing.pyx\u001b[0m in \u001b[0;36mpandas._libs.tslibs.parsing.parse_datetime_string\u001b[1;34m()\u001b[0m\n",
      "\u001b[1;32m~\\Anaconda3\\lib\\site-packages\\dateutil\\parser\\_parser.py\u001b[0m in \u001b[0;36mparse\u001b[1;34m(timestr, parserinfo, **kwargs)\u001b[0m\n\u001b[0;32m   1356\u001b[0m         \u001b[1;32mreturn\u001b[0m \u001b[0mparser\u001b[0m\u001b[1;33m(\u001b[0m\u001b[0mparserinfo\u001b[0m\u001b[1;33m)\u001b[0m\u001b[1;33m.\u001b[0m\u001b[0mparse\u001b[0m\u001b[1;33m(\u001b[0m\u001b[0mtimestr\u001b[0m\u001b[1;33m,\u001b[0m \u001b[1;33m**\u001b[0m\u001b[0mkwargs\u001b[0m\u001b[1;33m)\u001b[0m\u001b[1;33m\u001b[0m\u001b[1;33m\u001b[0m\u001b[0m\n\u001b[0;32m   1357\u001b[0m     \u001b[1;32melse\u001b[0m\u001b[1;33m:\u001b[0m\u001b[1;33m\u001b[0m\u001b[1;33m\u001b[0m\u001b[0m\n\u001b[1;32m-> 1358\u001b[1;33m         \u001b[1;32mreturn\u001b[0m \u001b[0mDEFAULTPARSER\u001b[0m\u001b[1;33m.\u001b[0m\u001b[0mparse\u001b[0m\u001b[1;33m(\u001b[0m\u001b[0mtimestr\u001b[0m\u001b[1;33m,\u001b[0m \u001b[1;33m**\u001b[0m\u001b[0mkwargs\u001b[0m\u001b[1;33m)\u001b[0m\u001b[1;33m\u001b[0m\u001b[1;33m\u001b[0m\u001b[0m\n\u001b[0m\u001b[0;32m   1359\u001b[0m \u001b[1;33m\u001b[0m\u001b[0m\n\u001b[0;32m   1360\u001b[0m \u001b[1;33m\u001b[0m\u001b[0m\n",
      "\u001b[1;32m~\\Anaconda3\\lib\\site-packages\\dateutil\\parser\\_parser.py\u001b[0m in \u001b[0;36mparse\u001b[1;34m(self, timestr, default, ignoretz, tzinfos, **kwargs)\u001b[0m\n\u001b[0;32m    652\u001b[0m             \u001b[1;32mraise\u001b[0m \u001b[0mValueError\u001b[0m\u001b[1;33m(\u001b[0m\u001b[1;34m\"String does not contain a date:\"\u001b[0m\u001b[1;33m,\u001b[0m \u001b[0mtimestr\u001b[0m\u001b[1;33m)\u001b[0m\u001b[1;33m\u001b[0m\u001b[1;33m\u001b[0m\u001b[0m\n\u001b[0;32m    653\u001b[0m \u001b[1;33m\u001b[0m\u001b[0m\n\u001b[1;32m--> 654\u001b[1;33m         \u001b[0mret\u001b[0m \u001b[1;33m=\u001b[0m \u001b[0mself\u001b[0m\u001b[1;33m.\u001b[0m\u001b[0m_build_naive\u001b[0m\u001b[1;33m(\u001b[0m\u001b[0mres\u001b[0m\u001b[1;33m,\u001b[0m \u001b[0mdefault\u001b[0m\u001b[1;33m)\u001b[0m\u001b[1;33m\u001b[0m\u001b[1;33m\u001b[0m\u001b[0m\n\u001b[0m\u001b[0;32m    655\u001b[0m \u001b[1;33m\u001b[0m\u001b[0m\n\u001b[0;32m    656\u001b[0m         \u001b[1;32mif\u001b[0m \u001b[1;32mnot\u001b[0m \u001b[0mignoretz\u001b[0m\u001b[1;33m:\u001b[0m\u001b[1;33m\u001b[0m\u001b[1;33m\u001b[0m\u001b[0m\n",
      "\u001b[1;32m~\\Anaconda3\\lib\\site-packages\\dateutil\\parser\\_parser.py\u001b[0m in \u001b[0;36m_build_naive\u001b[1;34m(self, res, default)\u001b[0m\n\u001b[0;32m   1227\u001b[0m                 \u001b[0mrepl\u001b[0m\u001b[1;33m[\u001b[0m\u001b[1;34m'day'\u001b[0m\u001b[1;33m]\u001b[0m \u001b[1;33m=\u001b[0m \u001b[0mmonthrange\u001b[0m\u001b[1;33m(\u001b[0m\u001b[0mcyear\u001b[0m\u001b[1;33m,\u001b[0m \u001b[0mcmonth\u001b[0m\u001b[1;33m)\u001b[0m\u001b[1;33m[\u001b[0m\u001b[1;36m1\u001b[0m\u001b[1;33m]\u001b[0m\u001b[1;33m\u001b[0m\u001b[1;33m\u001b[0m\u001b[0m\n\u001b[0;32m   1228\u001b[0m \u001b[1;33m\u001b[0m\u001b[0m\n\u001b[1;32m-> 1229\u001b[1;33m         \u001b[0mnaive\u001b[0m \u001b[1;33m=\u001b[0m \u001b[0mdefault\u001b[0m\u001b[1;33m.\u001b[0m\u001b[0mreplace\u001b[0m\u001b[1;33m(\u001b[0m\u001b[1;33m**\u001b[0m\u001b[0mrepl\u001b[0m\u001b[1;33m)\u001b[0m\u001b[1;33m\u001b[0m\u001b[1;33m\u001b[0m\u001b[0m\n\u001b[0m\u001b[0;32m   1230\u001b[0m \u001b[1;33m\u001b[0m\u001b[0m\n\u001b[0;32m   1231\u001b[0m         \u001b[1;32mif\u001b[0m \u001b[0mres\u001b[0m\u001b[1;33m.\u001b[0m\u001b[0mweekday\u001b[0m \u001b[1;32mis\u001b[0m \u001b[1;32mnot\u001b[0m \u001b[1;32mNone\u001b[0m \u001b[1;32mand\u001b[0m \u001b[1;32mnot\u001b[0m \u001b[0mres\u001b[0m\u001b[1;33m.\u001b[0m\u001b[0mday\u001b[0m\u001b[1;33m:\u001b[0m\u001b[1;33m\u001b[0m\u001b[1;33m\u001b[0m\u001b[0m\n",
      "\u001b[1;31mValueError\u001b[0m: year 39032 is out of range"
     ]
    }
   ],
   "source": [
    "import pandas as pd \n",
    "import matplotlib.pyplot as plt \n",
    "import seaborn as sns \n",
    " \n",
    "df = pd.read_csv(r'C:\\INeuron\\py sub and obj\\data for subjective questions\\ufo_sighting_data.csv') \n",
    "df['Date_time'] = df['Date_time'].astype('datetime64[ns]') \n",
    "df[\"ufo_yr\"] = df.Date_time.dt.year \n",
    "years_data = df.ufo_yr.value_counts() \n",
    "years_index = years_data.index \n",
    "# x ticks \n",
    "years_values = years_data.get_values() \n",
    "plt.figure(figsize=(15,8)) \n",
    "plt.xticks(rotation = 60) \n",
    "plt.title('UFO Sightings by Year') \n",
    "plt.xlabel(\"Year\") \n",
    "plt.ylabel(\"Number of reports\") \n",
    "years_plot = sns.barplot(x=years_index[:60],y=years_values[:60], palette = \"Reds\") "
   ]
  },
  {
   "cell_type": "code",
   "execution_count": null,
   "metadata": {},
   "outputs": [],
   "source": [
    "Q141."
   ]
  },
  {
   "cell_type": "code",
   "execution_count": 102,
   "metadata": {},
   "outputs": [
    {
     "data": {
      "image/png": "[encoded data removed]",
      "text/plain": [
       "<Figure size 432x288 with 1 Axes>"
      ]
     },
     "metadata": {
      "needs_background": "light"
     },
     "output_type": "display_data"
    }
   ],
   "source": [
    "import matplotlib.pyplot as plt \n",
    "# x axis values \n",
    "x = [1,2,3] \n",
    "# y axis values \n",
    "y = [2,4,1] \n",
    "# Plot lines and/or markers to the Axes. \n",
    "plt.plot(x, y) \n",
    "# Set the x axis label of the current axis. \n",
    "plt.xlabel('x - axis') \n",
    "# Set the y axis label of the current axis. \n",
    "plt.ylabel('y - axis') \n",
    "# Set a title  \n",
    "plt.title('Sample graph!') \n",
    "# Display a figure. \n",
    "plt.show()"
   ]
  },
  {
   "cell_type": "code",
   "execution_count": null,
   "metadata": {},
   "outputs": [],
   "source": [
    "Q142.  Dataset not found"
   ]
  },
  {
   "cell_type": "code",
   "execution_count": null,
   "metadata": {},
   "outputs": [],
   "source": [
    "import matplotlib.pyplot as plt \n",
    "import pandas as pd \n",
    "df = pd.read_csv('fdata.csv', sep=',', parse_dates=True, index_col=0) \n",
    "df.plot() \n",
    "plt.show() "
   ]
  },
  {
   "cell_type": "code",
   "execution_count": null,
   "metadata": {},
   "outputs": [],
   "source": [
    "Q143"
   ]
  },
  {
   "cell_type": "code",
   "execution_count": 104,
   "metadata": {},
   "outputs": [
    {
     "data": {
      "image/png": "[encoded data removed]",
      "text/plain": [
       "<Figure size 432x288 with 1 Axes>"
      ]
     },
     "metadata": {
      "needs_background": "light"
     },
     "output_type": "display_data"
    }
   ],
   "source": [
    "import matplotlib.pyplot as plt \n",
    "# line 1 points\n",
    "x1 = [10,20,30] \n",
    "y1 = [20,40,10] \n",
    "# plotting the line 1 points  \n",
    "plt.plot(x1, y1, label = \"line 1\") \n",
    "# line 2 points \n",
    "x2 = [10,20,30]\n",
    "y2 = [40,10,30] \n",
    "# plotting the line 2 points  \n",
    "plt.plot(x2, y2, label = \"line 2\") \n",
    "plt.xlabel('x - axis')\n",
    "# Set the y axis label of the current axis. \n",
    "plt.ylabel('y - axis') \n",
    "# Set a title of the current axes. \n",
    "plt.title('Two or more lines on same plot with suitable legends ') \n",
    "# show a legend on the plot \n",
    "plt.legend() \n",
    "# Display a figure. \n",
    "plt.show()"
   ]
  },
  {
   "cell_type": "code",
   "execution_count": null,
   "metadata": {},
   "outputs": [],
   "source": [
    "Q144"
   ]
  },
  {
   "cell_type": "code",
   "execution_count": 105,
   "metadata": {},
   "outputs": [
    {
     "data": {
      "image/png": "[encoded data removed]",
      "text/plain": [
       "<Figure size 432x288 with 1 Axes>"
      ]
     },
     "metadata": {
      "needs_background": "light"
     },
     "output_type": "display_data"
    }
   ],
   "source": [
    "import matplotlib.pyplot as plt \n",
    "x = ['Java', 'Python', 'PHP', 'JavaScript', 'C#', 'C++'] \n",
    "popularity = [22.2, 17.6, 8.8, 8, 7.7, 6.7] \n",
    "x_pos = [i for i, _ in enumerate(x)] \n",
    "plt.bar(x_pos, popularity, color='blue') \n",
    "plt.xlabel(\"Languages\") \n",
    "plt.ylabel(\"Popularity\") \n",
    "plt.title(\"PopularitY of Programming Language\\n\" + \"Worldwide, Oct 2017 compared to a year ago\") \n",
    "plt.xticks(x_pos, x) \n",
    "# Turn on the grid \n",
    "plt.minorticks_on() \n",
    "plt.grid(which='major', linestyle='-', linewidth='0.5', color='red') \n",
    "# Customize the minor grid \n",
    "plt.grid(which='minor', linestyle=':', linewidth='0.5', color='black') \n",
    "plt.show() "
   ]
  },
  {
   "cell_type": "code",
   "execution_count": null,
   "metadata": {},
   "outputs": [],
   "source": [
    "Q145"
   ]
  },
  {
   "cell_type": "code",
   "execution_count": 107,
   "metadata": {},
   "outputs": [
    {
     "data": {
      "image/png": "[encoded data removed]",
      "text/plain": [
       "<Figure size 432x288 with 1 Axes>"
      ]
     },
     "metadata": {
      "needs_background": "light"
     },
     "output_type": "display_data"
    }
   ],
   "source": [
    "import matplotlib.pyplot as plt \n",
    "x = ['Java', 'Python', 'PHP', 'JS', 'C#', 'C++'] \n",
    "popularity = [22.2, 17.6, 8.8, 8, 7.7, 6.7] \n",
    "x_pos = [i for i, _ in enumerate(x)] \n",
    "plt.barh(x_pos, popularity, color='green') \n",
    "plt.xlabel(\"Popularity\") \n",
    "plt.ylabel(\"Languages\") \n",
    "plt.title(\"PopularitY of Programming Language\\n\" + \"Worldwide, Oct 2017 compared to a year ago\") \n",
    "plt.yticks(x_pos, x) \n",
    "# Turn on the grid \n",
    "plt.minorticks_on() \n",
    "plt.grid(which='major', linestyle='-', linewidth='0.5', color='red') \n",
    "# Customize the minor grid \n",
    "plt.grid(which='minor', linestyle=':', linewidth='0.5', color='black') \n",
    "plt.show()"
   ]
  },
  {
   "cell_type": "code",
   "execution_count": null,
   "metadata": {},
   "outputs": [],
   "source": [
    "Q146"
   ]
  },
  {
   "cell_type": "code",
   "execution_count": 108,
   "metadata": {},
   "outputs": [
    {
     "data": {
      "image/png": "[encoded data removed]",
      "text/plain": [
       "<Figure size 432x288 with 1 Axes>"
      ]
     },
     "metadata": {
      "needs_background": "light"
     },
     "output_type": "display_data"
    }
   ],
   "source": [
    "import matplotlib.pyplot as plt \n",
    "x = ['Java', 'Python', 'PHP', 'JavaScript', 'C#', 'C++'] \n",
    "popularity = [22.2, 17.6, 8.8, 8, 7.7, 6.7] \n",
    "x_pos = [i for i, _ in enumerate(x)] \n",
    "plt.bar(x_pos, popularity, color=(0.4, 0.6, 0.8, 1.0)) \n",
    "plt.xlabel(\"Languages\") \n",
    "plt.ylabel(\"Popularity\") \n",
    "plt.title(\"PopularitY of Programming Language\\n\" + \"Worldwide, Oct 2017 compared to a year ago\") \n",
    "# Rotation of the bars names \n",
    "plt.xticks(x_pos, x, rotation=90) \n",
    "# Custom the subplot layout \n",
    "plt.subplots_adjust(bottom=0.4, top=.8) \n",
    "# Turn on the grid plt.minorticks_on() \n",
    "plt.grid(which='major', linestyle='-', linewidth='0.5', color='red') \n",
    "# Customize the minor grid \n",
    "plt.grid(which='minor', linestyle=':', linewidth='0.5', color='black') \n",
    "plt.show()"
   ]
  },
  {
   "cell_type": "code",
   "execution_count": null,
   "metadata": {},
   "outputs": [],
   "source": [
    "Q147"
   ]
  },
  {
   "cell_type": "code",
   "execution_count": 109,
   "metadata": {},
   "outputs": [
    {
     "data": {
      "image/png": "[encoded data removed]",
      "text/plain": [
       "<Figure size 432x288 with 1 Axes>"
      ]
     },
     "metadata": {
      "needs_background": "light"
     },
     "output_type": "display_data"
    }
   ],
   "source": [
    "from pandas import DataFrame \n",
    "import matplotlib.pyplot as plt \n",
    "import numpy as np \n",
    " \n",
    "a=np.array([[4,8,5,7,6],[2,3,4,2,6],[4,7,4,7,8],[2,6,4,8,6],[2,4,3,3,2]]) \n",
    "df=DataFrame(a, columns=['a','b','c','d','e'], index=[2,4,6,8,10]) \n",
    " \n",
    "df.plot(kind='bar')\n",
    "# Turn on the grid \n",
    "plt.minorticks_on() \n",
    "plt.grid(which='major', linestyle='-', linewidth='0.5', color='green') \n",
    "plt.grid(which='minor', linestyle=':', linewidth='0.5', color='black') \n",
    " \n",
    "plt.show()"
   ]
  },
  {
   "cell_type": "code",
   "execution_count": null,
   "metadata": {},
   "outputs": [],
   "source": [
    "Q148"
   ]
  },
  {
   "cell_type": "code",
   "execution_count": 110,
   "metadata": {},
   "outputs": [
    {
     "data": {
      "image/png": "[encoded data removed]",
      "text/plain": [
       "<Figure size 432x288 with 1 Axes>"
      ]
     },
     "metadata": {
      "needs_background": "light"
     },
     "output_type": "display_data"
    }
   ],
   "source": [
    "import matplotlib.pyplot as plt \n",
    "import pandas as pd \n",
    "math_marks = [88, 92, 80, 89, 100, 80, 60, 100, 80, 34] \n",
    "science_marks = [35, 79, 79, 48, 100, 88, 32, 45, 20, 30] \n",
    "marks_range = [10, 20, 30, 40, 50, 60, 70, 80, 90, 100] \n",
    "plt.scatter(marks_range, math_marks, label='Math marks', color='r') \n",
    "plt.scatter(marks_range, science_marks, label='Science marks', color='g') \n",
    "plt.title('Scatter Plot') \n",
    "plt.xlabel('Marks Range') \n",
    "plt.ylabel('Marks Scored') \n",
    "plt.legend() \n",
    "plt.show()"
   ]
  },
  {
   "cell_type": "code",
   "execution_count": null,
   "metadata": {},
   "outputs": [],
   "source": [
    "Q149"
   ]
  },
  {
   "cell_type": "code",
   "execution_count": 113,
   "metadata": {},
   "outputs": [
    {
     "ename": "ValueError",
     "evalue": "'c' argument has 3 elements, which is not acceptable for use with 'x' with size 30, 'y' with size 30.",
     "output_type": "error",
     "traceback": [
      "\u001b[1;31m---------------------------------------------------------------------------\u001b[0m",
      "\u001b[1;31mValueError\u001b[0m                                Traceback (most recent call last)",
      "\u001b[1;32m~\\Anaconda3\\lib\\site-packages\\matplotlib\\axes\\_axes.py\u001b[0m in \u001b[0;36mscatter\u001b[1;34m(self, x, y, s, c, marker, cmap, norm, vmin, vmax, alpha, linewidths, verts, edgecolors, **kwargs)\u001b[0m\n\u001b[0;32m   4237\u001b[0m                     \u001b[0mvalid_shape\u001b[0m \u001b[1;33m=\u001b[0m \u001b[1;32mFalse\u001b[0m\u001b[1;33m\u001b[0m\u001b[1;33m\u001b[0m\u001b[0m\n\u001b[1;32m-> 4238\u001b[1;33m                     \u001b[1;32mraise\u001b[0m \u001b[0mValueError\u001b[0m\u001b[1;33m\u001b[0m\u001b[1;33m\u001b[0m\u001b[0m\n\u001b[0m\u001b[0;32m   4239\u001b[0m             \u001b[1;32mexcept\u001b[0m \u001b[0mValueError\u001b[0m\u001b[1;33m:\u001b[0m\u001b[1;33m\u001b[0m\u001b[1;33m\u001b[0m\u001b[0m\n",
      "\u001b[1;31mValueError\u001b[0m: ",
      "\nDuring handling of the above exception, another exception occurred:\n",
      "\u001b[1;31mValueError\u001b[0m                                Traceback (most recent call last)",
      "\u001b[1;32m<ipython-input-113-85645ac68231>\u001b[0m in \u001b[0;36m<module>\u001b[1;34m\u001b[0m\n\u001b[0;32m      9\u001b[0m \u001b[0mweight\u001b[0m\u001b[1;33m=\u001b[0m\u001b[0mnp\u001b[0m\u001b[1;33m.\u001b[0m\u001b[0mconcatenate\u001b[0m\u001b[1;33m(\u001b[0m\u001b[1;33m(\u001b[0m\u001b[0mweight1\u001b[0m\u001b[1;33m,\u001b[0m\u001b[0mweight2\u001b[0m\u001b[1;33m,\u001b[0m\u001b[0mweight3\u001b[0m\u001b[1;33m)\u001b[0m\u001b[1;33m)\u001b[0m\u001b[1;33m\u001b[0m\u001b[1;33m\u001b[0m\u001b[0m\n\u001b[0;32m     10\u001b[0m \u001b[0mheight\u001b[0m\u001b[1;33m=\u001b[0m\u001b[0mnp\u001b[0m\u001b[1;33m.\u001b[0m\u001b[0mconcatenate\u001b[0m\u001b[1;33m(\u001b[0m\u001b[1;33m(\u001b[0m\u001b[0mheight1\u001b[0m\u001b[1;33m,\u001b[0m\u001b[0mheight2\u001b[0m\u001b[1;33m,\u001b[0m\u001b[0mheight3\u001b[0m\u001b[1;33m)\u001b[0m\u001b[1;33m)\u001b[0m\u001b[1;33m\u001b[0m\u001b[1;33m\u001b[0m\u001b[0m\n\u001b[1;32m---> 11\u001b[1;33m \u001b[0mplt\u001b[0m\u001b[1;33m.\u001b[0m\u001b[0mscatter\u001b[0m\u001b[1;33m(\u001b[0m\u001b[0mweight\u001b[0m\u001b[1;33m,\u001b[0m \u001b[0mheight\u001b[0m\u001b[1;33m,\u001b[0m \u001b[0mmarker\u001b[0m\u001b[1;33m=\u001b[0m\u001b[1;34m'*'\u001b[0m\u001b[1;33m,\u001b[0m \u001b[0mcolor\u001b[0m\u001b[1;33m=\u001b[0m\u001b[1;33m[\u001b[0m\u001b[1;34m'red'\u001b[0m\u001b[1;33m,\u001b[0m\u001b[1;34m'green'\u001b[0m\u001b[1;33m,\u001b[0m\u001b[1;34m'blue'\u001b[0m\u001b[1;33m]\u001b[0m\u001b[1;33m)\u001b[0m\u001b[1;33m\u001b[0m\u001b[1;33m\u001b[0m\u001b[0m\n\u001b[0m\u001b[0;32m     12\u001b[0m \u001b[0mplt\u001b[0m\u001b[1;33m.\u001b[0m\u001b[0mxlabel\u001b[0m\u001b[1;33m(\u001b[0m\u001b[1;34m'weight'\u001b[0m\u001b[1;33m,\u001b[0m \u001b[0mfontsize\u001b[0m\u001b[1;33m=\u001b[0m\u001b[1;36m16\u001b[0m\u001b[1;33m)\u001b[0m\u001b[1;33m\u001b[0m\u001b[1;33m\u001b[0m\u001b[0m\n\u001b[0;32m     13\u001b[0m \u001b[0mplt\u001b[0m\u001b[1;33m.\u001b[0m\u001b[0mylabel\u001b[0m\u001b[1;33m(\u001b[0m\u001b[1;34m'height'\u001b[0m\u001b[1;33m,\u001b[0m \u001b[0mfontsize\u001b[0m\u001b[1;33m=\u001b[0m\u001b[1;36m16\u001b[0m\u001b[1;33m)\u001b[0m\u001b[1;33m\u001b[0m\u001b[1;33m\u001b[0m\u001b[0m\n",
      "\u001b[1;32m~\\Anaconda3\\lib\\site-packages\\matplotlib\\pyplot.py\u001b[0m in \u001b[0;36mscatter\u001b[1;34m(x, y, s, c, marker, cmap, norm, vmin, vmax, alpha, linewidths, verts, edgecolors, data, **kwargs)\u001b[0m\n\u001b[0;32m   2860\u001b[0m         \u001b[0mvmin\u001b[0m\u001b[1;33m=\u001b[0m\u001b[0mvmin\u001b[0m\u001b[1;33m,\u001b[0m \u001b[0mvmax\u001b[0m\u001b[1;33m=\u001b[0m\u001b[0mvmax\u001b[0m\u001b[1;33m,\u001b[0m \u001b[0malpha\u001b[0m\u001b[1;33m=\u001b[0m\u001b[0malpha\u001b[0m\u001b[1;33m,\u001b[0m \u001b[0mlinewidths\u001b[0m\u001b[1;33m=\u001b[0m\u001b[0mlinewidths\u001b[0m\u001b[1;33m,\u001b[0m\u001b[1;33m\u001b[0m\u001b[1;33m\u001b[0m\u001b[0m\n\u001b[0;32m   2861\u001b[0m         verts=verts, edgecolors=edgecolors, **({\"data\": data} if data\n\u001b[1;32m-> 2862\u001b[1;33m         is not None else {}), **kwargs)\n\u001b[0m\u001b[0;32m   2863\u001b[0m     \u001b[0msci\u001b[0m\u001b[1;33m(\u001b[0m\u001b[0m__ret\u001b[0m\u001b[1;33m)\u001b[0m\u001b[1;33m\u001b[0m\u001b[1;33m\u001b[0m\u001b[0m\n\u001b[0;32m   2864\u001b[0m     \u001b[1;32mreturn\u001b[0m \u001b[0m__ret\u001b[0m\u001b[1;33m\u001b[0m\u001b[1;33m\u001b[0m\u001b[0m\n",
      "\u001b[1;32m~\\Anaconda3\\lib\\site-packages\\matplotlib\\__init__.py\u001b[0m in \u001b[0;36minner\u001b[1;34m(ax, data, *args, **kwargs)\u001b[0m\n\u001b[0;32m   1808\u001b[0m                         \u001b[1;34m\"the Matplotlib list!)\"\u001b[0m \u001b[1;33m%\u001b[0m \u001b[1;33m(\u001b[0m\u001b[0mlabel_namer\u001b[0m\u001b[1;33m,\u001b[0m \u001b[0mfunc\u001b[0m\u001b[1;33m.\u001b[0m\u001b[0m__name__\u001b[0m\u001b[1;33m)\u001b[0m\u001b[1;33m,\u001b[0m\u001b[1;33m\u001b[0m\u001b[1;33m\u001b[0m\u001b[0m\n\u001b[0;32m   1809\u001b[0m                         RuntimeWarning, stacklevel=2)\n\u001b[1;32m-> 1810\u001b[1;33m             \u001b[1;32mreturn\u001b[0m \u001b[0mfunc\u001b[0m\u001b[1;33m(\u001b[0m\u001b[0max\u001b[0m\u001b[1;33m,\u001b[0m \u001b[1;33m*\u001b[0m\u001b[0margs\u001b[0m\u001b[1;33m,\u001b[0m \u001b[1;33m**\u001b[0m\u001b[0mkwargs\u001b[0m\u001b[1;33m)\u001b[0m\u001b[1;33m\u001b[0m\u001b[1;33m\u001b[0m\u001b[0m\n\u001b[0m\u001b[0;32m   1811\u001b[0m \u001b[1;33m\u001b[0m\u001b[0m\n\u001b[0;32m   1812\u001b[0m         inner.__doc__ = _add_data_doc(inner.__doc__,\n",
      "\u001b[1;32m~\\Anaconda3\\lib\\site-packages\\matplotlib\\axes\\_axes.py\u001b[0m in \u001b[0;36mscatter\u001b[1;34m(self, x, y, s, c, marker, cmap, norm, vmin, vmax, alpha, linewidths, verts, edgecolors, **kwargs)\u001b[0m\n\u001b[0;32m   4243\u001b[0m                         \u001b[1;34m\"acceptable for use with 'x' with size {xs}, \"\u001b[0m\u001b[1;33m\u001b[0m\u001b[1;33m\u001b[0m\u001b[0m\n\u001b[0;32m   4244\u001b[0m                         \u001b[1;34m\"'y' with size {ys}.\"\u001b[0m\u001b[1;33m\u001b[0m\u001b[1;33m\u001b[0m\u001b[0m\n\u001b[1;32m-> 4245\u001b[1;33m                         \u001b[1;33m.\u001b[0m\u001b[0mformat\u001b[0m\u001b[1;33m(\u001b[0m\u001b[0mnc\u001b[0m\u001b[1;33m=\u001b[0m\u001b[0mn_elem\u001b[0m\u001b[1;33m,\u001b[0m \u001b[0mxs\u001b[0m\u001b[1;33m=\u001b[0m\u001b[0mx\u001b[0m\u001b[1;33m.\u001b[0m\u001b[0msize\u001b[0m\u001b[1;33m,\u001b[0m \u001b[0mys\u001b[0m\u001b[1;33m=\u001b[0m\u001b[0my\u001b[0m\u001b[1;33m.\u001b[0m\u001b[0msize\u001b[0m\u001b[1;33m)\u001b[0m\u001b[1;33m\u001b[0m\u001b[1;33m\u001b[0m\u001b[0m\n\u001b[0m\u001b[0;32m   4246\u001b[0m                     )\n\u001b[0;32m   4247\u001b[0m                 \u001b[1;31m# Both the mapping *and* the RGBA conversion failed: pretty\u001b[0m\u001b[1;33m\u001b[0m\u001b[1;33m\u001b[0m\u001b[1;33m\u001b[0m\u001b[0m\n",
      "\u001b[1;31mValueError\u001b[0m: 'c' argument has 3 elements, which is not acceptable for use with 'x' with size 30, 'y' with size 30."
     ]
    },
    {
     "data": {
      "image/png": "[encoded data removed]",
      "text/plain": [
       "<Figure size 432x288 with 1 Axes>"
      ]
     },
     "metadata": {
      "needs_background": "light"
     },
     "output_type": "display_data"
    }
   ],
   "source": [
    "import matplotlib.pyplot as plt \n",
    "import numpy as np  \n",
    "weight1=[67,57.2,59.6,59.64,55.8,61.2,60.45,61,56.23,56] \n",
    "height1=[101.7,197.6,98.3,125.1,113.7,157.7,136,148.9,125.3,114.9]  \n",
    "weight2=[61.9,64,62.1,64.2,62.3,65.4,62.4,61.4,62.5,63.6] \n",
    "height2=[152.8,155.3,135.1,125.2,151.3,135,182.2,195.9,165.1,125.1]  \n",
    "weight3=[68.2,67.2,68.4,68.7,71,71.3,70.8,70,71.1,71.7] \n",
    "height3=[165.8,170.9,192.8,135.4,161.4,136.1,167.1,235.1,181.1,177.3] \n",
    "weight=np.concatenate((weight1,weight2,weight3)) \n",
    "height=np.concatenate((height1,height2,height3)) \n",
    "plt.scatter(weight, height, marker='*', color=['red','green','blue']) \n",
    "plt.xlabel('weight', fontsize=16) \n",
    "plt.ylabel('height', fontsize=16) \n",
    "plt.title('Group wise Weight vs Height scatter plot',fontsize=20) \n",
    "plt.show() "
   ]
  },
  {
   "cell_type": "code",
   "execution_count": null,
   "metadata": {},
   "outputs": [],
   "source": [
    "Q150 dataset not found"
   ]
  },
  {
   "cell_type": "code",
   "execution_count": null,
   "metadata": {},
   "outputs": [],
   "source": [
    "import matplotlib.pyplot as plt \n",
    "import pandas as pd \n",
    "data = pd.read_csv('data.csv') \n",
    "year = data['year'] \n",
    "sea_levels = data['CSIRO_sea_level'] \n",
    "plt.scatter(year, sea_levels, edgecolors='g') \n",
    "plt.xlabel('Year') \n",
    "plt.ylabel('Sea Level (inches)') \n",
    "plt.title('Rise in Sealevel') \n",
    "plt.show() "
   ]
  }
 ],
 "metadata": {
  "kernelspec": {
   "display_name": "Python 3",
   "language": "python",
   "name": "python3"
  },
  "language_info": {
   "codemirror_mode": {
    "name": "ipython",
    "version": 3
   },
   "file_extension": ".py",
   "mimetype": "text/x-python",
   "name": "python",
   "nbconvert_exporter": "python",
   "pygments_lexer": "ipython3",
   "version": "3.7.3"
  }
 },
 "nbformat": 4,
 "nbformat_minor": 2
}
